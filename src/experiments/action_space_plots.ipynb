{
 "cells": [
  {
   "cell_type": "code",
   "execution_count": 1,
   "metadata": {},
   "outputs": [],
   "source": [
    "import pandas as pd\n",
    "import numpy as np\n",
    "import plotly.express as px\n",
    "import matplotlib.pyplot as plt"
   ]
  },
  {
   "cell_type": "code",
<<<<<<< HEAD
   "execution_count": 2,
   "metadata": {},
   "outputs": [],
   "source": [
    "df = pd.read_pickle(\"../../../actionspace_final/action_space.pkl\")\n",
=======
   "execution_count": 31,
   "metadata": {},
   "outputs": [],
   "source": [
    "df = pd.read_pickle(\"../../../actionspace_td3/action_space.pkl\")\n",
>>>>>>> b0a222ec1c9d18d90720ffd2b521e9fb4e0ca97c
    "df[\"model\"] = df[\"model\"].apply(lambda x: x.split(\"/\")[-1])\n",
    "df[\"opponent\"] = df[\"opponent\"].apply(lambda x: x.split(\"/\")[-1])\n",
    "df[\"model\"].replace(\"best_old\", \"ppo\", inplace=True)\n",
    "df[\"model\"].replace(\"td3_corne\", \"td3\", inplace=True)"
   ]
  },
  {
   "cell_type": "code",
<<<<<<< HEAD
   "execution_count": 3,
   "metadata": {},
   "outputs": [],
   "source": [
    "df[\"model\"] = df[\"model\"].apply(lambda x: x.upper())\n",
    "\n",
    "def add_r(x):\n",
    "    # get index of all number\n",
    "    idx = [i for i, ltr in enumerate(x) if ltr.isdigit()]\n",
    "    # if R in front of number do nothing\n",
    "    if x[idx[-1] - 1] == \"R\":\n",
    "        return x\n",
    "    # esle add R in front of number\n",
    "    else:\n",
    "        return x[:idx[-1]] + \"R\" + x[idx[-1]:]\n",
    "        \n",
    "    \n",
    "    \n",
    "\n",
    "df[\"model\"] = df[\"model\"].apply(lambda x: add_r(x))\n",
    "#df"
   ]
  },
  {
   "cell_type": "code",
   "execution_count": 4,
=======
   "execution_count": 32,
>>>>>>> b0a222ec1c9d18d90720ffd2b521e9fb4e0ca97c
   "metadata": {},
   "outputs": [
    {
     "data": {
      "text/html": [
       "<div>\n",
       "<style scoped>\n",
       "    .dataframe tbody tr th:only-of-type {\n",
       "        vertical-align: middle;\n",
       "    }\n",
       "\n",
       "    .dataframe tbody tr th {\n",
       "        vertical-align: top;\n",
       "    }\n",
       "\n",
       "    .dataframe thead th {\n",
       "        text-align: right;\n",
       "    }\n",
       "</style>\n",
       "<table border=\"1\" class=\"dataframe\">\n",
       "  <thead>\n",
       "    <tr style=\"text-align: right;\">\n",
       "      <th></th>\n",
       "      <th>action_space</th>\n",
       "      <th>observation_space</th>\n",
       "      <th>reward_space</th>\n",
       "      <th>model</th>\n",
       "      <th>opponent</th>\n",
       "    </tr>\n",
       "  </thead>\n",
       "  <tbody>\n",
       "    <tr>\n",
<<<<<<< HEAD
       "      <th>8</th>\n",
       "      <td>[[0.46195265650749207, -0.14779751002788544, 0...</td>\n",
       "      <td>[[-2.9828364849090576, -0.0023648738861083984,...</td>\n",
       "      <td>[[0.0], [0.0], [0.0], [0.0], [0.0], [0.0], [0....</td>\n",
       "      <td>GSDE_PPO_R0</td>\n",
       "      <td>strong</td>\n",
       "    </tr>\n",
       "    <tr>\n",
       "      <th>7</th>\n",
       "      <td>[[-0.1334519386291504, -0.291684091091156, 0.4...</td>\n",
       "      <td>[[-3.0049943923950195, -0.008409738540649414, ...</td>\n",
       "      <td>[[0.0], [0.0], [0.0], [0.0], [0.0], [0.0], [0....</td>\n",
       "      <td>GSDE_PPO_R1</td>\n",
       "      <td>strong</td>\n",
       "    </tr>\n",
       "    <tr>\n",
       "      <th>13</th>\n",
       "      <td>[[-0.3890078067779541, -0.09619807451963425, -...</td>\n",
       "      <td>[[-3.0144872665405273, -0.003616809844970703, ...</td>\n",
       "      <td>[[0.0], [0.0], [0.0], [0.0], [0.0], [0.0], [0....</td>\n",
       "      <td>GSDE_PPO_R2</td>\n",
       "      <td>strong</td>\n",
       "    </tr>\n",
       "    <tr>\n",
       "      <th>0</th>\n",
       "      <td>[[0.7741513252258301, -0.18507781624794006, 0....</td>\n",
       "      <td>[[-2.971194267272949, -0.0044403076171875, 0.0...</td>\n",
       "      <td>[[0.0], [0.0], [0.0], [0.0], [0.0], [0.0], [0....</td>\n",
       "      <td>GSDE_PPO_R2_ONLYSELFPLAY</td>\n",
       "      <td>strong</td>\n",
       "    </tr>\n",
       "    <tr>\n",
       "      <th>10</th>\n",
       "      <td>[[1.0, 1.0, 1.0, 0.14031901955604553], [1.0, 0...</td>\n",
       "      <td>[[-2.9628634452819824, 0.042307376861572266, 0...</td>\n",
       "      <td>[[0.0], [0.0], [0.0], [0.0], [0.0], [0.0], [0....</td>\n",
       "      <td>PPO_R0_NO_SELFPLAY</td>\n",
       "      <td>strong</td>\n",
       "    </tr>\n",
       "    <tr>\n",
       "      <th>15</th>\n",
       "      <td>[[1.0, 1.0, 0.9367190599441528, 0.124916285276...</td>\n",
       "      <td>[[-2.96285080909729, 0.041986942291259766, 0.0...</td>\n",
       "      <td>[[0.0], [0.0], [0.0], [0.0], [0.0], [0.0], [0....</td>\n",
       "      <td>PPO_R0_SELFPLAY</td>\n",
       "      <td>strong</td>\n",
       "    </tr>\n",
       "    <tr>\n",
       "      <th>1</th>\n",
       "      <td>[[0.427992582321167, 0.5357388257980347, -0.82...</td>\n",
       "      <td>[[-2.984132766723633, 0.0157623291015625, -0.0...</td>\n",
       "      <td>[[0.0], [0.0], [0.0], [0.0], [0.0], [0.0], [0....</td>\n",
       "      <td>PPO_R1_NO_SELFPLAY</td>\n",
       "      <td>strong</td>\n",
       "    </tr>\n",
       "    <tr>\n",
       "      <th>16</th>\n",
       "      <td>[[0.14670948684215546, 0.007959616370499134, -...</td>\n",
       "      <td>[[-2.9945380687713623, -0.0003733634948730469,...</td>\n",
       "      <td>[[0.0], [0.0], [0.0], [0.0], [0.0], [0.0], [0....</td>\n",
       "      <td>PPO_R1_SELFPLAY</td>\n",
=======
       "      <th>0</th>\n",
       "      <td>[[0.9999988079071045, 0.9944448471069336, 1.0,...</td>\n",
       "      <td>[[-2.9628634452819824, 0.04210042953491211, 0....</td>\n",
       "      <td>[[0.0], [0.0], [0.0], [0.0], [0.0], [0.0], [0....</td>\n",
       "      <td>td3_0_no_self</td>\n",
       "      <td>weak</td>\n",
       "    </tr>\n",
       "    <tr>\n",
       "      <th>1</th>\n",
       "      <td>[[0.9051744937896729, -0.879397988319397, -0.9...</td>\n",
       "      <td>[[-2.9663949012756348, -0.03781485557556152, -...</td>\n",
       "      <td>[[0.0], [0.0], [0.0], [0.0], [0.0], [0.0], [0....</td>\n",
       "      <td>td3_0_no_self</td>\n",
       "      <td>strong</td>\n",
       "    </tr>\n",
       "    <tr>\n",
       "      <th>2</th>\n",
       "      <td>[[0.07931435108184814, 0.9991507530212402, -0....</td>\n",
       "      <td>[[-2.9971511363983154, 0.03214597702026367, -0...</td>\n",
       "      <td>[[0.0], [0.0], [0.0], [0.0], [0.0], [0.0], [0....</td>\n",
       "      <td>td3_0_with_self</td>\n",
       "      <td>weak</td>\n",
       "    </tr>\n",
       "    <tr>\n",
       "      <th>3</th>\n",
       "      <td>[[-0.9982754588127136, -0.30659985542297363, -...</td>\n",
       "      <td>[[-3.0371904373168945, -0.013215065002441406, ...</td>\n",
       "      <td>[[0.0], [0.0], [0.0], [0.0], [0.0], [0.0], [0....</td>\n",
       "      <td>td3_0_with_self</td>\n",
>>>>>>> b0a222ec1c9d18d90720ffd2b521e9fb4e0ca97c
       "      <td>strong</td>\n",
       "    </tr>\n",
       "    <tr>\n",
       "      <th>4</th>\n",
<<<<<<< HEAD
       "      <td>[[-0.08885730057954788, 0.0619046688079834, -0...</td>\n",
       "      <td>[[-3.003309726715088, 0.00189971923828125, -0....</td>\n",
       "      <td>[[0.0], [0.0], [0.0], [0.0], [0.0], [0.0], [0....</td>\n",
       "      <td>PPO_R2_NO_SELFPLAY</td>\n",
=======
       "      <td>[[-0.9999986886978149, 0.9700437784194946, -0....</td>\n",
       "      <td>[[-3.037346363067627, 0.031059741973876953, -0...</td>\n",
       "      <td>[[0.0], [0.0], [0.0], [0.0], [0.0], [0.0], [0....</td>\n",
       "      <td>td3_2_with_self</td>\n",
       "      <td>weak</td>\n",
       "    </tr>\n",
       "    <tr>\n",
       "      <th>5</th>\n",
       "      <td>[[0.9992852210998535, 0.8863569498062134, 0.99...</td>\n",
       "      <td>[[-2.962888240814209, 0.03803110122680664, 0.0...</td>\n",
       "      <td>[[0.0], [0.0], [0.0], [0.0], [0.0], [0.0], [0....</td>\n",
       "      <td>td3_2_with_self</td>\n",
>>>>>>> b0a222ec1c9d18d90720ffd2b521e9fb4e0ca97c
       "      <td>strong</td>\n",
       "    </tr>\n",
       "    <tr>\n",
       "      <th>6</th>\n",
<<<<<<< HEAD
       "      <td>[[-1.0, -0.7984675168991089, -0.41318309307098...</td>\n",
       "      <td>[[-3.037259101867676, -0.0318295955657959, -0....</td>\n",
       "      <td>[[0.0], [0.0], [0.0], [0.0], [0.0], [0.0], [0....</td>\n",
       "      <td>PPO_R2_ONLYSELFPLAY</td>\n",
       "      <td>strong</td>\n",
       "    </tr>\n",
       "    <tr>\n",
       "      <th>5</th>\n",
       "      <td>[[-0.061942048370838165, 0.017010178416967392,...</td>\n",
       "      <td>[[-3.002321243286133, -0.0012392997741699219, ...</td>\n",
       "      <td>[[0.0], [0.0], [0.0], [0.0], [0.0], [0.0], [0....</td>\n",
       "      <td>PPO_R2_SELFPLAY</td>\n",
       "      <td>strong</td>\n",
       "    </tr>\n",
       "    <tr>\n",
       "      <th>14</th>\n",
       "      <td>[[-0.5246134400367737, 0.9997713565826416, -0....</td>\n",
       "      <td>[[-3.019641637802124, 0.032181739807128906, -0...</td>\n",
       "      <td>[[0.0], [0.0], [0.0], [0.0], [0.0], [0.0], [0....</td>\n",
       "      <td>TD3_R0_NO_SELFPLAY</td>\n",
       "      <td>strong</td>\n",
       "    </tr>\n",
       "    <tr>\n",
       "      <th>9</th>\n",
       "      <td>[[-0.013781607151031494, -0.7659105062484741, ...</td>\n",
       "      <td>[[-3.000610828399658, -0.03340864181518555, -0...</td>\n",
       "      <td>[[0.0], [0.0], [0.0], [0.0], [0.0], [0.0], [0....</td>\n",
       "      <td>TD3_R0_WITH_SELFPLAY</td>\n",
       "      <td>strong</td>\n",
       "    </tr>\n",
       "    <tr>\n",
       "      <th>3</th>\n",
       "      <td>[[-0.9999098777770996, -0.9999991059303284, 0....</td>\n",
       "      <td>[[-3.0373430252075195, -0.03217577934265137, 0...</td>\n",
       "      <td>[[0.0], [0.0], [0.0], [0.0], [0.0], [0.0], [0....</td>\n",
       "      <td>TD3_R1_NO_SELFPLAY</td>\n",
       "      <td>strong</td>\n",
       "    </tr>\n",
       "    <tr>\n",
       "      <th>11</th>\n",
       "      <td>[[-0.9985194802284241, 0.9988772869110107, -0....</td>\n",
       "      <td>[[-3.0372414588928223, 0.0335230827331543, -0....</td>\n",
       "      <td>[[0.0], [0.0], [0.0], [0.0], [0.0], [0.0], [0....</td>\n",
       "      <td>TD3_R1_WITH_SELFPLAY</td>\n",
       "      <td>strong</td>\n",
       "    </tr>\n",
       "    <tr>\n",
       "      <th>2</th>\n",
       "      <td>[[0.9988815784454346, 0.520369291305542, -0.86...</td>\n",
       "      <td>[[-2.962878465652466, 0.015004158020019531, -0...</td>\n",
       "      <td>[[0.0], [0.0], [0.0], [0.0], [0.0], [0.0], [0....</td>\n",
       "      <td>TD3_R2_NO_SELFPLAY</td>\n",
       "      <td>strong</td>\n",
       "    </tr>\n",
       "    <tr>\n",
       "      <th>12</th>\n",
       "      <td>[[0.9999814033508301, 0.3348405361175537, 0.99...</td>\n",
       "      <td>[[-2.9628639221191406, 0.017524242401123047, 0...</td>\n",
       "      <td>[[0.0], [0.0], [0.0], [0.0], [0.0], [0.0], [0....</td>\n",
       "      <td>TD3_R2_WITH_SELFPLAY</td>\n",
=======
       "      <td>[[-0.9997925758361816, 0.9999995231628418, 0.9...</td>\n",
       "      <td>[[-3.0373384952545166, 0.042307376861572266, 0...</td>\n",
       "      <td>[[0.0], [0.0], [0.0], [0.0], [0.0], [0.0], [0....</td>\n",
       "      <td>td3_2_no_self</td>\n",
       "      <td>weak</td>\n",
       "    </tr>\n",
       "    <tr>\n",
       "      <th>7</th>\n",
       "      <td>[[-0.9989249110221863, 0.9999940395355225, 0.9...</td>\n",
       "      <td>[[-3.037306308746338, 0.04230690002441406, 0.0...</td>\n",
       "      <td>[[0.0], [0.0], [0.0], [0.0], [0.0], [0.0], [0....</td>\n",
       "      <td>td3_2_no_self</td>\n",
>>>>>>> b0a222ec1c9d18d90720ffd2b521e9fb4e0ca97c
       "      <td>strong</td>\n",
       "    </tr>\n",
       "  </tbody>\n",
       "</table>\n",
       "</div>"
      ],
      "text/plain": [
<<<<<<< HEAD
       "                                         action_space  \\\n",
       "8   [[0.46195265650749207, -0.14779751002788544, 0...   \n",
       "7   [[-0.1334519386291504, -0.291684091091156, 0.4...   \n",
       "13  [[-0.3890078067779541, -0.09619807451963425, -...   \n",
       "0   [[0.7741513252258301, -0.18507781624794006, 0....   \n",
       "10  [[1.0, 1.0, 1.0, 0.14031901955604553], [1.0, 0...   \n",
       "15  [[1.0, 1.0, 0.9367190599441528, 0.124916285276...   \n",
       "1   [[0.427992582321167, 0.5357388257980347, -0.82...   \n",
       "16  [[0.14670948684215546, 0.007959616370499134, -...   \n",
       "4   [[-0.08885730057954788, 0.0619046688079834, -0...   \n",
       "6   [[-1.0, -0.7984675168991089, -0.41318309307098...   \n",
       "5   [[-0.061942048370838165, 0.017010178416967392,...   \n",
       "14  [[-0.5246134400367737, 0.9997713565826416, -0....   \n",
       "9   [[-0.013781607151031494, -0.7659105062484741, ...   \n",
       "3   [[-0.9999098777770996, -0.9999991059303284, 0....   \n",
       "11  [[-0.9985194802284241, 0.9988772869110107, -0....   \n",
       "2   [[0.9988815784454346, 0.520369291305542, -0.86...   \n",
       "12  [[0.9999814033508301, 0.3348405361175537, 0.99...   \n",
       "\n",
       "                                    observation_space  \\\n",
       "8   [[-2.9828364849090576, -0.0023648738861083984,...   \n",
       "7   [[-3.0049943923950195, -0.008409738540649414, ...   \n",
       "13  [[-3.0144872665405273, -0.003616809844970703, ...   \n",
       "0   [[-2.971194267272949, -0.0044403076171875, 0.0...   \n",
       "10  [[-2.9628634452819824, 0.042307376861572266, 0...   \n",
       "15  [[-2.96285080909729, 0.041986942291259766, 0.0...   \n",
       "1   [[-2.984132766723633, 0.0157623291015625, -0.0...   \n",
       "16  [[-2.9945380687713623, -0.0003733634948730469,...   \n",
       "4   [[-3.003309726715088, 0.00189971923828125, -0....   \n",
       "6   [[-3.037259101867676, -0.0318295955657959, -0....   \n",
       "5   [[-3.002321243286133, -0.0012392997741699219, ...   \n",
       "14  [[-3.019641637802124, 0.032181739807128906, -0...   \n",
       "9   [[-3.000610828399658, -0.03340864181518555, -0...   \n",
       "3   [[-3.0373430252075195, -0.03217577934265137, 0...   \n",
       "11  [[-3.0372414588928223, 0.0335230827331543, -0....   \n",
       "2   [[-2.962878465652466, 0.015004158020019531, -0...   \n",
       "12  [[-2.9628639221191406, 0.017524242401123047, 0...   \n",
       "\n",
       "                                         reward_space  \\\n",
       "8   [[0.0], [0.0], [0.0], [0.0], [0.0], [0.0], [0....   \n",
       "7   [[0.0], [0.0], [0.0], [0.0], [0.0], [0.0], [0....   \n",
       "13  [[0.0], [0.0], [0.0], [0.0], [0.0], [0.0], [0....   \n",
       "0   [[0.0], [0.0], [0.0], [0.0], [0.0], [0.0], [0....   \n",
       "10  [[0.0], [0.0], [0.0], [0.0], [0.0], [0.0], [0....   \n",
       "15  [[0.0], [0.0], [0.0], [0.0], [0.0], [0.0], [0....   \n",
       "1   [[0.0], [0.0], [0.0], [0.0], [0.0], [0.0], [0....   \n",
       "16  [[0.0], [0.0], [0.0], [0.0], [0.0], [0.0], [0....   \n",
       "4   [[0.0], [0.0], [0.0], [0.0], [0.0], [0.0], [0....   \n",
       "6   [[0.0], [0.0], [0.0], [0.0], [0.0], [0.0], [0....   \n",
       "5   [[0.0], [0.0], [0.0], [0.0], [0.0], [0.0], [0....   \n",
       "14  [[0.0], [0.0], [0.0], [0.0], [0.0], [0.0], [0....   \n",
       "9   [[0.0], [0.0], [0.0], [0.0], [0.0], [0.0], [0....   \n",
       "3   [[0.0], [0.0], [0.0], [0.0], [0.0], [0.0], [0....   \n",
       "11  [[0.0], [0.0], [0.0], [0.0], [0.0], [0.0], [0....   \n",
       "2   [[0.0], [0.0], [0.0], [0.0], [0.0], [0.0], [0....   \n",
       "12  [[0.0], [0.0], [0.0], [0.0], [0.0], [0.0], [0....   \n",
       "\n",
       "                       model opponent  \n",
       "8                GSDE_PPO_R0   strong  \n",
       "7                GSDE_PPO_R1   strong  \n",
       "13               GSDE_PPO_R2   strong  \n",
       "0   GSDE_PPO_R2_ONLYSELFPLAY   strong  \n",
       "10        PPO_R0_NO_SELFPLAY   strong  \n",
       "15           PPO_R0_SELFPLAY   strong  \n",
       "1         PPO_R1_NO_SELFPLAY   strong  \n",
       "16           PPO_R1_SELFPLAY   strong  \n",
       "4         PPO_R2_NO_SELFPLAY   strong  \n",
       "6        PPO_R2_ONLYSELFPLAY   strong  \n",
       "5            PPO_R2_SELFPLAY   strong  \n",
       "14        TD3_R0_NO_SELFPLAY   strong  \n",
       "9       TD3_R0_WITH_SELFPLAY   strong  \n",
       "3         TD3_R1_NO_SELFPLAY   strong  \n",
       "11      TD3_R1_WITH_SELFPLAY   strong  \n",
       "2         TD3_R2_NO_SELFPLAY   strong  \n",
       "12      TD3_R2_WITH_SELFPLAY   strong  "
      ]
     },
     "execution_count": 4,
=======
       "                                        action_space  \\\n",
       "0  [[0.9999988079071045, 0.9944448471069336, 1.0,...   \n",
       "1  [[0.9051744937896729, -0.879397988319397, -0.9...   \n",
       "2  [[0.07931435108184814, 0.9991507530212402, -0....   \n",
       "3  [[-0.9982754588127136, -0.30659985542297363, -...   \n",
       "4  [[-0.9999986886978149, 0.9700437784194946, -0....   \n",
       "5  [[0.9992852210998535, 0.8863569498062134, 0.99...   \n",
       "6  [[-0.9997925758361816, 0.9999995231628418, 0.9...   \n",
       "7  [[-0.9989249110221863, 0.9999940395355225, 0.9...   \n",
       "\n",
       "                                   observation_space  \\\n",
       "0  [[-2.9628634452819824, 0.04210042953491211, 0....   \n",
       "1  [[-2.9663949012756348, -0.03781485557556152, -...   \n",
       "2  [[-2.9971511363983154, 0.03214597702026367, -0...   \n",
       "3  [[-3.0371904373168945, -0.013215065002441406, ...   \n",
       "4  [[-3.037346363067627, 0.031059741973876953, -0...   \n",
       "5  [[-2.962888240814209, 0.03803110122680664, 0.0...   \n",
       "6  [[-3.0373384952545166, 0.042307376861572266, 0...   \n",
       "7  [[-3.037306308746338, 0.04230690002441406, 0.0...   \n",
       "\n",
       "                                        reward_space            model opponent  \n",
       "0  [[0.0], [0.0], [0.0], [0.0], [0.0], [0.0], [0....    td3_0_no_self     weak  \n",
       "1  [[0.0], [0.0], [0.0], [0.0], [0.0], [0.0], [0....    td3_0_no_self   strong  \n",
       "2  [[0.0], [0.0], [0.0], [0.0], [0.0], [0.0], [0....  td3_0_with_self     weak  \n",
       "3  [[0.0], [0.0], [0.0], [0.0], [0.0], [0.0], [0....  td3_0_with_self   strong  \n",
       "4  [[0.0], [0.0], [0.0], [0.0], [0.0], [0.0], [0....  td3_2_with_self     weak  \n",
       "5  [[0.0], [0.0], [0.0], [0.0], [0.0], [0.0], [0....  td3_2_with_self   strong  \n",
       "6  [[0.0], [0.0], [0.0], [0.0], [0.0], [0.0], [0....    td3_2_no_self     weak  \n",
       "7  [[0.0], [0.0], [0.0], [0.0], [0.0], [0.0], [0....    td3_2_no_self   strong  "
      ]
     },
     "execution_count": 32,
>>>>>>> b0a222ec1c9d18d90720ffd2b521e9fb4e0ca97c
     "metadata": {},
     "output_type": "execute_result"
    }
   ],
   "source": [
    "df.sort_values(by=[\"model\"])"
   ]
  },
  {
   "cell_type": "code",
<<<<<<< HEAD
   "execution_count": 26,
=======
   "execution_count": 33,
>>>>>>> b0a222ec1c9d18d90720ffd2b521e9fb4e0ca97c
   "metadata": {},
   "outputs": [
    {
     "data": {
      "application/vnd.plotly.v1+json": {
       "config": {
        "plotlyServerURL": "https://plot.ly"
       },
       "data": [
        {
<<<<<<< HEAD
         "hovertemplate": "model=TD3_R2_NO_SELFPLAY<br>action_space=%{r}<br>theta=%{theta}<extra></extra>",
         "legendgroup": "TD3_R2_NO_SELFPLAY",
=======
         "hovertemplate": "model=td3_0_no_self<br>action_space=%{r}<br>theta=%{theta}<extra></extra>",
         "legendgroup": "td3_0_no_self",
>>>>>>> b0a222ec1c9d18d90720ffd2b521e9fb4e0ca97c
         "line": {
          "color": "#636efa",
          "dash": "solid"
         },
         "marker": {
          "symbol": "circle"
         },
         "mode": "lines",
<<<<<<< HEAD
         "name": "TD3_R2_NO_SELFPLAY",
         "r": [
          -0.20111832851528536,
          0.0027750192726932843,
          0.163217199289245,
          -0.1576148125616182,
          -0.20111832851528536
=======
         "name": "td3_0_no_self",
         "r": [
          0.08608016465982431,
          0.0305379130690343,
          0.009125738047392863,
          -0.011143932297818591,
          0.08608016465982431
>>>>>>> b0a222ec1c9d18d90720ffd2b521e9fb4e0ca97c
         ],
         "showlegend": true,
         "subplot": "polar",
         "theta": [
          "a1",
          "a2",
          "a3",
          "a4",
          "a1"
         ],
         "type": "scatterpolar"
        },
        {
<<<<<<< HEAD
         "hovertemplate": "model=TD3_R0_WITH_SELFPLAY<br>action_space=%{r}<br>theta=%{theta}<extra></extra>",
         "legendgroup": "TD3_R0_WITH_SELFPLAY",
=======
         "hovertemplate": "model=td3_0_with_self<br>action_space=%{r}<br>theta=%{theta}<extra></extra>",
         "legendgroup": "td3_0_with_self",
>>>>>>> b0a222ec1c9d18d90720ffd2b521e9fb4e0ca97c
         "line": {
          "color": "#EF553B",
          "dash": "solid"
         },
         "marker": {
          "symbol": "circle"
         },
         "mode": "lines",
<<<<<<< HEAD
         "name": "TD3_R0_WITH_SELFPLAY",
         "r": [
          0.2828732776943023,
          0.038555528759223766,
          -0.3800987142004955,
          0.08497540268241932,
          0.2828732776943023
=======
         "name": "td3_0_with_self",
         "r": [
          0.2875430626850909,
          0.040430593339175314,
          -0.38786343941399914,
          0.08193053397782725,
          0.2875430626850909
>>>>>>> b0a222ec1c9d18d90720ffd2b521e9fb4e0ca97c
         ],
         "showlegend": true,
         "subplot": "polar",
         "theta": [
          "a1",
          "a2",
          "a3",
          "a4",
          "a1"
         ],
         "type": "scatterpolar"
        },
        {
<<<<<<< HEAD
         "hovertemplate": "model=TD3_R0_NO_SELFPLAY<br>action_space=%{r}<br>theta=%{theta}<extra></extra>",
         "legendgroup": "TD3_R0_NO_SELFPLAY",
=======
         "hovertemplate": "model=td3_2_with_self<br>action_space=%{r}<br>theta=%{theta}<extra></extra>",
         "legendgroup": "td3_2_with_self",
>>>>>>> b0a222ec1c9d18d90720ffd2b521e9fb4e0ca97c
         "line": {
          "color": "#00cc96",
          "dash": "solid"
         },
         "marker": {
          "symbol": "circle"
         },
         "mode": "lines",
<<<<<<< HEAD
         "name": "TD3_R0_NO_SELFPLAY",
         "r": [
          0.08840292219947864,
          0.03238526003535072,
          0.0005606681741136185,
          -0.007471701406027034,
          0.08840292219947864
=======
         "name": "td3_2_with_self",
         "r": [
          0.06868675446832574,
          0.002110538463151226,
          -0.0827558022163365,
          -0.246084599651195,
          0.06868675446832574
         ],
         "showlegend": true,
         "subplot": "polar",
         "theta": [
          "a1",
          "a2",
          "a3",
          "a4",
          "a1"
         ],
         "type": "scatterpolar"
        },
        {
         "hovertemplate": "model=td3_2_no_self<br>action_space=%{r}<br>theta=%{theta}<extra></extra>",
         "legendgroup": "td3_2_no_self",
         "line": {
          "color": "#ab63fa",
          "dash": "solid"
         },
         "marker": {
          "symbol": "circle"
         },
         "mode": "lines",
         "name": "td3_2_no_self",
         "r": [
          -0.19625638136435922,
          0.0044627425315441295,
          0.15922336971858236,
          -0.15407644360205236,
          -0.19625638136435922
>>>>>>> b0a222ec1c9d18d90720ffd2b521e9fb4e0ca97c
         ],
         "showlegend": true,
         "subplot": "polar",
         "theta": [
          "a1",
          "a2",
          "a3",
          "a4",
          "a1"
         ],
         "type": "scatterpolar"
        }
       ],
       "layout": {
        "autosize": false,
        "height": 600,
        "legend": {
         "font": {
          "family": "Courier",
          "size": 16
         },
         "title": {
          "text": "model"
         },
         "tracegroupgap": 0,
         "x": 0.01,
         "xanchor": "left",
         "y": 0.99,
         "yanchor": "top"
        },
        "margin": {
         "t": 60
        },
        "polar": {
         "angularaxis": {
          "direction": "clockwise",
          "rotation": 90
         },
         "domain": {
          "x": [
           0,
           1
          ],
          "y": [
           0,
           1
          ]
         },
         "radialaxis": {
          "range": [
           -0.3,
           0.5
          ]
         }
        },
        "template": {
         "data": {
          "bar": [
           {
            "error_x": {
             "color": "#2a3f5f"
            },
            "error_y": {
             "color": "#2a3f5f"
            },
            "marker": {
             "line": {
              "color": "#E5ECF6",
              "width": 0.5
             },
             "pattern": {
              "fillmode": "overlay",
              "size": 10,
              "solidity": 0.2
             }
            },
            "type": "bar"
           }
          ],
          "barpolar": [
           {
            "marker": {
             "line": {
              "color": "#E5ECF6",
              "width": 0.5
             },
             "pattern": {
              "fillmode": "overlay",
              "size": 10,
              "solidity": 0.2
             }
            },
            "type": "barpolar"
           }
          ],
          "carpet": [
           {
            "aaxis": {
             "endlinecolor": "#2a3f5f",
             "gridcolor": "white",
             "linecolor": "white",
             "minorgridcolor": "white",
             "startlinecolor": "#2a3f5f"
            },
            "baxis": {
             "endlinecolor": "#2a3f5f",
             "gridcolor": "white",
             "linecolor": "white",
             "minorgridcolor": "white",
             "startlinecolor": "#2a3f5f"
            },
            "type": "carpet"
           }
          ],
          "choropleth": [
           {
            "colorbar": {
             "outlinewidth": 0,
             "ticks": ""
            },
            "type": "choropleth"
           }
          ],
          "contour": [
           {
            "colorbar": {
             "outlinewidth": 0,
             "ticks": ""
            },
            "colorscale": [
             [
              0,
              "#0d0887"
             ],
             [
              0.1111111111111111,
              "#46039f"
             ],
             [
              0.2222222222222222,
              "#7201a8"
             ],
             [
              0.3333333333333333,
              "#9c179e"
             ],
             [
              0.4444444444444444,
              "#bd3786"
             ],
             [
              0.5555555555555556,
              "#d8576b"
             ],
             [
              0.6666666666666666,
              "#ed7953"
             ],
             [
              0.7777777777777778,
              "#fb9f3a"
             ],
             [
              0.8888888888888888,
              "#fdca26"
             ],
             [
              1,
              "#f0f921"
             ]
            ],
            "type": "contour"
           }
          ],
          "contourcarpet": [
           {
            "colorbar": {
             "outlinewidth": 0,
             "ticks": ""
            },
            "type": "contourcarpet"
           }
          ],
          "heatmap": [
           {
            "colorbar": {
             "outlinewidth": 0,
             "ticks": ""
            },
            "colorscale": [
             [
              0,
              "#0d0887"
             ],
             [
              0.1111111111111111,
              "#46039f"
             ],
             [
              0.2222222222222222,
              "#7201a8"
             ],
             [
              0.3333333333333333,
              "#9c179e"
             ],
             [
              0.4444444444444444,
              "#bd3786"
             ],
             [
              0.5555555555555556,
              "#d8576b"
             ],
             [
              0.6666666666666666,
              "#ed7953"
             ],
             [
              0.7777777777777778,
              "#fb9f3a"
             ],
             [
              0.8888888888888888,
              "#fdca26"
             ],
             [
              1,
              "#f0f921"
             ]
            ],
            "type": "heatmap"
           }
          ],
          "heatmapgl": [
           {
            "colorbar": {
             "outlinewidth": 0,
             "ticks": ""
            },
            "colorscale": [
             [
              0,
              "#0d0887"
             ],
             [
              0.1111111111111111,
              "#46039f"
             ],
             [
              0.2222222222222222,
              "#7201a8"
             ],
             [
              0.3333333333333333,
              "#9c179e"
             ],
             [
              0.4444444444444444,
              "#bd3786"
             ],
             [
              0.5555555555555556,
              "#d8576b"
             ],
             [
              0.6666666666666666,
              "#ed7953"
             ],
             [
              0.7777777777777778,
              "#fb9f3a"
             ],
             [
              0.8888888888888888,
              "#fdca26"
             ],
             [
              1,
              "#f0f921"
             ]
            ],
            "type": "heatmapgl"
           }
          ],
          "histogram": [
           {
            "marker": {
             "pattern": {
              "fillmode": "overlay",
              "size": 10,
              "solidity": 0.2
             }
            },
            "type": "histogram"
           }
          ],
          "histogram2d": [
           {
            "colorbar": {
             "outlinewidth": 0,
             "ticks": ""
            },
            "colorscale": [
             [
              0,
              "#0d0887"
             ],
             [
              0.1111111111111111,
              "#46039f"
             ],
             [
              0.2222222222222222,
              "#7201a8"
             ],
             [
              0.3333333333333333,
              "#9c179e"
             ],
             [
              0.4444444444444444,
              "#bd3786"
             ],
             [
              0.5555555555555556,
              "#d8576b"
             ],
             [
              0.6666666666666666,
              "#ed7953"
             ],
             [
              0.7777777777777778,
              "#fb9f3a"
             ],
             [
              0.8888888888888888,
              "#fdca26"
             ],
             [
              1,
              "#f0f921"
             ]
            ],
            "type": "histogram2d"
           }
          ],
          "histogram2dcontour": [
           {
            "colorbar": {
             "outlinewidth": 0,
             "ticks": ""
            },
            "colorscale": [
             [
              0,
              "#0d0887"
             ],
             [
              0.1111111111111111,
              "#46039f"
             ],
             [
              0.2222222222222222,
              "#7201a8"
             ],
             [
              0.3333333333333333,
              "#9c179e"
             ],
             [
              0.4444444444444444,
              "#bd3786"
             ],
             [
              0.5555555555555556,
              "#d8576b"
             ],
             [
              0.6666666666666666,
              "#ed7953"
             ],
             [
              0.7777777777777778,
              "#fb9f3a"
             ],
             [
              0.8888888888888888,
              "#fdca26"
             ],
             [
              1,
              "#f0f921"
             ]
            ],
            "type": "histogram2dcontour"
           }
          ],
          "mesh3d": [
           {
            "colorbar": {
             "outlinewidth": 0,
             "ticks": ""
            },
            "type": "mesh3d"
           }
          ],
          "parcoords": [
           {
            "line": {
             "colorbar": {
              "outlinewidth": 0,
              "ticks": ""
             }
            },
            "type": "parcoords"
           }
          ],
          "pie": [
           {
            "automargin": true,
            "type": "pie"
           }
          ],
          "scatter": [
           {
            "fillpattern": {
             "fillmode": "overlay",
             "size": 10,
             "solidity": 0.2
            },
            "type": "scatter"
           }
          ],
          "scatter3d": [
           {
            "line": {
             "colorbar": {
              "outlinewidth": 0,
              "ticks": ""
             }
            },
            "marker": {
             "colorbar": {
              "outlinewidth": 0,
              "ticks": ""
             }
            },
            "type": "scatter3d"
           }
          ],
          "scattercarpet": [
           {
            "marker": {
             "colorbar": {
              "outlinewidth": 0,
              "ticks": ""
             }
            },
            "type": "scattercarpet"
           }
          ],
          "scattergeo": [
           {
            "marker": {
             "colorbar": {
              "outlinewidth": 0,
              "ticks": ""
             }
            },
            "type": "scattergeo"
           }
          ],
          "scattergl": [
           {
            "marker": {
             "colorbar": {
              "outlinewidth": 0,
              "ticks": ""
             }
            },
            "type": "scattergl"
           }
          ],
          "scattermapbox": [
           {
            "marker": {
             "colorbar": {
              "outlinewidth": 0,
              "ticks": ""
             }
            },
            "type": "scattermapbox"
           }
          ],
          "scatterpolar": [
           {
            "marker": {
             "colorbar": {
              "outlinewidth": 0,
              "ticks": ""
             }
            },
            "type": "scatterpolar"
           }
          ],
          "scatterpolargl": [
           {
            "marker": {
             "colorbar": {
              "outlinewidth": 0,
              "ticks": ""
             }
            },
            "type": "scatterpolargl"
           }
          ],
          "scatterternary": [
           {
            "marker": {
             "colorbar": {
              "outlinewidth": 0,
              "ticks": ""
             }
            },
            "type": "scatterternary"
           }
          ],
          "surface": [
           {
            "colorbar": {
             "outlinewidth": 0,
             "ticks": ""
            },
            "colorscale": [
             [
              0,
              "#0d0887"
             ],
             [
              0.1111111111111111,
              "#46039f"
             ],
             [
              0.2222222222222222,
              "#7201a8"
             ],
             [
              0.3333333333333333,
              "#9c179e"
             ],
             [
              0.4444444444444444,
              "#bd3786"
             ],
             [
              0.5555555555555556,
              "#d8576b"
             ],
             [
              0.6666666666666666,
              "#ed7953"
             ],
             [
              0.7777777777777778,
              "#fb9f3a"
             ],
             [
              0.8888888888888888,
              "#fdca26"
             ],
             [
              1,
              "#f0f921"
             ]
            ],
            "type": "surface"
           }
          ],
          "table": [
           {
            "cells": {
             "fill": {
              "color": "#EBF0F8"
             },
             "line": {
              "color": "white"
             }
            },
            "header": {
             "fill": {
              "color": "#C8D4E3"
             },
             "line": {
              "color": "white"
             }
            },
            "type": "table"
           }
          ]
         },
         "layout": {
          "annotationdefaults": {
           "arrowcolor": "#2a3f5f",
           "arrowhead": 0,
           "arrowwidth": 1
          },
          "autotypenumbers": "strict",
          "coloraxis": {
           "colorbar": {
            "outlinewidth": 0,
            "ticks": ""
           }
          },
          "colorscale": {
           "diverging": [
            [
             0,
             "#8e0152"
            ],
            [
             0.1,
             "#c51b7d"
            ],
            [
             0.2,
             "#de77ae"
            ],
            [
             0.3,
             "#f1b6da"
            ],
            [
             0.4,
             "#fde0ef"
            ],
            [
             0.5,
             "#f7f7f7"
            ],
            [
             0.6,
             "#e6f5d0"
            ],
            [
             0.7,
             "#b8e186"
            ],
            [
             0.8,
             "#7fbc41"
            ],
            [
             0.9,
             "#4d9221"
            ],
            [
             1,
             "#276419"
            ]
           ],
           "sequential": [
            [
             0,
             "#0d0887"
            ],
            [
             0.1111111111111111,
             "#46039f"
            ],
            [
             0.2222222222222222,
             "#7201a8"
            ],
            [
             0.3333333333333333,
             "#9c179e"
            ],
            [
             0.4444444444444444,
             "#bd3786"
            ],
            [
             0.5555555555555556,
             "#d8576b"
            ],
            [
             0.6666666666666666,
             "#ed7953"
            ],
            [
             0.7777777777777778,
             "#fb9f3a"
            ],
            [
             0.8888888888888888,
             "#fdca26"
            ],
            [
             1,
             "#f0f921"
            ]
           ],
           "sequentialminus": [
            [
             0,
             "#0d0887"
            ],
            [
             0.1111111111111111,
             "#46039f"
            ],
            [
             0.2222222222222222,
             "#7201a8"
            ],
            [
             0.3333333333333333,
             "#9c179e"
            ],
            [
             0.4444444444444444,
             "#bd3786"
            ],
            [
             0.5555555555555556,
             "#d8576b"
            ],
            [
             0.6666666666666666,
             "#ed7953"
            ],
            [
             0.7777777777777778,
             "#fb9f3a"
            ],
            [
             0.8888888888888888,
             "#fdca26"
            ],
            [
             1,
             "#f0f921"
            ]
           ]
          },
          "colorway": [
           "#636efa",
           "#EF553B",
           "#00cc96",
           "#ab63fa",
           "#FFA15A",
           "#19d3f3",
           "#FF6692",
           "#B6E880",
           "#FF97FF",
           "#FECB52"
          ],
          "font": {
           "color": "#2a3f5f"
          },
          "geo": {
           "bgcolor": "white",
           "lakecolor": "white",
           "landcolor": "#E5ECF6",
           "showlakes": true,
           "showland": true,
           "subunitcolor": "white"
          },
          "hoverlabel": {
           "align": "left"
          },
          "hovermode": "closest",
          "mapbox": {
           "style": "light"
          },
          "paper_bgcolor": "white",
          "plot_bgcolor": "#E5ECF6",
          "polar": {
           "angularaxis": {
            "gridcolor": "white",
            "linecolor": "white",
            "ticks": ""
           },
           "bgcolor": "#E5ECF6",
           "radialaxis": {
            "gridcolor": "white",
            "linecolor": "white",
            "ticks": ""
           }
          },
          "scene": {
           "xaxis": {
            "backgroundcolor": "#E5ECF6",
            "gridcolor": "white",
            "gridwidth": 2,
            "linecolor": "white",
            "showbackground": true,
            "ticks": "",
            "zerolinecolor": "white"
           },
           "yaxis": {
            "backgroundcolor": "#E5ECF6",
            "gridcolor": "white",
            "gridwidth": 2,
            "linecolor": "white",
            "showbackground": true,
            "ticks": "",
            "zerolinecolor": "white"
           },
           "zaxis": {
            "backgroundcolor": "#E5ECF6",
            "gridcolor": "white",
            "gridwidth": 2,
            "linecolor": "white",
            "showbackground": true,
            "ticks": "",
            "zerolinecolor": "white"
           }
          },
          "shapedefaults": {
           "line": {
            "color": "#2a3f5f"
           }
          },
          "ternary": {
           "aaxis": {
            "gridcolor": "white",
            "linecolor": "white",
            "ticks": ""
           },
           "baxis": {
            "gridcolor": "white",
            "linecolor": "white",
            "ticks": ""
           },
           "bgcolor": "#E5ECF6",
           "caxis": {
            "gridcolor": "white",
            "linecolor": "white",
            "ticks": ""
           }
          },
          "title": {
           "x": 0.05
          },
          "xaxis": {
           "automargin": true,
           "gridcolor": "white",
           "linecolor": "white",
           "ticks": "",
           "title": {
            "standoff": 15
           },
           "zerolinecolor": "white",
           "zerolinewidth": 2
          },
          "yaxis": {
           "automargin": true,
           "gridcolor": "white",
           "linecolor": "white",
           "ticks": "",
           "title": {
            "standoff": 15
           },
           "zerolinecolor": "white",
           "zerolinewidth": 2
          }
         }
        },
<<<<<<< HEAD
        "width": 800
=======
        "title": {
         "text": "Action Space when opponent is weak"
        }
       }
      }
     },
     "metadata": {},
     "output_type": "display_data"
    },
    {
     "data": {
      "application/vnd.plotly.v1+json": {
       "config": {
        "plotlyServerURL": "https://plot.ly"
       },
       "data": [
        {
         "hovertemplate": "model=td3_0_no_self<br>action_space=%{r}<br>theta=%{theta}<extra></extra>",
         "legendgroup": "td3_0_no_self",
         "line": {
          "color": "#636efa",
          "dash": "solid"
         },
         "marker": {
          "symbol": "circle"
         },
         "mode": "lines",
         "name": "td3_0_no_self",
         "r": [
          0.08987249320180866,
          0.028384202612062818,
          -0.0014590617023728688,
          -0.013421726204740353,
          0.08987249320180866
         ],
         "showlegend": true,
         "subplot": "polar",
         "theta": [
          "a1",
          "a2",
          "a3",
          "a4",
          "a1"
         ],
         "type": "scatterpolar"
        },
        {
         "hovertemplate": "model=td3_0_with_self<br>action_space=%{r}<br>theta=%{theta}<extra></extra>",
         "legendgroup": "td3_0_with_self",
         "line": {
          "color": "#EF553B",
          "dash": "solid"
         },
         "marker": {
          "symbol": "circle"
         },
         "mode": "lines",
         "name": "td3_0_with_self",
         "r": [
          0.2848526983202821,
          0.036260763394536544,
          -0.4022905334960354,
          0.09590538884709081,
          0.2848526983202821
         ],
         "showlegend": true,
         "subplot": "polar",
         "theta": [
          "a1",
          "a2",
          "a3",
          "a4",
          "a1"
         ],
         "type": "scatterpolar"
        },
        {
         "hovertemplate": "model=td3_2_with_self<br>action_space=%{r}<br>theta=%{theta}<extra></extra>",
         "legendgroup": "td3_2_with_self",
         "line": {
          "color": "#00cc96",
          "dash": "solid"
         },
         "marker": {
          "symbol": "circle"
         },
         "mode": "lines",
         "name": "td3_2_with_self",
         "r": [
          0.06462555922180514,
          0.000164662100327476,
          -0.07708679609407373,
          -0.2507762264897298,
          0.06462555922180514
         ],
         "showlegend": true,
         "subplot": "polar",
         "theta": [
          "a1",
          "a2",
          "a3",
          "a4",
          "a1"
         ],
         "type": "scatterpolar"
        },
        {
         "hovertemplate": "model=td3_2_no_self<br>action_space=%{r}<br>theta=%{theta}<extra></extra>",
         "legendgroup": "td3_2_no_self",
         "line": {
          "color": "#ab63fa",
          "dash": "solid"
         },
         "marker": {
          "symbol": "circle"
         },
         "mode": "lines",
         "name": "td3_2_no_self",
         "r": [
          -0.20146479427888705,
          0.010522533362550128,
          0.18956543807495074,
          -0.16712010702288516,
          -0.20146479427888705
         ],
         "showlegend": true,
         "subplot": "polar",
         "theta": [
          "a1",
          "a2",
          "a3",
          "a4",
          "a1"
         ],
         "type": "scatterpolar"
        }
       ],
       "layout": {
        "legend": {
         "title": {
          "text": "model"
         },
         "tracegroupgap": 0
        },
        "polar": {
         "angularaxis": {
          "direction": "clockwise",
          "rotation": 90
         },
         "domain": {
          "x": [
           0,
           1
          ],
          "y": [
           0,
           1
          ]
         }
        },
        "template": {
         "data": {
          "bar": [
           {
            "error_x": {
             "color": "#2a3f5f"
            },
            "error_y": {
             "color": "#2a3f5f"
            },
            "marker": {
             "line": {
              "color": "#E5ECF6",
              "width": 0.5
             },
             "pattern": {
              "fillmode": "overlay",
              "size": 10,
              "solidity": 0.2
             }
            },
            "type": "bar"
           }
          ],
          "barpolar": [
           {
            "marker": {
             "line": {
              "color": "#E5ECF6",
              "width": 0.5
             },
             "pattern": {
              "fillmode": "overlay",
              "size": 10,
              "solidity": 0.2
             }
            },
            "type": "barpolar"
           }
          ],
          "carpet": [
           {
            "aaxis": {
             "endlinecolor": "#2a3f5f",
             "gridcolor": "white",
             "linecolor": "white",
             "minorgridcolor": "white",
             "startlinecolor": "#2a3f5f"
            },
            "baxis": {
             "endlinecolor": "#2a3f5f",
             "gridcolor": "white",
             "linecolor": "white",
             "minorgridcolor": "white",
             "startlinecolor": "#2a3f5f"
            },
            "type": "carpet"
           }
          ],
          "choropleth": [
           {
            "colorbar": {
             "outlinewidth": 0,
             "ticks": ""
            },
            "type": "choropleth"
           }
          ],
          "contour": [
           {
            "colorbar": {
             "outlinewidth": 0,
             "ticks": ""
            },
            "colorscale": [
             [
              0,
              "#0d0887"
             ],
             [
              0.1111111111111111,
              "#46039f"
             ],
             [
              0.2222222222222222,
              "#7201a8"
             ],
             [
              0.3333333333333333,
              "#9c179e"
             ],
             [
              0.4444444444444444,
              "#bd3786"
             ],
             [
              0.5555555555555556,
              "#d8576b"
             ],
             [
              0.6666666666666666,
              "#ed7953"
             ],
             [
              0.7777777777777778,
              "#fb9f3a"
             ],
             [
              0.8888888888888888,
              "#fdca26"
             ],
             [
              1,
              "#f0f921"
             ]
            ],
            "type": "contour"
           }
          ],
          "contourcarpet": [
           {
            "colorbar": {
             "outlinewidth": 0,
             "ticks": ""
            },
            "type": "contourcarpet"
           }
          ],
          "heatmap": [
           {
            "colorbar": {
             "outlinewidth": 0,
             "ticks": ""
            },
            "colorscale": [
             [
              0,
              "#0d0887"
             ],
             [
              0.1111111111111111,
              "#46039f"
             ],
             [
              0.2222222222222222,
              "#7201a8"
             ],
             [
              0.3333333333333333,
              "#9c179e"
             ],
             [
              0.4444444444444444,
              "#bd3786"
             ],
             [
              0.5555555555555556,
              "#d8576b"
             ],
             [
              0.6666666666666666,
              "#ed7953"
             ],
             [
              0.7777777777777778,
              "#fb9f3a"
             ],
             [
              0.8888888888888888,
              "#fdca26"
             ],
             [
              1,
              "#f0f921"
             ]
            ],
            "type": "heatmap"
           }
          ],
          "heatmapgl": [
           {
            "colorbar": {
             "outlinewidth": 0,
             "ticks": ""
            },
            "colorscale": [
             [
              0,
              "#0d0887"
             ],
             [
              0.1111111111111111,
              "#46039f"
             ],
             [
              0.2222222222222222,
              "#7201a8"
             ],
             [
              0.3333333333333333,
              "#9c179e"
             ],
             [
              0.4444444444444444,
              "#bd3786"
             ],
             [
              0.5555555555555556,
              "#d8576b"
             ],
             [
              0.6666666666666666,
              "#ed7953"
             ],
             [
              0.7777777777777778,
              "#fb9f3a"
             ],
             [
              0.8888888888888888,
              "#fdca26"
             ],
             [
              1,
              "#f0f921"
             ]
            ],
            "type": "heatmapgl"
           }
          ],
          "histogram": [
           {
            "marker": {
             "pattern": {
              "fillmode": "overlay",
              "size": 10,
              "solidity": 0.2
             }
            },
            "type": "histogram"
           }
          ],
          "histogram2d": [
           {
            "colorbar": {
             "outlinewidth": 0,
             "ticks": ""
            },
            "colorscale": [
             [
              0,
              "#0d0887"
             ],
             [
              0.1111111111111111,
              "#46039f"
             ],
             [
              0.2222222222222222,
              "#7201a8"
             ],
             [
              0.3333333333333333,
              "#9c179e"
             ],
             [
              0.4444444444444444,
              "#bd3786"
             ],
             [
              0.5555555555555556,
              "#d8576b"
             ],
             [
              0.6666666666666666,
              "#ed7953"
             ],
             [
              0.7777777777777778,
              "#fb9f3a"
             ],
             [
              0.8888888888888888,
              "#fdca26"
             ],
             [
              1,
              "#f0f921"
             ]
            ],
            "type": "histogram2d"
           }
          ],
          "histogram2dcontour": [
           {
            "colorbar": {
             "outlinewidth": 0,
             "ticks": ""
            },
            "colorscale": [
             [
              0,
              "#0d0887"
             ],
             [
              0.1111111111111111,
              "#46039f"
             ],
             [
              0.2222222222222222,
              "#7201a8"
             ],
             [
              0.3333333333333333,
              "#9c179e"
             ],
             [
              0.4444444444444444,
              "#bd3786"
             ],
             [
              0.5555555555555556,
              "#d8576b"
             ],
             [
              0.6666666666666666,
              "#ed7953"
             ],
             [
              0.7777777777777778,
              "#fb9f3a"
             ],
             [
              0.8888888888888888,
              "#fdca26"
             ],
             [
              1,
              "#f0f921"
             ]
            ],
            "type": "histogram2dcontour"
           }
          ],
          "mesh3d": [
           {
            "colorbar": {
             "outlinewidth": 0,
             "ticks": ""
            },
            "type": "mesh3d"
           }
          ],
          "parcoords": [
           {
            "line": {
             "colorbar": {
              "outlinewidth": 0,
              "ticks": ""
             }
            },
            "type": "parcoords"
           }
          ],
          "pie": [
           {
            "automargin": true,
            "type": "pie"
           }
          ],
          "scatter": [
           {
            "fillpattern": {
             "fillmode": "overlay",
             "size": 10,
             "solidity": 0.2
            },
            "type": "scatter"
           }
          ],
          "scatter3d": [
           {
            "line": {
             "colorbar": {
              "outlinewidth": 0,
              "ticks": ""
             }
            },
            "marker": {
             "colorbar": {
              "outlinewidth": 0,
              "ticks": ""
             }
            },
            "type": "scatter3d"
           }
          ],
          "scattercarpet": [
           {
            "marker": {
             "colorbar": {
              "outlinewidth": 0,
              "ticks": ""
             }
            },
            "type": "scattercarpet"
           }
          ],
          "scattergeo": [
           {
            "marker": {
             "colorbar": {
              "outlinewidth": 0,
              "ticks": ""
             }
            },
            "type": "scattergeo"
           }
          ],
          "scattergl": [
           {
            "marker": {
             "colorbar": {
              "outlinewidth": 0,
              "ticks": ""
             }
            },
            "type": "scattergl"
           }
          ],
          "scattermapbox": [
           {
            "marker": {
             "colorbar": {
              "outlinewidth": 0,
              "ticks": ""
             }
            },
            "type": "scattermapbox"
           }
          ],
          "scatterpolar": [
           {
            "marker": {
             "colorbar": {
              "outlinewidth": 0,
              "ticks": ""
             }
            },
            "type": "scatterpolar"
           }
          ],
          "scatterpolargl": [
           {
            "marker": {
             "colorbar": {
              "outlinewidth": 0,
              "ticks": ""
             }
            },
            "type": "scatterpolargl"
           }
          ],
          "scatterternary": [
           {
            "marker": {
             "colorbar": {
              "outlinewidth": 0,
              "ticks": ""
             }
            },
            "type": "scatterternary"
           }
          ],
          "surface": [
           {
            "colorbar": {
             "outlinewidth": 0,
             "ticks": ""
            },
            "colorscale": [
             [
              0,
              "#0d0887"
             ],
             [
              0.1111111111111111,
              "#46039f"
             ],
             [
              0.2222222222222222,
              "#7201a8"
             ],
             [
              0.3333333333333333,
              "#9c179e"
             ],
             [
              0.4444444444444444,
              "#bd3786"
             ],
             [
              0.5555555555555556,
              "#d8576b"
             ],
             [
              0.6666666666666666,
              "#ed7953"
             ],
             [
              0.7777777777777778,
              "#fb9f3a"
             ],
             [
              0.8888888888888888,
              "#fdca26"
             ],
             [
              1,
              "#f0f921"
             ]
            ],
            "type": "surface"
           }
          ],
          "table": [
           {
            "cells": {
             "fill": {
              "color": "#EBF0F8"
             },
             "line": {
              "color": "white"
             }
            },
            "header": {
             "fill": {
              "color": "#C8D4E3"
             },
             "line": {
              "color": "white"
             }
            },
            "type": "table"
           }
          ]
         },
         "layout": {
          "annotationdefaults": {
           "arrowcolor": "#2a3f5f",
           "arrowhead": 0,
           "arrowwidth": 1
          },
          "autotypenumbers": "strict",
          "coloraxis": {
           "colorbar": {
            "outlinewidth": 0,
            "ticks": ""
           }
          },
          "colorscale": {
           "diverging": [
            [
             0,
             "#8e0152"
            ],
            [
             0.1,
             "#c51b7d"
            ],
            [
             0.2,
             "#de77ae"
            ],
            [
             0.3,
             "#f1b6da"
            ],
            [
             0.4,
             "#fde0ef"
            ],
            [
             0.5,
             "#f7f7f7"
            ],
            [
             0.6,
             "#e6f5d0"
            ],
            [
             0.7,
             "#b8e186"
            ],
            [
             0.8,
             "#7fbc41"
            ],
            [
             0.9,
             "#4d9221"
            ],
            [
             1,
             "#276419"
            ]
           ],
           "sequential": [
            [
             0,
             "#0d0887"
            ],
            [
             0.1111111111111111,
             "#46039f"
            ],
            [
             0.2222222222222222,
             "#7201a8"
            ],
            [
             0.3333333333333333,
             "#9c179e"
            ],
            [
             0.4444444444444444,
             "#bd3786"
            ],
            [
             0.5555555555555556,
             "#d8576b"
            ],
            [
             0.6666666666666666,
             "#ed7953"
            ],
            [
             0.7777777777777778,
             "#fb9f3a"
            ],
            [
             0.8888888888888888,
             "#fdca26"
            ],
            [
             1,
             "#f0f921"
            ]
           ],
           "sequentialminus": [
            [
             0,
             "#0d0887"
            ],
            [
             0.1111111111111111,
             "#46039f"
            ],
            [
             0.2222222222222222,
             "#7201a8"
            ],
            [
             0.3333333333333333,
             "#9c179e"
            ],
            [
             0.4444444444444444,
             "#bd3786"
            ],
            [
             0.5555555555555556,
             "#d8576b"
            ],
            [
             0.6666666666666666,
             "#ed7953"
            ],
            [
             0.7777777777777778,
             "#fb9f3a"
            ],
            [
             0.8888888888888888,
             "#fdca26"
            ],
            [
             1,
             "#f0f921"
            ]
           ]
          },
          "colorway": [
           "#636efa",
           "#EF553B",
           "#00cc96",
           "#ab63fa",
           "#FFA15A",
           "#19d3f3",
           "#FF6692",
           "#B6E880",
           "#FF97FF",
           "#FECB52"
          ],
          "font": {
           "color": "#2a3f5f"
          },
          "geo": {
           "bgcolor": "white",
           "lakecolor": "white",
           "landcolor": "#E5ECF6",
           "showlakes": true,
           "showland": true,
           "subunitcolor": "white"
          },
          "hoverlabel": {
           "align": "left"
          },
          "hovermode": "closest",
          "mapbox": {
           "style": "light"
          },
          "paper_bgcolor": "white",
          "plot_bgcolor": "#E5ECF6",
          "polar": {
           "angularaxis": {
            "gridcolor": "white",
            "linecolor": "white",
            "ticks": ""
           },
           "bgcolor": "#E5ECF6",
           "radialaxis": {
            "gridcolor": "white",
            "linecolor": "white",
            "ticks": ""
           }
          },
          "scene": {
           "xaxis": {
            "backgroundcolor": "#E5ECF6",
            "gridcolor": "white",
            "gridwidth": 2,
            "linecolor": "white",
            "showbackground": true,
            "ticks": "",
            "zerolinecolor": "white"
           },
           "yaxis": {
            "backgroundcolor": "#E5ECF6",
            "gridcolor": "white",
            "gridwidth": 2,
            "linecolor": "white",
            "showbackground": true,
            "ticks": "",
            "zerolinecolor": "white"
           },
           "zaxis": {
            "backgroundcolor": "#E5ECF6",
            "gridcolor": "white",
            "gridwidth": 2,
            "linecolor": "white",
            "showbackground": true,
            "ticks": "",
            "zerolinecolor": "white"
           }
          },
          "shapedefaults": {
           "line": {
            "color": "#2a3f5f"
           }
          },
          "ternary": {
           "aaxis": {
            "gridcolor": "white",
            "linecolor": "white",
            "ticks": ""
           },
           "baxis": {
            "gridcolor": "white",
            "linecolor": "white",
            "ticks": ""
           },
           "bgcolor": "#E5ECF6",
           "caxis": {
            "gridcolor": "white",
            "linecolor": "white",
            "ticks": ""
           }
          },
          "title": {
           "x": 0.05
          },
          "xaxis": {
           "automargin": true,
           "gridcolor": "white",
           "linecolor": "white",
           "ticks": "",
           "title": {
            "standoff": 15
           },
           "zerolinecolor": "white",
           "zerolinewidth": 2
          },
          "yaxis": {
           "automargin": true,
           "gridcolor": "white",
           "linecolor": "white",
           "ticks": "",
           "title": {
            "standoff": 15
           },
           "zerolinecolor": "white",
           "zerolinewidth": 2
          }
         }
        },
        "title": {
         "text": "Action Space when opponent is strong"
        }
>>>>>>> b0a222ec1c9d18d90720ffd2b521e9fb4e0ca97c
       }
      }
     },
     "metadata": {},
     "output_type": "display_data"
    }
   ],
   "source": [
    "models_to_include = [\"TD3_R0_WITH_SELFPLAY\", \"TD3_R0_NO_SELFPLAY\", \"PPO_R0_NO_SELFPLAY\", \"GSDE_PPO_R0\"]\n",
    "\n",
    "models_to_include = [\"TD3_R0_WITH_SELFPLAY\", \"TD3_R0_NO_SELFPLAY\", \"TD3_R2_NO_SELFPLAY\"]\n",
    "\n",
    "#models_to_include = [\"PPO_R0_NO_SELFPLAY\", \"GSDE_PPO_R0\"]\n",
    "\n",
    "\n",
    "for opp in df[\"opponent\"].unique():\n",
    "\n",
    "    df_mean = df[[\"action_space\", \"model\", \"opponent\"]].copy()\n",
    "    df_mean = df_mean[df_mean[\"model\"].isin(models_to_include)]\n",
    "    df_mean = df_mean[df_mean[\"opponent\"] == opp]\n",
    "    #df_mean.rename(columns={\"model\": \"Model\"}, inplace=True)\n",
    "\n",
    "    def convert_helper(action_space):\n",
    "        action_space = [list(a) for a in action_space]\n",
    "        action_space = np.array(action_space)\n",
    "        action_mean = list(action_space.mean(axis=0))\n",
    "        return action_mean\n",
    "\n",
    "    df_mean[\"action_space\"] = df_mean[\"action_space\"].apply(convert_helper)\n",
    "    # make every entry of action space an own column\n",
    "    #df_mean = pd.DataFrame(df_mean[\"action_space\"].to_list(), index=df_mean.index)\n",
    "    name1 = \"ppo\"\n",
    "    name2 = \"td3\"\n",
    "    #df_mean[\"Model\"] = [name1, name2]\n",
    "    df_mean = df_mean.explode(\"action_space\")\n",
    "    unique_models = len(df_mean[\"model\"].unique())\n",
    "    df_mean[\"theta\"] = [\"a1\", \"a2\", \"a3\", \"a4\"]*int(unique_models)\n",
    "    # plot more df in one plot\n",
    "    fig = px.line_polar(df_mean, r='action_space', theta='theta', color=\"model\", line_close=True, range_r=[-0.3,0.5])\n",
    "    # change figsize\n",
    "    fig.update_layout(\n",
    "        autosize=False,\n",
    "        width=800,\n",
    "        height=600,\n",
    "    )\n",
    "    # make legend bigger\n",
    "    fig.update_layout(legend=dict(\n",
    "        yanchor=\"top\",\n",
    "        y=0.99,\n",
    "        xanchor=\"left\",\n",
    "        x=0.01,\n",
    "    ))\n",
    "    fig.update_layout(legend = dict(font = dict(family = \"Courier\", size = 16)))\n",
    "    \n",
    "    fig.show()\n",
    "    # save fig\n",
    "    #fig.savefig(f\"Action_space_ppo.png\", dpi=300)\n",
    "    fig.write_image(f\"Action_space_td3.png\", format=\"png\")\n"
   ]
  },
  {
   "cell_type": "code",
   "execution_count": 34,
   "metadata": {},
   "outputs": [
    {
     "data": {
      "application/vnd.plotly.v1+json": {
       "config": {
        "plotlyServerURL": "https://plot.ly"
       },
       "data": [
        {
         "hovertemplate": "model=td3_0_no_self<br>observation_space=%{r}<br>theta=%{theta}<extra></extra>",
         "legendgroup": "td3_0_no_self",
         "line": {
          "color": "#636efa",
          "dash": "solid"
         },
         "marker": {
          "symbol": "circle"
         },
         "mode": "lines",
         "name": "td3_0_no_self",
         "r": [
          -1.7347725549835178,
          0.9519137405039252,
          -0.024864133467542314,
          0.8492408986852151,
          0.4366589681167003,
          -0.24026895588402558,
          2.955066245337434,
          0.22045948337567522,
          0.016484698858581455,
          -0.1775395073569302,
          0.17983102181345711,
          -0.00022205768624582674,
          0.5799228402015252,
          0.13907383842411758,
          1.3998241166508347,
          -0.8284778213286921,
          2.085819564958992,
          1.6061681097934515,
          -1.7347725549835178
         ],
         "showlegend": true,
         "subplot": "polar",
         "theta": [
          "o0",
          "o1",
          "o2",
          "o3",
          "o4",
          "o5",
          "o6",
          "o7",
          "o8",
          "o9",
          "o10",
          "o11",
          "o12",
          "o13",
          "o14",
          "o15",
          "o16",
          "o17",
          "o0"
         ],
         "type": "scatterpolar"
        },
        {
         "hovertemplate": "model=td3_0_with_self<br>observation_space=%{r}<br>theta=%{theta}<extra></extra>",
         "legendgroup": "td3_0_with_self",
         "line": {
          "color": "#EF553B",
          "dash": "solid"
         },
         "marker": {
          "symbol": "circle"
         },
         "mode": "lines",
         "name": "td3_0_with_self",
         "r": [
          -1.7272639316914942,
          -0.30296204484027367,
          -0.584738504883806,
          1.9594123607247167,
          0.18600868642463866,
          -0.6045251111155708,
          2.5360634050913986,
          -0.09720076368694516,
          -0.013544906005976626,
          -0.5275235981196851,
          -0.3867202194015602,
          0.006864516246198365,
          0.6545746911496864,
          -0.37034787277634695,
          2.976040904947717,
          0.2657821507722343,
          1.7682693947144075,
          1.315856777493606,
          -1.7272639316914942
         ],
         "showlegend": true,
         "subplot": "polar",
         "theta": [
          "o0",
          "o1",
          "o2",
          "o3",
          "o4",
          "o5",
          "o6",
          "o7",
          "o8",
          "o9",
          "o10",
          "o11",
          "o12",
          "o13",
          "o14",
          "o15",
          "o16",
          "o17",
          "o0"
         ],
         "type": "scatterpolar"
        },
        {
         "hovertemplate": "model=td3_2_with_self<br>observation_space=%{r}<br>theta=%{theta}<extra></extra>",
         "legendgroup": "td3_2_with_self",
         "line": {
          "color": "#00cc96",
          "dash": "solid"
         },
         "marker": {
          "symbol": "circle"
         },
         "mode": "lines",
         "name": "td3_2_with_self",
         "r": [
          -2.0438004504880403,
          0.188754925783496,
          -0.12795266451973272,
          0.9120942130111707,
          0.026216674011229627,
          0.027816359136842855,
          3.1097601067903553,
          0.1774480456877805,
          -0.0046713223434138905,
          -0.09035786308980698,
          0.1756760113730052,
          0.004577500453714924,
          0.6311862288564161,
          0.3487695541982517,
          1.5976268969988268,
          -0.5023448123191532,
          2.2859998974727023,
          2.04183113754037,
          -2.0438004504880403
         ],
         "showlegend": true,
         "subplot": "polar",
         "theta": [
          "o0",
          "o1",
          "o2",
          "o3",
          "o4",
          "o5",
          "o6",
          "o7",
          "o8",
          "o9",
          "o10",
          "o11",
          "o12",
          "o13",
          "o14",
          "o15",
          "o16",
          "o17",
          "o0"
         ],
         "type": "scatterpolar"
        },
        {
         "hovertemplate": "model=td3_2_no_self<br>observation_space=%{r}<br>theta=%{theta}<extra></extra>",
         "legendgroup": "td3_2_no_self",
         "line": {
          "color": "#ab63fa",
          "dash": "solid"
         },
         "marker": {
          "symbol": "circle"
         },
         "mode": "lines",
         "name": "td3_2_no_self",
         "r": [
          -2.748450860056745,
          0.10575937997269015,
          0.2969026994589985,
          0.40135280435283194,
          0.0737180043075485,
          0.00576034150659503,
          2.1166868382272077,
          -0.20228287501528103,
          0.006461013989621412,
          -0.19905260667256858,
          -0.06583345971215794,
          -0.007988516700189161,
          -0.21998039776624215,
          -0.2953155006478819,
          0.6258161725150447,
          -0.07837201125616014,
          1.4134812988080558,
          1.340208496805291,
          -2.748450860056745
         ],
         "showlegend": true,
         "subplot": "polar",
         "theta": [
          "o0",
          "o1",
          "o2",
          "o3",
          "o4",
          "o5",
          "o6",
          "o7",
          "o8",
          "o9",
          "o10",
          "o11",
          "o12",
          "o13",
          "o14",
          "o15",
          "o16",
          "o17",
          "o0"
         ],
         "type": "scatterpolar"
        }
       ],
       "layout": {
        "legend": {
         "title": {
          "text": "model"
         },
         "tracegroupgap": 0
        },
        "polar": {
         "angularaxis": {
          "direction": "clockwise",
          "rotation": 90
         },
         "domain": {
          "x": [
           0,
           1
          ],
          "y": [
           0,
           1
          ]
         }
        },
        "template": {
         "data": {
          "bar": [
           {
            "error_x": {
             "color": "#2a3f5f"
            },
            "error_y": {
             "color": "#2a3f5f"
            },
            "marker": {
             "line": {
              "color": "#E5ECF6",
              "width": 0.5
             },
             "pattern": {
              "fillmode": "overlay",
              "size": 10,
              "solidity": 0.2
             }
            },
            "type": "bar"
           }
          ],
          "barpolar": [
           {
            "marker": {
             "line": {
              "color": "#E5ECF6",
              "width": 0.5
             },
             "pattern": {
              "fillmode": "overlay",
              "size": 10,
              "solidity": 0.2
             }
            },
            "type": "barpolar"
           }
          ],
          "carpet": [
           {
            "aaxis": {
             "endlinecolor": "#2a3f5f",
             "gridcolor": "white",
             "linecolor": "white",
             "minorgridcolor": "white",
             "startlinecolor": "#2a3f5f"
            },
            "baxis": {
             "endlinecolor": "#2a3f5f",
             "gridcolor": "white",
             "linecolor": "white",
             "minorgridcolor": "white",
             "startlinecolor": "#2a3f5f"
            },
            "type": "carpet"
           }
          ],
          "choropleth": [
           {
            "colorbar": {
             "outlinewidth": 0,
             "ticks": ""
            },
            "type": "choropleth"
           }
          ],
          "contour": [
           {
            "colorbar": {
             "outlinewidth": 0,
             "ticks": ""
            },
            "colorscale": [
             [
              0,
              "#0d0887"
             ],
             [
              0.1111111111111111,
              "#46039f"
             ],
             [
              0.2222222222222222,
              "#7201a8"
             ],
             [
              0.3333333333333333,
              "#9c179e"
             ],
             [
              0.4444444444444444,
              "#bd3786"
             ],
             [
              0.5555555555555556,
              "#d8576b"
             ],
             [
              0.6666666666666666,
              "#ed7953"
             ],
             [
              0.7777777777777778,
              "#fb9f3a"
             ],
             [
              0.8888888888888888,
              "#fdca26"
             ],
             [
              1,
              "#f0f921"
             ]
            ],
            "type": "contour"
           }
          ],
          "contourcarpet": [
           {
            "colorbar": {
             "outlinewidth": 0,
             "ticks": ""
            },
            "type": "contourcarpet"
           }
          ],
          "heatmap": [
           {
            "colorbar": {
             "outlinewidth": 0,
             "ticks": ""
            },
            "colorscale": [
             [
              0,
              "#0d0887"
             ],
             [
              0.1111111111111111,
              "#46039f"
             ],
             [
              0.2222222222222222,
              "#7201a8"
             ],
             [
              0.3333333333333333,
              "#9c179e"
             ],
             [
              0.4444444444444444,
              "#bd3786"
             ],
             [
              0.5555555555555556,
              "#d8576b"
             ],
             [
              0.6666666666666666,
              "#ed7953"
             ],
             [
              0.7777777777777778,
              "#fb9f3a"
             ],
             [
              0.8888888888888888,
              "#fdca26"
             ],
             [
              1,
              "#f0f921"
             ]
            ],
            "type": "heatmap"
           }
          ],
          "heatmapgl": [
           {
            "colorbar": {
             "outlinewidth": 0,
             "ticks": ""
            },
            "colorscale": [
             [
              0,
              "#0d0887"
             ],
             [
              0.1111111111111111,
              "#46039f"
             ],
             [
              0.2222222222222222,
              "#7201a8"
             ],
             [
              0.3333333333333333,
              "#9c179e"
             ],
             [
              0.4444444444444444,
              "#bd3786"
             ],
             [
              0.5555555555555556,
              "#d8576b"
             ],
             [
              0.6666666666666666,
              "#ed7953"
             ],
             [
              0.7777777777777778,
              "#fb9f3a"
             ],
             [
              0.8888888888888888,
              "#fdca26"
             ],
             [
              1,
              "#f0f921"
             ]
            ],
            "type": "heatmapgl"
           }
          ],
          "histogram": [
           {
            "marker": {
             "pattern": {
              "fillmode": "overlay",
              "size": 10,
              "solidity": 0.2
             }
            },
            "type": "histogram"
           }
          ],
          "histogram2d": [
           {
            "colorbar": {
             "outlinewidth": 0,
             "ticks": ""
            },
            "colorscale": [
             [
              0,
              "#0d0887"
             ],
             [
              0.1111111111111111,
              "#46039f"
             ],
             [
              0.2222222222222222,
              "#7201a8"
             ],
             [
              0.3333333333333333,
              "#9c179e"
             ],
             [
              0.4444444444444444,
              "#bd3786"
             ],
             [
              0.5555555555555556,
              "#d8576b"
             ],
             [
              0.6666666666666666,
              "#ed7953"
             ],
             [
              0.7777777777777778,
              "#fb9f3a"
             ],
             [
              0.8888888888888888,
              "#fdca26"
             ],
             [
              1,
              "#f0f921"
             ]
            ],
            "type": "histogram2d"
           }
          ],
          "histogram2dcontour": [
           {
            "colorbar": {
             "outlinewidth": 0,
             "ticks": ""
            },
            "colorscale": [
             [
              0,
              "#0d0887"
             ],
             [
              0.1111111111111111,
              "#46039f"
             ],
             [
              0.2222222222222222,
              "#7201a8"
             ],
             [
              0.3333333333333333,
              "#9c179e"
             ],
             [
              0.4444444444444444,
              "#bd3786"
             ],
             [
              0.5555555555555556,
              "#d8576b"
             ],
             [
              0.6666666666666666,
              "#ed7953"
             ],
             [
              0.7777777777777778,
              "#fb9f3a"
             ],
             [
              0.8888888888888888,
              "#fdca26"
             ],
             [
              1,
              "#f0f921"
             ]
            ],
            "type": "histogram2dcontour"
           }
          ],
          "mesh3d": [
           {
            "colorbar": {
             "outlinewidth": 0,
             "ticks": ""
            },
            "type": "mesh3d"
           }
          ],
          "parcoords": [
           {
            "line": {
             "colorbar": {
              "outlinewidth": 0,
              "ticks": ""
             }
            },
            "type": "parcoords"
           }
          ],
          "pie": [
           {
            "automargin": true,
            "type": "pie"
           }
          ],
          "scatter": [
           {
            "fillpattern": {
             "fillmode": "overlay",
             "size": 10,
             "solidity": 0.2
            },
            "type": "scatter"
           }
          ],
          "scatter3d": [
           {
            "line": {
             "colorbar": {
              "outlinewidth": 0,
              "ticks": ""
             }
            },
            "marker": {
             "colorbar": {
              "outlinewidth": 0,
              "ticks": ""
             }
            },
            "type": "scatter3d"
           }
          ],
          "scattercarpet": [
           {
            "marker": {
             "colorbar": {
              "outlinewidth": 0,
              "ticks": ""
             }
            },
            "type": "scattercarpet"
           }
          ],
          "scattergeo": [
           {
            "marker": {
             "colorbar": {
              "outlinewidth": 0,
              "ticks": ""
             }
            },
            "type": "scattergeo"
           }
          ],
          "scattergl": [
           {
            "marker": {
             "colorbar": {
              "outlinewidth": 0,
              "ticks": ""
             }
            },
            "type": "scattergl"
           }
          ],
          "scattermapbox": [
           {
            "marker": {
             "colorbar": {
              "outlinewidth": 0,
              "ticks": ""
             }
            },
            "type": "scattermapbox"
           }
          ],
          "scatterpolar": [
           {
            "marker": {
             "colorbar": {
              "outlinewidth": 0,
              "ticks": ""
             }
            },
            "type": "scatterpolar"
           }
          ],
          "scatterpolargl": [
           {
            "marker": {
             "colorbar": {
              "outlinewidth": 0,
              "ticks": ""
             }
            },
            "type": "scatterpolargl"
           }
          ],
          "scatterternary": [
           {
            "marker": {
             "colorbar": {
              "outlinewidth": 0,
              "ticks": ""
             }
            },
            "type": "scatterternary"
           }
          ],
          "surface": [
           {
            "colorbar": {
             "outlinewidth": 0,
             "ticks": ""
            },
            "colorscale": [
             [
              0,
              "#0d0887"
             ],
             [
              0.1111111111111111,
              "#46039f"
             ],
             [
              0.2222222222222222,
              "#7201a8"
             ],
             [
              0.3333333333333333,
              "#9c179e"
             ],
             [
              0.4444444444444444,
              "#bd3786"
             ],
             [
              0.5555555555555556,
              "#d8576b"
             ],
             [
              0.6666666666666666,
              "#ed7953"
             ],
             [
              0.7777777777777778,
              "#fb9f3a"
             ],
             [
              0.8888888888888888,
              "#fdca26"
             ],
             [
              1,
              "#f0f921"
             ]
            ],
            "type": "surface"
           }
          ],
          "table": [
           {
            "cells": {
             "fill": {
              "color": "#EBF0F8"
             },
             "line": {
              "color": "white"
             }
            },
            "header": {
             "fill": {
              "color": "#C8D4E3"
             },
             "line": {
              "color": "white"
             }
            },
            "type": "table"
           }
          ]
         },
         "layout": {
          "annotationdefaults": {
           "arrowcolor": "#2a3f5f",
           "arrowhead": 0,
           "arrowwidth": 1
          },
          "autotypenumbers": "strict",
          "coloraxis": {
           "colorbar": {
            "outlinewidth": 0,
            "ticks": ""
           }
          },
          "colorscale": {
           "diverging": [
            [
             0,
             "#8e0152"
            ],
            [
             0.1,
             "#c51b7d"
            ],
            [
             0.2,
             "#de77ae"
            ],
            [
             0.3,
             "#f1b6da"
            ],
            [
             0.4,
             "#fde0ef"
            ],
            [
             0.5,
             "#f7f7f7"
            ],
            [
             0.6,
             "#e6f5d0"
            ],
            [
             0.7,
             "#b8e186"
            ],
            [
             0.8,
             "#7fbc41"
            ],
            [
             0.9,
             "#4d9221"
            ],
            [
             1,
             "#276419"
            ]
           ],
           "sequential": [
            [
             0,
             "#0d0887"
            ],
            [
             0.1111111111111111,
             "#46039f"
            ],
            [
             0.2222222222222222,
             "#7201a8"
            ],
            [
             0.3333333333333333,
             "#9c179e"
            ],
            [
             0.4444444444444444,
             "#bd3786"
            ],
            [
             0.5555555555555556,
             "#d8576b"
            ],
            [
             0.6666666666666666,
             "#ed7953"
            ],
            [
             0.7777777777777778,
             "#fb9f3a"
            ],
            [
             0.8888888888888888,
             "#fdca26"
            ],
            [
             1,
             "#f0f921"
            ]
           ],
           "sequentialminus": [
            [
             0,
             "#0d0887"
            ],
            [
             0.1111111111111111,
             "#46039f"
            ],
            [
             0.2222222222222222,
             "#7201a8"
            ],
            [
             0.3333333333333333,
             "#9c179e"
            ],
            [
             0.4444444444444444,
             "#bd3786"
            ],
            [
             0.5555555555555556,
             "#d8576b"
            ],
            [
             0.6666666666666666,
             "#ed7953"
            ],
            [
             0.7777777777777778,
             "#fb9f3a"
            ],
            [
             0.8888888888888888,
             "#fdca26"
            ],
            [
             1,
             "#f0f921"
            ]
           ]
          },
          "colorway": [
           "#636efa",
           "#EF553B",
           "#00cc96",
           "#ab63fa",
           "#FFA15A",
           "#19d3f3",
           "#FF6692",
           "#B6E880",
           "#FF97FF",
           "#FECB52"
          ],
          "font": {
           "color": "#2a3f5f"
          },
          "geo": {
           "bgcolor": "white",
           "lakecolor": "white",
           "landcolor": "#E5ECF6",
           "showlakes": true,
           "showland": true,
           "subunitcolor": "white"
          },
          "hoverlabel": {
           "align": "left"
          },
          "hovermode": "closest",
          "mapbox": {
           "style": "light"
          },
          "paper_bgcolor": "white",
          "plot_bgcolor": "#E5ECF6",
          "polar": {
           "angularaxis": {
            "gridcolor": "white",
            "linecolor": "white",
            "ticks": ""
           },
           "bgcolor": "#E5ECF6",
           "radialaxis": {
            "gridcolor": "white",
            "linecolor": "white",
            "ticks": ""
           }
          },
          "scene": {
           "xaxis": {
            "backgroundcolor": "#E5ECF6",
            "gridcolor": "white",
            "gridwidth": 2,
            "linecolor": "white",
            "showbackground": true,
            "ticks": "",
            "zerolinecolor": "white"
           },
           "yaxis": {
            "backgroundcolor": "#E5ECF6",
            "gridcolor": "white",
            "gridwidth": 2,
            "linecolor": "white",
            "showbackground": true,
            "ticks": "",
            "zerolinecolor": "white"
           },
           "zaxis": {
            "backgroundcolor": "#E5ECF6",
            "gridcolor": "white",
            "gridwidth": 2,
            "linecolor": "white",
            "showbackground": true,
            "ticks": "",
            "zerolinecolor": "white"
           }
          },
          "shapedefaults": {
           "line": {
            "color": "#2a3f5f"
           }
          },
          "ternary": {
           "aaxis": {
            "gridcolor": "white",
            "linecolor": "white",
            "ticks": ""
           },
           "baxis": {
            "gridcolor": "white",
            "linecolor": "white",
            "ticks": ""
           },
           "bgcolor": "#E5ECF6",
           "caxis": {
            "gridcolor": "white",
            "linecolor": "white",
            "ticks": ""
           }
          },
          "title": {
           "x": 0.05
          },
          "xaxis": {
           "automargin": true,
           "gridcolor": "white",
           "linecolor": "white",
           "ticks": "",
           "title": {
            "standoff": 15
           },
           "zerolinecolor": "white",
           "zerolinewidth": 2
          },
          "yaxis": {
           "automargin": true,
           "gridcolor": "white",
           "linecolor": "white",
           "ticks": "",
           "title": {
            "standoff": 15
           },
           "zerolinecolor": "white",
           "zerolinewidth": 2
          }
         }
        },
        "title": {
         "text": "Observation Space when opponent is weak"
        }
       }
      }
     },
     "metadata": {},
     "output_type": "display_data"
    },
    {
     "data": {
      "application/vnd.plotly.v1+json": {
       "config": {
        "plotlyServerURL": "https://plot.ly"
       },
       "data": [
        {
         "hovertemplate": "model=td3_0_no_self<br>observation_space=%{r}<br>theta=%{theta}<extra></extra>",
         "legendgroup": "td3_0_no_self",
         "line": {
          "color": "#636efa",
          "dash": "solid"
         },
         "marker": {
          "symbol": "circle"
         },
         "mode": "lines",
         "name": "td3_0_no_self",
         "r": [
          -1.7475060751906404,
          0.9383030129524204,
          -0.038584568529019043,
          0.8643285078537861,
          0.4256354514868517,
          -0.2576911192702732,
          2.9519123336612454,
          0.20450189522018025,
          0.012546538468665417,
          -0.1958482344577245,
          0.16441223490068496,
          -0.00009774249870490132,
          0.5952717344337943,
          0.11477274829695278,
          1.4738161422703802,
          -0.7891510543142745,
          2.1108708202369715,
          1.6280113995619783,
          -1.7475060751906404
         ],
         "showlegend": true,
         "subplot": "polar",
         "theta": [
          "o0",
          "o1",
          "o2",
          "o3",
          "o4",
          "o5",
          "o6",
          "o7",
          "o8",
          "o9",
          "o10",
          "o11",
          "o12",
          "o13",
          "o14",
          "o15",
          "o16",
          "o17",
          "o0"
         ],
         "type": "scatterpolar"
        },
        {
         "hovertemplate": "model=td3_0_with_self<br>observation_space=%{r}<br>theta=%{theta}<extra></extra>",
         "legendgroup": "td3_0_with_self",
         "line": {
          "color": "#EF553B",
          "dash": "solid"
         },
         "marker": {
          "symbol": "circle"
         },
         "mode": "lines",
         "name": "td3_0_with_self",
         "r": [
          -1.7299010624497755,
          -0.3313650566110349,
          -0.598861561285312,
          1.9375596298703135,
          0.17336529467816558,
          -0.5970994730461934,
          2.551890189101553,
          -0.11367635451271443,
          -0.012844733210766604,
          -0.5296540008881396,
          -0.40308160084337347,
          0.006253597511976258,
          0.6644579732244366,
          -0.4023912248233227,
          2.9415169980611355,
          0.2544613268921387,
          1.7911158385250467,
          1.3455401914602645,
          -1.7299010624497755
         ],
         "showlegend": true,
         "subplot": "polar",
         "theta": [
          "o0",
          "o1",
          "o2",
          "o3",
          "o4",
          "o5",
          "o6",
          "o7",
          "o8",
          "o9",
          "o10",
          "o11",
          "o12",
          "o13",
          "o14",
          "o15",
          "o16",
          "o17",
          "o0"
         ],
         "type": "scatterpolar"
        },
        {
         "hovertemplate": "model=td3_2_with_self<br>observation_space=%{r}<br>theta=%{theta}<extra></extra>",
         "legendgroup": "td3_2_with_self",
         "line": {
          "color": "#00cc96",
          "dash": "solid"
         },
         "marker": {
          "symbol": "circle"
         },
         "mode": "lines",
         "name": "td3_2_with_self",
         "r": [
          -2.068139351023121,
          0.18203977088545462,
          -0.1235651705930988,
          0.9540084815008648,
          0.015261489147487558,
          0.028486610160096862,
          3.0917659622440326,
          0.1797100527767871,
          -0.0028586975580844093,
          -0.09608081113809365,
          0.1797098598371539,
          0.000968074456513074,
          0.6310241883801956,
          0.3577024728948758,
          1.6382625224120348,
          -0.4655225021344171,
          2.2766034025668485,
          2.0250803237530066,
          -2.068139351023121
         ],
         "showlegend": true,
         "subplot": "polar",
         "theta": [
          "o0",
          "o1",
          "o2",
          "o3",
          "o4",
          "o5",
          "o6",
          "o7",
          "o8",
          "o9",
          "o10",
          "o11",
          "o12",
          "o13",
          "o14",
          "o15",
          "o16",
          "o17",
          "o0"
         ],
         "type": "scatterpolar"
        },
        {
         "hovertemplate": "model=td3_2_no_self<br>observation_space=%{r}<br>theta=%{theta}<extra></extra>",
         "legendgroup": "td3_2_no_self",
         "line": {
          "color": "#ab63fa",
          "dash": "solid"
         },
         "marker": {
          "symbol": "circle"
         },
         "mode": "lines",
         "name": "td3_2_no_self",
         "r": [
          -2.8312646590460413,
          0.1672268368738836,
          0.3624606026356681,
          0.3841178365673579,
          0.10764353870469569,
          0.02014380712213284,
          1.9963333514541195,
          -0.23091878280424605,
          -0.0005395382119626177,
          -0.22252348968009988,
          -0.06754282083460068,
          -0.004002973416695592,
          -0.3249479891650154,
          -0.30521929466648573,
          0.58658913521568,
          -0.06464475979948094,
          1.2701682959383784,
          1.207301523387692,
          -2.8312646590460413
         ],
         "showlegend": true,
         "subplot": "polar",
         "theta": [
          "o0",
          "o1",
          "o2",
          "o3",
          "o4",
          "o5",
          "o6",
          "o7",
          "o8",
          "o9",
          "o10",
          "o11",
          "o12",
          "o13",
          "o14",
          "o15",
          "o16",
          "o17",
          "o0"
         ],
         "type": "scatterpolar"
        }
       ],
       "layout": {
        "legend": {
         "title": {
          "text": "model"
         },
         "tracegroupgap": 0
        },
        "polar": {
         "angularaxis": {
          "direction": "clockwise",
          "rotation": 90
         },
         "domain": {
          "x": [
           0,
           1
          ],
          "y": [
           0,
           1
          ]
         }
        },
        "template": {
         "data": {
          "bar": [
           {
            "error_x": {
             "color": "#2a3f5f"
            },
            "error_y": {
             "color": "#2a3f5f"
            },
            "marker": {
             "line": {
              "color": "#E5ECF6",
              "width": 0.5
             },
             "pattern": {
              "fillmode": "overlay",
              "size": 10,
              "solidity": 0.2
             }
            },
            "type": "bar"
           }
          ],
          "barpolar": [
           {
            "marker": {
             "line": {
              "color": "#E5ECF6",
              "width": 0.5
             },
             "pattern": {
              "fillmode": "overlay",
              "size": 10,
              "solidity": 0.2
             }
            },
            "type": "barpolar"
           }
          ],
          "carpet": [
           {
            "aaxis": {
             "endlinecolor": "#2a3f5f",
             "gridcolor": "white",
             "linecolor": "white",
             "minorgridcolor": "white",
             "startlinecolor": "#2a3f5f"
            },
            "baxis": {
             "endlinecolor": "#2a3f5f",
             "gridcolor": "white",
             "linecolor": "white",
             "minorgridcolor": "white",
             "startlinecolor": "#2a3f5f"
            },
            "type": "carpet"
           }
          ],
          "choropleth": [
           {
            "colorbar": {
             "outlinewidth": 0,
             "ticks": ""
            },
            "type": "choropleth"
           }
          ],
          "contour": [
           {
            "colorbar": {
             "outlinewidth": 0,
             "ticks": ""
            },
            "colorscale": [
             [
              0,
              "#0d0887"
             ],
             [
              0.1111111111111111,
              "#46039f"
             ],
             [
              0.2222222222222222,
              "#7201a8"
             ],
             [
              0.3333333333333333,
              "#9c179e"
             ],
             [
              0.4444444444444444,
              "#bd3786"
             ],
             [
              0.5555555555555556,
              "#d8576b"
             ],
             [
              0.6666666666666666,
              "#ed7953"
             ],
             [
              0.7777777777777778,
              "#fb9f3a"
             ],
             [
              0.8888888888888888,
              "#fdca26"
             ],
             [
              1,
              "#f0f921"
             ]
            ],
            "type": "contour"
           }
          ],
          "contourcarpet": [
           {
            "colorbar": {
             "outlinewidth": 0,
             "ticks": ""
            },
            "type": "contourcarpet"
           }
          ],
          "heatmap": [
           {
            "colorbar": {
             "outlinewidth": 0,
             "ticks": ""
            },
            "colorscale": [
             [
              0,
              "#0d0887"
             ],
             [
              0.1111111111111111,
              "#46039f"
             ],
             [
              0.2222222222222222,
              "#7201a8"
             ],
             [
              0.3333333333333333,
              "#9c179e"
             ],
             [
              0.4444444444444444,
              "#bd3786"
             ],
             [
              0.5555555555555556,
              "#d8576b"
             ],
             [
              0.6666666666666666,
              "#ed7953"
             ],
             [
              0.7777777777777778,
              "#fb9f3a"
             ],
             [
              0.8888888888888888,
              "#fdca26"
             ],
             [
              1,
              "#f0f921"
             ]
            ],
            "type": "heatmap"
           }
          ],
          "heatmapgl": [
           {
            "colorbar": {
             "outlinewidth": 0,
             "ticks": ""
            },
            "colorscale": [
             [
              0,
              "#0d0887"
             ],
             [
              0.1111111111111111,
              "#46039f"
             ],
             [
              0.2222222222222222,
              "#7201a8"
             ],
             [
              0.3333333333333333,
              "#9c179e"
             ],
             [
              0.4444444444444444,
              "#bd3786"
             ],
             [
              0.5555555555555556,
              "#d8576b"
             ],
             [
              0.6666666666666666,
              "#ed7953"
             ],
             [
              0.7777777777777778,
              "#fb9f3a"
             ],
             [
              0.8888888888888888,
              "#fdca26"
             ],
             [
              1,
              "#f0f921"
             ]
            ],
            "type": "heatmapgl"
           }
          ],
          "histogram": [
           {
            "marker": {
             "pattern": {
              "fillmode": "overlay",
              "size": 10,
              "solidity": 0.2
             }
            },
            "type": "histogram"
           }
          ],
          "histogram2d": [
           {
            "colorbar": {
             "outlinewidth": 0,
             "ticks": ""
            },
            "colorscale": [
             [
              0,
              "#0d0887"
             ],
             [
              0.1111111111111111,
              "#46039f"
             ],
             [
              0.2222222222222222,
              "#7201a8"
             ],
             [
              0.3333333333333333,
              "#9c179e"
             ],
             [
              0.4444444444444444,
              "#bd3786"
             ],
             [
              0.5555555555555556,
              "#d8576b"
             ],
             [
              0.6666666666666666,
              "#ed7953"
             ],
             [
              0.7777777777777778,
              "#fb9f3a"
             ],
             [
              0.8888888888888888,
              "#fdca26"
             ],
             [
              1,
              "#f0f921"
             ]
            ],
            "type": "histogram2d"
           }
          ],
          "histogram2dcontour": [
           {
            "colorbar": {
             "outlinewidth": 0,
             "ticks": ""
            },
            "colorscale": [
             [
              0,
              "#0d0887"
             ],
             [
              0.1111111111111111,
              "#46039f"
             ],
             [
              0.2222222222222222,
              "#7201a8"
             ],
             [
              0.3333333333333333,
              "#9c179e"
             ],
             [
              0.4444444444444444,
              "#bd3786"
             ],
             [
              0.5555555555555556,
              "#d8576b"
             ],
             [
              0.6666666666666666,
              "#ed7953"
             ],
             [
              0.7777777777777778,
              "#fb9f3a"
             ],
             [
              0.8888888888888888,
              "#fdca26"
             ],
             [
              1,
              "#f0f921"
             ]
            ],
            "type": "histogram2dcontour"
           }
          ],
          "mesh3d": [
           {
            "colorbar": {
             "outlinewidth": 0,
             "ticks": ""
            },
            "type": "mesh3d"
           }
          ],
          "parcoords": [
           {
            "line": {
             "colorbar": {
              "outlinewidth": 0,
              "ticks": ""
             }
            },
            "type": "parcoords"
           }
          ],
          "pie": [
           {
            "automargin": true,
            "type": "pie"
           }
          ],
          "scatter": [
           {
            "fillpattern": {
             "fillmode": "overlay",
             "size": 10,
             "solidity": 0.2
            },
            "type": "scatter"
           }
          ],
          "scatter3d": [
           {
            "line": {
             "colorbar": {
              "outlinewidth": 0,
              "ticks": ""
             }
            },
            "marker": {
             "colorbar": {
              "outlinewidth": 0,
              "ticks": ""
             }
            },
            "type": "scatter3d"
           }
          ],
          "scattercarpet": [
           {
            "marker": {
             "colorbar": {
              "outlinewidth": 0,
              "ticks": ""
             }
            },
            "type": "scattercarpet"
           }
          ],
          "scattergeo": [
           {
            "marker": {
             "colorbar": {
              "outlinewidth": 0,
              "ticks": ""
             }
            },
            "type": "scattergeo"
           }
          ],
          "scattergl": [
           {
            "marker": {
             "colorbar": {
              "outlinewidth": 0,
              "ticks": ""
             }
            },
            "type": "scattergl"
           }
          ],
          "scattermapbox": [
           {
            "marker": {
             "colorbar": {
              "outlinewidth": 0,
              "ticks": ""
             }
            },
            "type": "scattermapbox"
           }
          ],
          "scatterpolar": [
           {
            "marker": {
             "colorbar": {
              "outlinewidth": 0,
              "ticks": ""
             }
            },
            "type": "scatterpolar"
           }
          ],
          "scatterpolargl": [
           {
            "marker": {
             "colorbar": {
              "outlinewidth": 0,
              "ticks": ""
             }
            },
            "type": "scatterpolargl"
           }
          ],
          "scatterternary": [
           {
            "marker": {
             "colorbar": {
              "outlinewidth": 0,
              "ticks": ""
             }
            },
            "type": "scatterternary"
           }
          ],
          "surface": [
           {
            "colorbar": {
             "outlinewidth": 0,
             "ticks": ""
            },
            "colorscale": [
             [
              0,
              "#0d0887"
             ],
             [
              0.1111111111111111,
              "#46039f"
             ],
             [
              0.2222222222222222,
              "#7201a8"
             ],
             [
              0.3333333333333333,
              "#9c179e"
             ],
             [
              0.4444444444444444,
              "#bd3786"
             ],
             [
              0.5555555555555556,
              "#d8576b"
             ],
             [
              0.6666666666666666,
              "#ed7953"
             ],
             [
              0.7777777777777778,
              "#fb9f3a"
             ],
             [
              0.8888888888888888,
              "#fdca26"
             ],
             [
              1,
              "#f0f921"
             ]
            ],
            "type": "surface"
           }
          ],
          "table": [
           {
            "cells": {
             "fill": {
              "color": "#EBF0F8"
             },
             "line": {
              "color": "white"
             }
            },
            "header": {
             "fill": {
              "color": "#C8D4E3"
             },
             "line": {
              "color": "white"
             }
            },
            "type": "table"
           }
          ]
         },
         "layout": {
          "annotationdefaults": {
           "arrowcolor": "#2a3f5f",
           "arrowhead": 0,
           "arrowwidth": 1
          },
          "autotypenumbers": "strict",
          "coloraxis": {
           "colorbar": {
            "outlinewidth": 0,
            "ticks": ""
           }
          },
          "colorscale": {
           "diverging": [
            [
             0,
             "#8e0152"
            ],
            [
             0.1,
             "#c51b7d"
            ],
            [
             0.2,
             "#de77ae"
            ],
            [
             0.3,
             "#f1b6da"
            ],
            [
             0.4,
             "#fde0ef"
            ],
            [
             0.5,
             "#f7f7f7"
            ],
            [
             0.6,
             "#e6f5d0"
            ],
            [
             0.7,
             "#b8e186"
            ],
            [
             0.8,
             "#7fbc41"
            ],
            [
             0.9,
             "#4d9221"
            ],
            [
             1,
             "#276419"
            ]
           ],
           "sequential": [
            [
             0,
             "#0d0887"
            ],
            [
             0.1111111111111111,
             "#46039f"
            ],
            [
             0.2222222222222222,
             "#7201a8"
            ],
            [
             0.3333333333333333,
             "#9c179e"
            ],
            [
             0.4444444444444444,
             "#bd3786"
            ],
            [
             0.5555555555555556,
             "#d8576b"
            ],
            [
             0.6666666666666666,
             "#ed7953"
            ],
            [
             0.7777777777777778,
             "#fb9f3a"
            ],
            [
             0.8888888888888888,
             "#fdca26"
            ],
            [
             1,
             "#f0f921"
            ]
           ],
           "sequentialminus": [
            [
             0,
             "#0d0887"
            ],
            [
             0.1111111111111111,
             "#46039f"
            ],
            [
             0.2222222222222222,
             "#7201a8"
            ],
            [
             0.3333333333333333,
             "#9c179e"
            ],
            [
             0.4444444444444444,
             "#bd3786"
            ],
            [
             0.5555555555555556,
             "#d8576b"
            ],
            [
             0.6666666666666666,
             "#ed7953"
            ],
            [
             0.7777777777777778,
             "#fb9f3a"
            ],
            [
             0.8888888888888888,
             "#fdca26"
            ],
            [
             1,
             "#f0f921"
            ]
           ]
          },
          "colorway": [
           "#636efa",
           "#EF553B",
           "#00cc96",
           "#ab63fa",
           "#FFA15A",
           "#19d3f3",
           "#FF6692",
           "#B6E880",
           "#FF97FF",
           "#FECB52"
          ],
          "font": {
           "color": "#2a3f5f"
          },
          "geo": {
           "bgcolor": "white",
           "lakecolor": "white",
           "landcolor": "#E5ECF6",
           "showlakes": true,
           "showland": true,
           "subunitcolor": "white"
          },
          "hoverlabel": {
           "align": "left"
          },
          "hovermode": "closest",
          "mapbox": {
           "style": "light"
          },
          "paper_bgcolor": "white",
          "plot_bgcolor": "#E5ECF6",
          "polar": {
           "angularaxis": {
            "gridcolor": "white",
            "linecolor": "white",
            "ticks": ""
           },
           "bgcolor": "#E5ECF6",
           "radialaxis": {
            "gridcolor": "white",
            "linecolor": "white",
            "ticks": ""
           }
          },
          "scene": {
           "xaxis": {
            "backgroundcolor": "#E5ECF6",
            "gridcolor": "white",
            "gridwidth": 2,
            "linecolor": "white",
            "showbackground": true,
            "ticks": "",
            "zerolinecolor": "white"
           },
           "yaxis": {
            "backgroundcolor": "#E5ECF6",
            "gridcolor": "white",
            "gridwidth": 2,
            "linecolor": "white",
            "showbackground": true,
            "ticks": "",
            "zerolinecolor": "white"
           },
           "zaxis": {
            "backgroundcolor": "#E5ECF6",
            "gridcolor": "white",
            "gridwidth": 2,
            "linecolor": "white",
            "showbackground": true,
            "ticks": "",
            "zerolinecolor": "white"
           }
          },
          "shapedefaults": {
           "line": {
            "color": "#2a3f5f"
           }
          },
          "ternary": {
           "aaxis": {
            "gridcolor": "white",
            "linecolor": "white",
            "ticks": ""
           },
           "baxis": {
            "gridcolor": "white",
            "linecolor": "white",
            "ticks": ""
           },
           "bgcolor": "#E5ECF6",
           "caxis": {
            "gridcolor": "white",
            "linecolor": "white",
            "ticks": ""
           }
          },
          "title": {
           "x": 0.05
          },
          "xaxis": {
           "automargin": true,
           "gridcolor": "white",
           "linecolor": "white",
           "ticks": "",
           "title": {
            "standoff": 15
           },
           "zerolinecolor": "white",
           "zerolinewidth": 2
          },
          "yaxis": {
           "automargin": true,
           "gridcolor": "white",
           "linecolor": "white",
           "ticks": "",
           "title": {
            "standoff": 15
           },
           "zerolinecolor": "white",
           "zerolinewidth": 2
          }
         }
        },
        "title": {
         "text": "Observation Space when opponent is strong"
        }
       }
      }
     },
     "metadata": {},
     "output_type": "display_data"
    }
   ],
   "source": [
    "for opp in df[\"opponent\"].unique():\n",
    "\n",
    "    df_mean = df[[\"observation_space\", \"model\", \"opponent\"]].copy()\n",
    "    df_mean = df_mean[df_mean[\"opponent\"] == opp]\n",
    "\n",
    "    def convert_helper(action_space):\n",
    "        action_space = [list(a) for a in action_space]\n",
    "        action_space = np.array(action_space)\n",
    "        action_mean = list(action_space.mean(axis=0))\n",
    "        return action_mean\n",
    "\n",
    "    df_mean[\"observation_space\"] = df_mean[\"observation_space\"].apply(convert_helper)\n",
    "    # make every entry of action space an own column\n",
    "    #df_mean = pd.DataFrame(df_mean[\"action_space\"].to_list(), index=df_mean.index)\n",
    "\n",
    "    df_mean = df_mean.explode(\"observation_space\")\n",
    "    unique_models = len(df_mean[\"model\"].unique())\n",
    "    df_mean[\"theta\"] = [f\"o{i}\" for i in range(18)]*int(unique_models)\n",
    "    # plot more df in one plot\n",
    "    fig = px.line_polar(df_mean, r='observation_space', theta='theta', color=\"model\", line_close=True, title=f\"Observation Space when opponent is {opp}\")\n",
    "\n",
    "    fig.show()\n",
    "\n",
    "\n"
   ]
  },
  {
   "attachments": {},
   "cell_type": "markdown",
   "metadata": {},
   "source": [
    "# Location of player"
   ]
  },
  {
   "cell_type": "code",
   "execution_count": 257,
   "metadata": {},
   "outputs": [],
   "source": [
    "def visualize_location(model, opponent):\n",
    "    tmp = df[(df[\"model\"]==model) & (df[\"opponent\"]==opponent)]\n",
    "    obs = tmp[\"observation_space\"].values[0]\n",
    "    array = np.array(obs)\n",
    "    array = array[:, :2]\n",
    "    plt.hist2d(array[:, 0], array[:, 1], bins=20, cmap=\"Blues\")\n",
    "    # set x and y min and max\n",
    "    plt.xlim(-4, 4)\n",
    "    plt.ylim(-3, 3)\n",
    "    plt.show()\n",
    "\n",
    "def visualize_location_comparison(model1, opponent1, model2, opponent2, df):\n",
    "\n",
    "    tmp = df[(df[\"model\"]==model1) & (df[\"opponent\"]==opponent1)]\n",
    "    obs1 = tmp[\"observation_space\"].values[0]\n",
    "    array = np.array(obs1)\n",
    "    array = array[:, :2]\n",
    "\n",
    "\n",
    "    tmp2 = df[(df[\"model\"]==model2) & (df[\"opponent\"]==opponent2)]\n",
    "    obs2 = tmp2[\"observation_space\"].values[0]\n",
    "    array2 = np.array(obs2).copy()\n",
    "    array2 = array2[:, :2]\n",
    "\n",
    "    #transform to other half\n",
    "    array2[:,0] = array2[:,0]*-1\n",
    "    ext = (-4, 4, -3, 3)\n",
    "    plt.figure(figsize=(10, 6))\n",
    "\n",
    "\n",
    "    hist1 = plt.hexbin(array[:,0], array[:,1], gridsize=10, cmap='Reds', mincnt=0, alpha=0.3, extent=ext)\n",
    "    hist2 = plt.hexbin(array2[:,0], array2[:,1], gridsize=10, cmap='Blues', mincnt=0, alpha=0.3, extent=ext)\n",
    "    #plt.colorbar(hist1, orientation='vertical')\n",
    "    #plt.colorbar(hist2, orientation='vertical')\n",
    "    hist1.set_label(model1)\n",
    "    hist2.set_label(model2)\n",
    "    plt.legend()\n",
    "    plt.show()\n",
    "    return array, array2"
   ]
  },
  {
   "cell_type": "code",
   "execution_count": 258,
   "metadata": {},
   "outputs": [
    {
     "data": {
      "image/png": "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",
      "text/plain": [
       "<Figure size 640x480 with 1 Axes>"
      ]
     },
     "metadata": {},
     "output_type": "display_data"
    }
   ],
   "source": [
    "visualize_location(\"td3_0_no_self\", \"weak\")"
   ]
  },
  {
   "cell_type": "code",
   "execution_count": 259,
   "metadata": {},
   "outputs": [
    {
     "data": {
      "image/png": "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",
      "text/plain": [
       "<Figure size 640x480 with 1 Axes>"
      ]
     },
     "metadata": {},
     "output_type": "display_data"
    }
   ],
   "source": [
    "visualize_location(\"td3_0_no_self\", \"strong\")"
   ]
  },
  {
   "cell_type": "code",
   "execution_count": 260,
   "metadata": {},
   "outputs": [
    {
     "data": {
      "image/png": "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",
      "text/plain": [
       "<Figure size 1000x600 with 1 Axes>"
      ]
     },
     "metadata": {},
     "output_type": "display_data"
    }
   ],
   "source": [
    "a1, a2 = visualize_location_comparison(\"td3_0_no_self\", \"weak\", \"td3_2_with_self\", \"weak\", df)"
   ]
  },
  {
   "cell_type": "code",
   "execution_count": 96,
   "metadata": {},
   "outputs": [
    {
     "data": {
      "image/png": "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",
      "text/plain": [
       "<Figure size 800x600 with 1 Axes>"
      ]
     },
     "metadata": {},
     "output_type": "display_data"
    }
   ],
   "source": [
    "model1 = \"PPO_R0_ONLY_SELFPLAY\"\n",
    "model2 = \"GSDE_PPO_R2_ONLY_SELFPLAY\"\n",
    "\n",
    "model1 = \"TD3_R0_NO_SELFPLAY\"\n",
    "model2 = \"TD3_R1_WITH_SELFPLAY\"\n",
    "\n",
    "tmp = df[df[\"model\"] == model1]\n",
    "obs = tmp[\"observation_space\"].values[0]\n",
    "obs = np.array(obs)\n",
    "\n",
    "tmp = df[df[\"model\"] == model2]\n",
    "obs2 = tmp[\"observation_space\"].values[0]\n",
    "obs2 = np.array(obs2)\n",
    "\n",
    "pos = obs[:, :2]\n",
    "pos2 = obs2[:, :2]\n",
    "\n",
    "pos2[:,0] = pos2[:,0]*-1\n",
    "\n",
    "\n",
    "\n",
    "# make hexbin heatmap\n",
    "model1n = model1.replace(\"_\", \" \")\n",
    "model2n = model2.replace(\"_\", \" \")\n",
    "#plt.title(f\"Location of {model1n} (left) and {model2n} (right)\", fontsize=14)\n",
    "plt.hexbin(pos[:, 0], pos[:, 1], gridsize=(10,10), cmap=\"Blues\", label=model1)\n",
    "plt.hexbin(pos2[:, 0], pos2[:, 1], gridsize=(10,10), cmap=\"Reds\", label=model2)\n",
    "# set legend color to blue and red respectively\n",
    "#ax = plt.gca()\n",
    "#plt.legend()\n",
    "# legend handles to change color of legend picture\n",
    "#legend = ax.get_legend()\n",
    "#legend.legendHandles[0].set_color(\"blue\")\n",
    "\n",
    "\n",
    "# set x and y limit\n",
    "plt.xlim(-4, 4)\n",
    "plt.ylim(-3, 3)\n",
    "# set figsize\n",
    "plt.gcf().set_size_inches(8, 6)\n",
    "plt.savefig(\"location_td3.png\", dpi=300)\n",
    "plt.show()\n"
   ]
  },
  {
   "cell_type": "code",
   "execution_count": 97,
   "metadata": {},
   "outputs": [
    {
     "data": {
      "image/png": "iVBORw0KGgoAAAANSUhEUgAAAqIAAAH/CAYAAACM+b9HAAAAOXRFWHRTb2Z0d2FyZQBNYXRwbG90bGliIHZlcnNpb24zLjcuMSwgaHR0cHM6Ly9tYXRwbG90bGliLm9yZy/bCgiHAAAACXBIWXMAAA9hAAAPYQGoP6dpAACvD0lEQVR4nOz9ebQt2V3fCX5/OyLOcMf37hvz5XuZUmZqFpolLLCNsIVsuRqb1QUe24CbdmMX0HbZVdWoahkvqtpLyxbViypMATZui+UuChnbgMEGmQaEyi6wQQOSUlJKmanMfDm8+b07nSGG/es/dsQ55557hh3DjnPuub+PdPK+e+858Y1hx47v/n13xCVmZgiCIAiCIAhCzahFr4AgCIIgCIJwOhEjKgiCIAiCICwEMaKCIAiCIAjCQhAjKgiCIAiCICwEMaKCIAiCIAjCQhAjKgiCIAiCICwEMaKCIAiCIAjCQhAjKgiCIAiCICwEMaKCIAiCIAjCQhAjKgiCIAiCICwEp0b0J37iJ/CWt7wFW1tb2Nrawnvf+1786q/+qktJQRAEQRAE4YRALv/W/C//8i/D8zy85jWvATPjZ37mZ/CRj3wEn/nMZ/CmN73JlawgCIIgCIJwAnBqRCexs7ODj3zkI/ie7/meOmUFQRAEQRCEJcOvSyhJEvz8z/88Dg8P8d73vnfie/r9Pvr9/uB7rTXu3buHc+fOgYjqWlVBEARBEATBEmbG/v4+rly5AqXyzfp0bkQ///nP473vfS96vR42NjbwC7/wC3jjG9848b0f/vCH8cM//MOuV0kQBEEQBEGomOvXr+Pq1au5PuM8mg/DEC+88AJ2d3fxL/7Fv8BP//RP47d/+7cnmtHxiuju7i4eeeQRXL9+HVtbW7l0e3HpVRcEQZhLwwOUi8AmDoGw62DBY9Q2O6smnTpnm9UmVZOQ1vXo1HWMmFHbvstZBSwEEeA33OtkNNcBz65eube3h2vXruHBgwfY3t7OJVP7HNH3v//9ePzxx/FTP/VTc9+7t7eH7e1t7O7uihEVBGEpESNqLVSTTJ1GdMX2nRjR4tRmRJvudTJyGtGifq3254hqrY9UPQVBEARBEITTidM5oh/60IfwwQ9+EI888gj29/fxsz/7s/jEJz6Bj3/84y5lBUEQBEEQhBOAUyN669YtfOd3fideeeUVbG9v4y1veQs+/vGP41u+5VtcygqCIAiCIAgnAKdG9J/8k3/icvGCIAiCIAjCCUb+1rwgCIIgCIKwEMSICoIgCIIgCAtBjKggCIIgCIKwEMSICoIgCIIgCAtBjKggCIIgCIKwEMSICoIgCIIgCAvB6eObVp3Rv1JGLv7EnyAIgnNG/wSidGSCa2r9q+I1Qemrhm1jbbRWyHSsrBF13STG/1Qu80q1C0EQLHF22ivP1ZINE/8Od/Z9lVu1IONBVM/fNK9Lpw6jo9RwW5xsU7rMmjwbFA11XB0j5Y3sN3L39+1JmVe2fE7NqDPjQWa7amBljWjDAyIN6Irbw6y2nP1ODKkgrD4EIPAcnu/KA9qbQNgDkqi65Q46sVmdYxWGdIEGdPiN2/XItJybURr56ni/jm9TJds1YRk0+9elGewyF9sDYwpHjdp4u2NdkQ4B5E3QyLZFTfhdSfwGELRqMzMra0SJjBlNNBDr8u08T9sVQyoIq42vAK+OdIwU0FwDdAKEXfO1DLmrNWmVJ79Qgc84gNL/SGW0hFyZ7bL8XNWbNK3Jjp6wRbeJaJhWTOoABsbXS41vUUOaViRpTlVysHxVvkNSHtBou09jxlhZI5rhKVOdT9gY0iIUba8S1wvCaqEICCro7/MLe0Bz3VRGwx5yX7VLxYV5qqNLYkDHqcKALJOO83JiJjN2zHNtU871KmtGbc/JzFgXMdiDGD6Pnsp//pF3dJqEDayLx/VEQNAGPH8hpmXljShg9qtPpoKRJ66voh+R6qggnHyyGF4t8jwmMpGZFwBRD4jD+Z+xiuFtmWVIl9SATmIl544CtU5BmLldJdajqL/Oe17mNdjjlck8pnf0Q/OqozSuk3fDsmOT3jxl8/mgCfjNhZqUU2FEM2zjehd9hxhSQTiZ1BbD20Jk4jO/MTuud3XTxLFy0AkyoRkrZ0aB+iJ7GvG+o3oVa9tuTpnzcp7BnhfD59aZFtdXpJMxOPdnxDeeb6qgNd2QNItTZUQzZsX1rvsMiesF4WSwsBjelkFcHwNRd+xuZ9eG5ASaz3FWLq4H6rmZKf3PkXjbkea0zXF2o/jIwCGL4Z3oKAyql1kMX3g+9gw4rbjRSEdGygxkveWxf8uzJjUzHtcnFd3gZoOYUUFYXpYihreFCPADc1GJ+8XmjworViGtIaoHRi5i7FaqrvNw9KLs8madTIfHdRxuKGsAapikLJkBObVGNGMQ1xMQlrwhVRCEk83SV0GnQWQetwICws6i10Y4TazauIccPA5pok7N832aa8aELiGLnxywJJyI6ocgCE5RyzQXtAjzHvUiCMLpZIn7huVdM0EQBEEQBGGlESMqCIIgCIIgLAQxooIgCIIgCMJCECMqCIIgCIIgLAQxooIgCIIgCMJCECMqCIIgCIIgLAQxooIgCIIgCMJCECMqCIIgCIIgLAQxooIgCIIgCMJCECMqCIIgCIIgLAQxooIgCIIgCMJCECMqCIIgCIIgLAQxoinMi14DQRAWzknvB1gveg0EQVhGlrhv8Be9AsuAZiBM6tMjqk9LEAR7YgZIA4pO2HnKDMR9IOzVp5dxonaUUDmEkz+AOwLDbJRrGcZgx9VxDvU7RtNvLN05e6qNKDMQayDJ2l1NJ5P04YKwvETadAeBZwzpUsMMJDEQdc2/idJ+zGFnNh4fZbqCJZReb+q44NRwYSNlNJa44pYPGh4bV+06Wz7rVMPx+UPK6EQ9IA6BRhvwlsf+Lc+a1AizqYJGY+cNUf0RPXPaBKUfF4SlgWFSEo8AXy2pz9IJEHbN11GyC9toxaUqpnWQq2BGs/V3dhFIlz8Y3bCbYzSQUwMZ92aUYGb6cf0X0UoZi0JcVI0mDeQ4GR6vKs8jmtB5sQb6h4DyjSFVi5+heeqMqGYgSqafls77ognUFAQIgpCThIEkAQK1RHE987CyMYtBdRQoZURsO8NViXqcXAQmNB6iYfWjymriJB1XA5NJOieyOmpxcpcZbNm0JdY44gTKnEPZsZi1DB0DvX0gaAJ+c6Hn7KkxopxWQLXleVi3IV2VPlwQVpGliOuZgSRK54Hm7cgG/8mvWYRVqZCWvgBYGJyqqolWOjUZUvKqN9hOSPeZbVst0q5zHVM+OsUm9zlEwwGOLVHfDGqDNK5fwHm78kaU2VQ14oLng8T1giAAC47rp8XwthQxIWU7vlUxo0CBfZHT4BypJhYwinn2c1WVchudpY7rC0YceapGZQZyYAA5OppJMXwevbADKC+N671iyynIShvReTG8LRLXC4KQUWtcz9pUQJOomuXNMyFVd3KrEvXkugiUaBR54/oyOoD7+aNlDbYTKjxpOb1S0/jPKoI1wCPrO2m9q5xbqhOgd2DurA9atZ2zK2tEoyS9G75CJK4XBCEji+sbnqPzM7soVM0kE1JHp7YqFdKp+6pCgzMv3q5Sp7a43sF82HwrMVyXSknNqLNzaEpcbzMPtChxCMQR0N4YGl2HLP52KUdUbUJHOel9qSAI1eD08l00hreFqJaLzMpxbA4elYtF52qp4z9zoVNHBrewNldg7mQe6hrIZYaUlLs2NxQEdD2DhpWtiLpmEXNHBUEQqieNToV8DEyAYwNXp0ms46JGZOLm2tqc6/kzNbOCg8fV2yJBEARBEAThRCBGVBAEQRAEQVgIYkQFQRAEQRCEhSBGVBAEQRAEQVgIYkQFQRAEQRCEhSBGVBAEQRAEQVgIYkQFQRAEQRCEhSBGVBAEQRAEQVgIYkQFQRAEQRCEhSBGVBAEQRAEQVgIYkQFQRAEQRCEhSBGVBAEQRAEQVgIYkRPCMyLXgNBEFaSOjsX5hXszFZte1aNGtpc1q6dt20GtF65c8hf9Aq4guCue1hUG8h0iRajLwjCcZydjuS4TsAM00suoENbuc4s24dVb8/IfqrjwpO1OXbcLoiMFjPA2p3OADabU3V7GxyTkX3lQmcUHZuvyk/3o0Otms7Pla2INjzAc7APl2EgspJFBUE4YRBMP+Osr/Z8oLkOkFf9sjMDsOiOZNH6lVOVgZuwnNpNe00Gh1RN21Zxm586kKvp3NIxkMRudJQHtDbM1xpY3YooAYEHeAxESfmuYRn7S+YVKigIwgkiUIByXIwAYMxoax1IIiDsoXRPVlsFKgcrVx0F0rJYwc/NYHQfubwoZToDCUdaozqDqm8N8faggF3gGFmvY0kdu5UxfQMpYxpL6xDQaJt+p8bzcWWNaIYiU7XQDEQF+t9lNKCjrGQfLghLikeAX1cBJ4MI8BuAFwBRD4jD/MvILp7L3KGtXGeWN67PeWwGJq4GQwrHJjHTycyo88ESD7/YtrdJMbwLnSKwBhKdmtGCHVTQBPzmQs6/lTeigNmvHhlTGmsgsWxHy9xnj7NyfbggLBEEk7CoRZ5flFYr/AYQdgGd2H1uGaugs1i5qGeeIS17oXF5R8S4TLYNrs2vQj0Dp0xjRrxRyIAW0KkCnQDQgOfZzzFXvulX1OJmap4KI5phG9efJAM6zsr14YKwYGqL4W1Rnpk7msTGkE7ryU6aAR1lJUfW43F9RRcaSv/j/MJFqRnNtsOxGV2GuL5y7ToMKZu+YV5cTwpotEzSsmBOlRHNmBbXn2QDOspK9uGCUDMLieFtIQL8wMzlivpA3B/+7iTE8LasXGdWR4wOiesLwUe+uDW/NcwfnRXXBy2TrCzJeXUqjShwPK6PT2jhQBCEalmKGN4WIlPVyOL6JDq5VVChOmp73FONOlA1te26BnBpZdR1jDmI633TTzRa7h8Nl5PlWpsFkMX1jXqeUiAIwhLjpWnJiTChoyhl7q4Pmotek+pZkqqNsGBWocI/juvngA5gUwVtri2dCQXEiA44cRceQRAqp7brgitqeu6fIAgnDG95+wYxooIgCIIgCMJCECMqCIIgCIIgLAQxooIgCIIgCMJCcGpEP/zhD+Pd7343Njc3cfHiRXzbt30bnnrqKZeSgiAIgiAIwgnBqRH97d/+bXzf930ffvd3fxe//uu/jiiK8IEPfACHh4cuZQVBEARBEIQTgNPniP7ar/3ake8/+tGP4uLFi/jUpz6FP/pH/6hLaUEQBEEQBGHJqfWB9ru7uwCAnZ2dib/v9/vo94d/IWRvb6+W9RIEQRAEQRDqp7ablbTW+Jt/82/iG7/xG/HmN7954ns+/OEPY3t7e/C6du1aXasnCIIgCIIg1ExtRvT7vu/78IUvfAE/93M/N/U9H/rQh7C7uzt4Xb9+va7VEwRBEARBEGqmlmj++7//+/Erv/Ir+OQnP4mrV69OfV+z2USzuYJ/ok4QBEEQBEE4hlMjysz4gR/4AfzCL/wCPvGJT+DVr361SzlBEARBEAThBOHUiH7f930ffvZnfxa/9Eu/hM3NTdy4cQMAsL29jXa77VJaEARBEARBWHKczhH9iZ/4Cezu7uJ973sfHnroocHrYx/7mEvZQjDXqrYiGoKwYpz00+akr78gCG6o1+Tkwnk0fxJINBAl9WgxM4gI5opBrlQA0IiWI5WR4+tWB3C4eEEYEDMADXh0AttcEgFRtz69uk7MrJ+pRQvuuuUjOtKpLS21tgHU1xbCHkAK8Gp9aqcVy7dGNcIMRBrQWcNz6ZuZB4sfGrjqjeKIStrGzfeV6oycOEfOoYpPqNFxzOi/pf8WXBJrIAEQeIA6CW1NJ+Yio2PzPSmAtVtN5lRDnfwT8ljBxNH2jOu4MiCZTh2dZl3FJmbUV+5nQGPYDFzuuzg0xpAd6oAAzwPAQP/Q6AVtQNX20KS5nEojygwkbC44o2TtoNpzK61OTl2XaowiT1DIfkJHflJSJ11f1jzys6zSa74pbXrnrGY2kKxl1CqcShhAmBgjGiyr12IGoj4Q94/+nAhm1hVX25kdMTjZvzXAI+VjlzvKhbGatH/q0sl+7tKMutSpyxwOBj2ONYCjmzMoUKX/qGL3ZTo6Gf47jgDlmRdQ7XFSnhmYji4ziYFkHwiagN9cis7t1BnRRBsDOuv0Iaqm/x6tfFp+Avlb+/zPcLouaQ2zkFEcGNAZm5L1dWXMte0uqys9EU43moF+AvhqieJ6ZhPDhz1MPVGIMIh5yl7ER0/KiR0Aj5z8o/oOqcIc2HTyVUwLmKdTlfHlOQOPKnRyX9MKMmnQ40Qn/c/USlH6lUpecQYGVE8+H3ViXp4PkFd+4EAqNaEzlhH1TUW20Qa8oLhWBZwaI8ps5oHadsmlqqM8qT457yP54/rRGN7u/cgf14/F8DZvN8s+/nmbz+VB4nqhLpYmrtcJEHbNVxuIhhe2MobU5rOZaaC6Ir8C5qBohSGvMahbJ69eXiNftwGtupo/XdBuk0w1p3hcz2x3ziaxeZ/yC17U0hje9hxkBvodo9doDauyNbPyRnRaDG9LPkM6O4a3ZZ5RzG9zRz9rsInrJ8Xw1jq2cX1FpU2J6wXXLDSuZz2sYBQhb1xfpiLFaeSUXQyXIa7nwX/KadkO3l3rjG5PYb28nW8dxhDuY3ggvUAV+dzoP+YY+UkxvO26JRGgR24ssml3mXktcr7pGOgdmKg+qD+uX2kjahPD2zIvrs8fw9sy2llUF0jPiuttYnhrnTlxfRXXh9FliQ8VXFNrXJ/d0BD1yi/rSFw/xWBWWZFivYC4fppOVZ3MHONbVRVvrsGuqGI4S6f2GH4B80ALLwvT4/p5Mby1hjbn/rz5ozYxvC1xFte3TFxfkyFdWSMaJaYSWiWTqqMuH1F1xNwO2kO1esMB3lGj6OIeh+H+c2cZJa4X6iKL6xsVXQOOwRroHVZ/gc6qJqNx/WgVrkq92uP6Ed2qJvvP0nD+uBUc3wZX23Rsua733ei/XW7TyDGqUmY0rs/aWvbVduqMDToxptYbj+tpws+qgM30HxUCzfVaLqQra0SrNqGjHDVUq0F2DukCMXwejUFcLwgrQHYJddKkk9htlSiL6zONKi+e42RxfR1z0IrOmywmVoPGqFxdejXtu2WaB1pi8YNzKEngRiyN6+GbCF557h+/NHoDlWNW1ogK+amrjyt7Q6AgCBWRxfUuTahQnpUyoHBbBT2mVYcGux00jur4i73D3QXL80RTQRAEQRAE4VQhRlQQBEEQBEFYCGJEBUEQBEEQhIUgRlQQBEEQBEFYCGJEBUEQBEEQhIUgRlQQBEEQBEFYCGJEBUEQBEEQhIUgRlQQBEEQBEFYCGJEBUEQBEEQhIUgRlQQBEEQBEFYCGJEBUEQBEEQhIUgRlQQBEEQBEFYCGJES8A8fDnVQU0a6cupDjM0M9jhBnG6fJcaRqee4y8ITqmzEdelJSdmMVZtv3EdVzXUts+YGax1LVp14i96BVxBcNf8jMkB9KhA+m+iCnWO6VavMbrccd0qZYwBHS5bM8NTgKp4YzId8w1AxFAEUIU6k/ocV8dGWH6cHfI6GhNrIInTf9fRiHn4xYXOsc6MT/ZJWecAYdL3Ti822bIdbOOx/ebiqjau5dJ1mGsbdAR0I7DygWYbpDxnegBqO3dW1og2PCBhIK548MDMSCYsk0f+UfbYzWvKVfUR8/o4RvnTlpnBGDPtKYlmaDA8RaWNYjY4mGTeEwYUMagCQzp3n53w655gjyIgUA6Pt/KBRhsIu9UvmxnQMTCpuuLKhBxZXlZ5o2p0Zp2YJ3GUWGdVclbVsMoObXSbsmVmbaBKAzezqluhIWU2A7kjVG9GeZKOjoHuPjhoAkGr0kKLgUzf49ropqysESUCfAI8AqIEKOtHmRlaW5hEpOcuip2/eZpw0T4iTx9X5rRlZiQWZjfWpmpZpHKZGd1526TTvtZTXOikzbXPTuB1T7CHAPgK8FxPbCIC/AbgBUDUA+Kw/DKzi1pWBZ333mw9yjJ1GSOjx6I6tifnSTkxa62CWmiV3W+ztmewTCofo+eaVlCizJKt51Staswoz9UBEPWBKAQ324AXVGNI/SYQNGs9T1bWiGYQAQ0fSLSpjuZtHhNjeJvPDf5jdzyLNtu8fUTRPi6PIR2P4W3Q6WfyxPVHYnhLEp0vri9zTTgp1z3BHl+ZwW2tx5TS6oTfMNVRnRRbjs4MaN7OrOCI1/ozBeP6wp3ZksYWtcfwBdoB4O5iQ3Q0WrQl08m9/wqUWSZWQScxVv3PycQq6PR3A/0OoDxwc614XK98oNGqrQo6ysob0QxjcPLF9dNieFts4vqqup55fURVfdysceSsGN4Wm7h+Wgxvi21cX9k+W9LrnmCP8xjeaiU8oLkOJBEQ9mB9BjAbA2p9YZuyDMB+BxTaUZZxfRUn5jKNEpfdgE5bjotjRDRsA7bV2tL7z8KQ5jKG49hXSPMZ0DF0YuJ6vwE0WiCyjGyyga4XFNOtgFNjRIGxuF5PN0y2Mbwt0+J6F93PuOlx0cdNOm1tYvg8y58U19vG8LZMi+ud7LMluu4J9hCAwDPtcCk4Etf3gbg//b3M5uJUtII6bZnZesxax3Iik+P6VTwxly2Gz7vM8f1WxfbYxPWVGNBjC8UxMzrQKas124xaxfC2xCEQh+A0RZmZ/AUt058s+MJ0qoxoBlF6M9NYXF80hrdlNK53d6ttjX0bylcnZzEa1xPcHZdEAwSGUoDTA4PFX/cEexYSw9tCZGI0PzDVUT0251NrUzl1xbgJqXwnjcX1rju1uk/Mk2xAjy3fIeNxfeEY3paRdleVMRwwOa4vVQWdRdgF4j64sQbyxqyeFxgTqpbjCZ6n0ohmjMb1UVIuhrelBh9aG0XmaBYhSaujLvfaoGpNsyYfCKeBpYjhbVEe0Mri+u7QgNZldJzvpJG4vg7qmEezKia0LrKBSJVx2CycVFvHITBrNwZ0FK2B3gHYC4Bs/mijDYwb0wWzHHZ4gRCZykez/vm5giV1+QETYZwE9yG4wkvTkhNhQkfxAqC1aS4wK2NCB0I16eAEHvhZrIAJzaDqH4t0qkgiczNSa2PpTCggRnTIKvU/giAU4kT7EKKF3nAgCMIS4wdL28GJERUEQRAEQRAWghhRQRAEQRAEYSGIERUEQRAEQRAWghhRQRAEQRAEYSGIERUEQRAEQRAWghhRQRAEQRAEYSGIERUEQRAEQRAWghhRQRAEQRAEYSGIERUEQRAEQRAWghhRQRAEQRAEYSGIERUEQRAEQRAWghhRQRAEQRAEYSGIEc3gRa+AcHqQxrassBwaQTj1SDdQL6feiDIDiQb6yaLX5ORRz0Wb006BwA4FmXnwckm2fNc6dcA8fK0KCQNRckK3SWsg6terWVMfICwxjBN6wkyGAdCiV8IF3X1AL6fROdVGVDMQJkCkASKCpwBy3AIJJ7+RM4xhc72vjDEEtGbEiR78rGKVwb+ihKEZTgxptkzNjFjzQPVEGtJp5vMEbsokEjYD00SfkOsrMxD2gN4+wBpQnns9ZiCOMb0xVKGDo6MdlwejDp26tqV2atqW0fbgSiJd/qAw4VQHI+3BkVCG8kBJBOzeAnoHS9f+/EWvwCJgBmJtLjijEBE8Mo0k9T2VQhgaXdfNIPOIFdsps+SR82awPRUKDaqGY8uNNUPRcPREJZ1wpqNHRBLNSAD4ikBpWyijk32eJ+hoYnhEpTXqZqIH5eEvT9CmzCTS5jwKPEAt4zYxA0kMhF0MjgoR4PnGjCaxMaZV6gFmmVllRcdDvUy/OsGxf5NZBwIqHc4zD7V4rB5WdWMerUgxDZdflc7oiegS5qNfs3+72p5jbbnaqtGgIKD1RJ2qqqQ86RwCqm/Tg+UqY0JH91V3H+h3gLVtIGhWr1mAU2VEmU0VNJrTN5vqKA/eX5ZRAzr6M6D67mK8KVelMzSHk5dEVIUZHZ7u0/a7ZmPoPEUgFDOK04zuKLFmEDN8VdwoZjqJ1lPNW8wMRQSVTUBYUheX59hm713STckFw6QmHgF+DYmJNToxBnRa1EYE+IG5sCZp5bI0DCTJ8WUlsVkPzwfIK59tTm1s2UWcyl+zZxo2HjFVJYVGjcex7RrRGR/ZF9VZhAGduB4pZbdHJ5PbOOtKjPzgMDNP1TFjE9NDF+2fB6cEsxm8TVqRbGUq6WQI8DwQTQm9dQIc3AP8JrC2Zc7dBXJqjKjmdO6X5fuJTEWMOItr82tmzWlWu6rKKM5rulRQYzQ6nvf5MtXRSdXJWSSaoWEMqb1RnG90j66Ties9lc8ojm6LzdbotI2VMdfOKJsaVVVKWDBJ6sECZaqjCzs8zEDUA+LQ7v1KARSYC3cy4QJooweYC9es6iozEEeASgAvSI97jp2Uq9PIOuQiJiRr0JYdACemqpT3gI8atnlV6awiO8002GrVFpFb7rusOlHkZMmq/TO3aczI59AZuRKAYz1HB+kxpJHxQg6trPCh4/n7btSQGiFrnQHKA0jZrWPcB/ZuA60N81pQx7byRnRaDG9L0bh+UhV03vuLdiO2MvlM7/BUzbteeQypTXVy6mdhH9fnNbqj2Mb102L4PDrLFteXubRJXF8hzEASmbmgeY8KkalUkjLVGG3RkU2LEOehNaD7+eL6wlEKH/li1chsTeiRzxSpvrHdfj6mg6Ehtdqe1MS6ZF4VdN7ngBzbgvxTSgb7wG7AMDSGee9KPFopnzfGHsb9cwZxkz+c38hPiuFt6R2kcf0WELRq77BX1ojaxvC22Mb1eQ3o+GeBHFXbYjJzdebF8NY6M+P6fNXJWcyK64d3qZfvrmfF9fNieFuWIa53MY9d4voSZPNAy873JDLVSqWHNxpNY1qEaEsSmxKyn8X1Uy6olTS2OZagkorhWPUNOL49o/MMy2il1bcB03SW1YBOWs6sKt+8GN5aZ7aRPzo/s8S5xAxOK+Wc6owqDVpj3kHcBJ0BMzsZAjy//HWCNXD4APAbaVwflFteDlbWiEa6mvmdo8yK621ieGud9Ou01a/qunekCpt2FKMVyko0plRHmYtVDWcxGtePUmU7GI/rKd1ntjG8LeNxvWtGB+CCHVlc3/QcmVFmY0CTqNrlkjLzR8fj+oEhsIgQrWAT11NqSLP41EkjyzpkmtDpVNwBjMfoM+eBFhZKT8qxuH4ZY/g8yxo//kTH22FpnaGRP2oU0xPWtQ5r8KS51IV1Zhh55YNUxQ8/ikNg7w7QXAfam7VUD1bWiFZtQkfJ4nqt2WmlZ1JcX7XMqOmt2hge0UmFsn3mSomRxfXzgpNyZHG9p9w94iPTya6triujdZjQVaqMZjhraUlcvQnNGI3rkyiN1AtEiDawBqLQRPXOb4oYMaTZ905kRqtvBWL4QjrAiamCzls+YA5RHLkfmKBIDF9Gx1VbGDGjeeaBFqV/aGL6oOFOI2VljWgd1HExXaHr9YA6xvJF58jn1nEvIZxaamhdRKkZreFB+Nmd9bVQ05lZ1wPCWdfUodW431wZtlHYQTQ6USepRwcA+e6N4ZB6tulUP9BeEARBEARBWBxiRAVBEARBEISFIEZUEARBEARBWAhiRAVBEARBEISFIEZUEARBEARBWAhiRAVBEARBEISFIEZUEARBEARBWAhiRAVBEARBEISFIEZUEARBEARBWAhiRAVBEARBEISFIEZUEARBEARBWAhOjegnP/lJfOu3fiuuXLkCIsIv/uIvupQTBEEQBEEQThBOjejh4SHe+ta34sd//MddyggVQSumw2Cny9fM6Ecamt3pMDMSzYgTBjvWyV4uqUOnrm0RBEEQyuO7XPgHP/hBfPCDH3QpMRUFQDta9uj1jYhW44JHgEq3hXF0GyshXZ4iAsiYBc1wZxUpk+X02+rsLzMjTBhhbFpYLwJagULDJxBVp6P5qAGNEqAZePBUtdsy7WdVbsu4jvnWjQ6PfU8Va4xzEpecwcxAFAI67S2p2jY8ImS+hj1AeYDnA650dAIkMUAK8AOHOhpIIrN8z6FOtk0gwPfMdrmAGeDsqklutifTyTQcFgv4yPZkODpGSWS0KD0+Lvad1kD/EBz2gPYmsL4FctUWMhz2m6M4NaJ56ff76Pf7g+/39vYKLyvwgISBuEI3evyabQ6SOVYn2JDS0KgREcAMIkBXsTlTlkEEeETQqSGtimnnTVWGNE40erE+1hZ6kUYYA+2GB98rp5FVQZOxtqsZ6IYJfEVoBqq0YTBVw9m/B8qZuFnnxPBXXM22TPvdiFiVJssjwHd0zTECPuA3gDisfNHMDMSRMYaje25kP1ayryYdf52Yl+cbU1rVDtQJEMcYbA9rIOo70EkNaLZtzOYYKa9aHWYgSTA8Pmy2jxTgVayjNY521qkBrtKQjhtDIqRVCUy9UBSS4RnLTLepGiFAx+Y1+FliXsqvbsDAbM7T3v6wzXV2gd4BeOMs0FxzM3hsrZsBVg0s1c1KH/7wh7G9vT14Xbt2rfCyKL1IND2gigLSbI9JI/89+RAZu+YpKrfvLPeZR9XsO5tlFI3rtWZ0whjd6LgJHbyHgcN+gk4/KRTXZwY0jI+b0FFizTjsJ4hiXWjww8zQerYJHX9/EWw/Z66DxaL0QQw/733Zq4LBIgFoeGaw67RgQAQ02kBrwxiciuAkBnoHQNjFxJM0vZCX3lfzPp/ExsDpktWCrKobR5i4PUmcVn2T8jpxaF7TDHac6pTZd5kBTUZM9ZHfa7OtSQU6Wqf7ZcYwbmDsSuiwnlCdTMkMacmrgOkLMp1Z61uB8dUJEPePmtAjv4+PDlaKEkfA/j2gu3d8WToB9u4AD26Cqxys+k1g6wLQ3qqtIrpURvRDH/oQdnd3B6/r16+XXiaRuWg0vGLNPNc56CrWcsWsc39kO1TeQXGO85zSfaaonCGlHP0Yp/+zei8z+rHGYZjMNIejRAljv5ugH9kbRc2MKDFRvC39WKMbJkgsS8rDuZPWEsc+W/V7j36ugA7yXVIYZl8XNVmBMn1JhbMj5qM8oLluTGmJizWzBvc6QO/Qzvwxg3WBwU6eTjMzd9EUczfvs0lsqp7TTM7wzeaiHoUW752hY7PfkthoFdHR2nze5rM6MTpFjDynBtRqHdOzrFjHkZrQOZ8dXGCKtW+21Tn6KeQ2pKyNAU1Ci88yoKNiAxOtgcNd4ODedLObEfWBe6+A9++BywzqlAesnwU2d0yKUCNLFc03m000m00ny1apIbWN68sMZIwZNRHA0sX1Oc/zgbFO43rmGadfBfssT1xf1vPPi+vjRKMX6cKbZRPXT4vhbbGN64sa0EnLASbHtlW0dZu43qYCOldnRMxm8Og8hp8HkYnpvcBceOL+/M+kcGb2wl4xbdu4vlTVLEeMnpmOOCqoE9rPU9V6eqV1tpD5nFJpTDtHJzO7RUhiQJPd9gzmmxYhR1w/cX7mHEbNqGVcPzuGt8Uirp8Uw1svfiSun7fvmE1S0T1A7m3q7gO9QxPXt9bzFcVamyaKX1AHt1RG1DVEgJ9W3mJtTOkkqvGOI3H9CtzQNJg7qsy2HDOKFe8zj7Lq1ax3VgODj5hRrRm92L4COossrg88QquhzM1awGAf5qmAziLWjLifoOkr+N6wMl+VAR2H+ahRrLp9Z9VRIhzZFqCipja6HJ5uegkmgq+1AjoLIqDRMjfhhL25F0ZOYqDfzW8Kji1ouO8n7quqjn8Sm8jZ9ydPR8gMaFm9bJ6qH0y+uSSbQ1t2v2kN6DA1iVN0ykb52XLiKJ2nOkUnd8Vwqth0Q5qZwrI6RKMn6PE1qEpnuMRMeFzI7Lekguhbx2b50wYmUWgi+DJTSFgD+3eB7j54cwcUzCnsBS1gbavSqT9FcGpEDw4O8PTTTw++/9rXvobPfvaz2NnZwSOPPOJSeiZE5uLisbkTOWuCTrziskT1lUzCPBrXM8r305NlhlVYj3Ds7nonN6fCxLVRbO6Ir5ooYUTdBK1AIfDMQMhFe+vHenB3vSJHbTqljsGVkXD7IC5Ganpx1GQFqsC0lLpQHtBcMxe3sHvsQLPW5udFq2zTyKY1ZNOQnLSB1FRRakhJDSuGZed5jhOP3PWu1NAYVr3fktSEeP5Qh3X5+bHjHLkRLNMpUJ20YqRjHsRlFeoM2leWMKaqzrYHIzqUGtAKBiPjy9dROihJK/86ATr7uVKOucQhcP8GuLUObJwFjRtN5QFr28A8o1oTxA6vJp/4xCfwzd/8zcd+/l3f9V346Ec/Ovfze3t72N7exu7uLra2thysYdrvMBBW3L9NUXNqDI7h+AKa54aX4jh+zFOmwoxOOP1GpKowc5bdzyVueATfW6op4OWoyQwSAF/RYmP4vDCbi1jUNxfpyPzbOVTlQ9Fm6SiHxmNBOnVANY2iarqosdYm4nYulMXwjrWYTRW033GrQwSsnwWtbQIg8+in5lrlbaOMX3NaEX3f+9639JE0pVF9E0DfeRs/OrI76TgriBxVQV37rI6mWlfEq06Mi7LEYhpXFXjKpCUnCiITsXkNE+3VYUIxPDOdH5Y6zGGtOnyCRjnLRE3XzuxGLtcksXsTCpj2dnAPvL4N2jq/8Bh+EitUMimH9AuCsMTUZuDr0XGCUubRKzVykneXIEyktuJZzUWp1vpSmlBAjKggCIIgCIKwIMSICoIgCIIgCAtBjKggCIIgCIKwEMSICoIgCIIgCAtBjKggCIIgCIKwEMSICoIgCIIgCAtBjKggCIIgCIKwEMSICoIgCIIgCAtBjKggCIIgCIKwEMSICoIgCIIgCAtBjKggCIIgCIKwEMSICoIgCIIgCAtBjGgK86LXQBCEqdR0fmrpBwRBEGrl1BtRZiDWQD9Z9JqcPDLzzg5d/OiyXesocrb4gYauaZ8lqZBrnezlGh78xy2JBsLkhA5MmYE4XPRanFjqaMeAacZ1KDFOaDteNI6vAwsQMnT2amvjeTnVRlSzuejEGqCa2gTVJQQMe7yK215mPnqRxm43Rpi4MSSZceuEGp1+4sTEZcvKlu3q8DAzGMB+N8atvT56kT6iX5UGYLZltxdjtxtBc/UX2OxY63QQl2lUroOjzdd1F0ow56dmMzCN9Qm5kGcGtLsLcAJ4vns9ZnAcOR2IZMtlnbjVGQrWpKMHWq50mBnQGoDjgeKwGuH2ZGFGLcaNGcYWOa9KAMozrzrwG8DhLnDza+DeYT2aOXDcYy0nzECkj8dwmQlxffHJzGito5NMqsT5xcwgIkQJHzGGvUgjjIF24MH3hu8rowMAvVgjjIf7qBtq+B6h6VNpDTADRGAGwthsC5HZPYzqItpsW/qRRjdMBofh/mGETj/B9poPT5UfoGRGtx/pQTU0jBn34ghrDQ9rDTPmLHtciAgMUznM0Gxenkr3X9njP3Mdhv+uatCQGdBxYg0kAAIPzqvlhdEJ0O8AOgaQbkezDU5iIOwb01MV6TmDJAI6e0ASG9O7tg0EjfLnZCaTaTGD42wbCPADgHwwGFSRUTDnpzHV4DQW8xqA51e2PUMdY6oHx0T54NSIVK2DdLuQaEApMMqf/2NC2T+OnpQDv1jhCZNuC6VHfijkAGZzfEgZjSrPnyM6GohjIGiYcziO3BgP5QGN9nBwGofAnevg1gZw5hLID6rXLMCpMqLMQJJWcWZRpyFd1lL5OIPqZC9GlBxfZ83AYZgg8AitQAEFOvFRo9uL9MSuJk4YccJo+gQ/HUwW0QGAKB6atlGIAI/M8S9qSLNtibUx7ZN0+rHGrb0QG00Pm20/1S64LQlPPC4A0AkT9KIEGy2/sInPdOKEp14CEg1o4nTfVXcRn75O5a552cdmrSfDpCaKgEDVl5zMhRkIu0Dcn/hr8nxwyzMXuGjye3LrsQY6+0DYG/48iYH9u+BGC1jbAkNVMghFEg3MdfobIA7BFAN+w/gdJzoAkhCsY2NI04FXUaWhMdTGcIyiY/MzzwfIK6cz+OyEyqTWALQxJSW356jopAspA0zV+dCs3aUMizipVlUwHz0+REiHqKjMkGaDgzg+ujzlmc4lM6SVYAak8ILJnVbvALhxCN46B2zugGix4fipMaKJTqO2HJ8hWsHq6KiMRWeRrVc31IM4eRbGECVoBQoNS6M4Gil3w/hItW0a/dgYr2agrI1PppPo6aZtFCIT0pioa/46jeowgMNejHDeqAfAQT9BJ0ywvRag3fCst2UQI8d67vppBva6MRoeYaPlQ8HOKI4eGxtTzgzEbIybShublc78RU/9XJFr3rQq6DSyuN5XZpCyMEOaxfBhF/P2GhGZSqXvm+poEs98/1Q9wFRduwfTNcOe0WhvgFvrQ31rmXS5OgGSGfNcWQNRz1QTvaCQDhGZ6mccYer2sAbinqlYevmN76BdDgzOtGPFQBKZSqkXlNLheWZJJ+Y9yitm5EdN9by1yqL0IifKeFV3ApQaRZ7xHnudGXNwRg0p62Jag0FPfHwwMqrj+caUxtH099kQNIGgZbHvGdi7Axw+AJ+5BLQ26p06OMLKG9FpMbwtpzWunxbD22Ib1w9i+EgjtDCHoxjjOj+uH0TKDITJfNM2Sp64floMb4NmE9cf9hOcmRPXD2P4xMq0jxImjHuHEdYaCmuN6bHgtBjeFtu4vorWnieuz2tAx1loXJ/EQNjJfZEiUiau14kxjNrigGYxfByaGN5Kk4HuvjGta1tAozV3UDU0UtpUJ20rT4NqYmAVo3O2TWBwlGPKgk4A3TUmUdmlFsMYPra/cLA21e0ccf1AJ48ZYzbtiBRYWcb1FsZwygeHhtQI2a3fpKruFLJ+faBnvWp8rNo6RwggLzWtOTtEnbZtW52gYT4Th/mMh/JNFTTvvNMkBu6+BDTXwGcugYJmvs9XwMoaUdsY3pbTFNdnMfxhL0ac0xyOMiuut4nhbZkV12f7MpwSw9syK663ieFtCdO4fr3pYWssrreJ4W3ppBXujaaPZnDUxNvE8LYkGtBgeMqual2WaXG9TQxvrYGa43rWQL87u1JoASkP3FxLDW1v+huzC/ThXrFYXyfAwX1w0DRxvfJmDkI5CQtWgNgqRp8Zw9uSfdZrTI3RZ8bwtljE9aOmuvAFiXU6f9QbzJWf3o5L6GSfB2GOSD5jOMLRuD7Tm7U6XPz4UHYj05x1zYxuEhfaJihlKps2cT0R0FhL20yJzqjfMTczbewAW+dAdd1IhRU2olECuJhmvKpxPYMHJtg2hrdlENf7Cg0fg0jZNoa3ZVJcbxvD23I0rjcdLDNw2LeL4W057Cfohgm21oJB5TJhY1Srahaagb1ejEZk4vpsn9nG8LYwzIAwi+uzSqsrxi/eZaug08ji+qbnyIwymypZ2K1skUQE+AHY843JHL3IZQ2rdwBUcWdt1Ad2bwOtdXB7c6A/jOFj+0rRLAYxun8k3h4MfObF/dY65niMx/Wj8Xhho3tUaCSu982tWeM6Vd1EoxOw1oDnARiel5XrZEs2O23kxyPmvSQz54/axPD2Qpga19vE8Hl0srg+iSdPrQlaxrBW2QEd3AM6u+Dti6D17eqWO4OVNaKO7nUDsJpxfWamooSdbVcv1mklyVQPXZDF9YGXmcXqNbK4PkwY3TCp1ICOohl4cBghThiBR84etp7F9WfXA6dtWrM5JrbzU8viyoCOM6lqVQlJXKkJHYWITHTuB6baymyMY3fPLrrPQ+/QbEd7y0SHnMaOVQ9HdJxWLdMYnXV6N3zF2zMhrs8Vw9uS7SflDXXKzImcLgQkMZhoGOs60Um1RuN6BzpH5o9mx75SUz0QSuP6rMKafi0yF3uejh8M54+yNlNSGm1TOXWBToD7r4CDJqjRcqMxwsoaUSE/o49KcoWptrnXSWp6NqwrEzpKos3D9uuItVeFukyoW9wfEFIemBRw/2W3DUBrU2WhGhpZElVTabXR0TV0NFllzfWdzZmhquO8cfVYpBEG80fLVibnCwHgap5OMYssrvcD920hw/W+SznVD7QXBEE49dQx30gQhPIQ1WdCa2T1tkgQBEEQBEE4EYgRFQRBEARBEBaCGFFBEARBEARhIYgRFQRBEARBEBaCGFFBEARBEARhIYgRFQRBEARBEBaCGFFBEARBEARhIYgRFQRBEARBEBaCGFFBEARBEARhIYgRFQRBEARBEBaCGFFBEARBEARhIYgRXXIY9fwN6H6c4OZ+D50wdqrTDRPsdSNo7W67mBmH/Ri9MAE7/BvanSjBvW4fUaKdaTAz7nVD3DroQTvcFs2MvW6Efpw40wCAKNHohInTbWFmhLFGFGunx18QBEEoj7/oFXCFIsCV16nr2laHCdXMePF+F8/dO4Rm4OY+cLYd4KGtNnyvunFKnGg86IToRca07fcinFlrYK3hgYgq0cgMyH4vHhyjwCNsr/nVbovWePFBFzf2+wCA+70IZ1sBzrQaUBVtCwB04wS3Dnvop0b35kEfj55dx3YrqEyDmREnjDDJjgvQDhS21xrwVHXbojWjEyaI05OyF2qsNT20AlXp8U80jAE1P4GKgVbDq3RbRqH0dVJhZiDqA0ETSGJAux2IoNcFfB/wfKDCc+UIzABjeGBc6dQFM5BEAClAudtvnMTAwX3zzdY5kOfGHrDWQO8A0BporbvTYQbiEEgS096Uo7obszl3souOq+PDDNy8Dr71EujqE8CFK5X1nYuGeIlLBnt7e9je3sbu7i62trZyfZbZGNGowmLV0hjQitbj3mGIr9zeH5jDURQBl7faOLfWKNXYOa207fcmV1oDT+HsegMNv1wnEScaB70YUTJ556w1PWy0vFJGkZlx5zDE8/c7A0M1ikeEC2tNrAXlzHWiNW53+tibUp0+0wrwyJk1NH2vsIbRYfTjZGK7JgBb7QDrzXLbwszox3piGwMATxE2Wh6CkgMFzYww0lMHn4FHaFZoegHAV4BHDn0OZxdsN+aQ4xA4eGBMTkaSmIt31Z0dqaM7ihTQaAJeuTZ8hMyAHtNG9QeJlFmwSyPAnB6HsY3yfIC8yrSZGTjcBQ7uHTFTtLkDbJytdKCIsAd094+2r+Ya0FoDUTVGkTNjGPZwZN8pBXhBtccsiYGoN/l8qVCH9x+An/ossP9g+MOdS6DXvwO0ns8bWdNcA85ftT4uZfzayhrRDGYg1sAUf5JrOa6xroCWXJdelODp2we4cxjOfW/LV3j4zBrWG/lGrcyMXpTgwWGExGLnrTc9bLcbUDkrV5oZnX6Cbjj/Yq0I2Gz7hapwh2GMZ+8e4tBCp+17OL/WRCOnuWJm7PYj3On0MW/8RACubLVxebOV21zrtHKcWEQGviKcWQvQDPIbhijR6IaJVTLR9AnrTT/38WdmRImp6trQChR8j0pdXBWAoDofMJusqhN2UdUIlHUCdPaAfmeyHmAusHF0/Pd5obRmPG1neT7QaKTGriDZOs/bPZUYUhquq8uKLnjORYeMqSpZ5eN+B9i9bY73JLwAdOYCqLVeTieOTJubpkMEtDeBoFlu4KsTY0BnDd48H1AlT2CtjQG1GSSW2Z6wD372i8Arz5vljLYJItPmH30t6LE3gfyKkjLPB85cAlobuY6FGFELNANxgrkX+HGWpgo6+UO50Jpx/UEXz987nFo8mEaeuD5ONO4fhujH+fY2Eazj+qzSdjASw9sSeIStNd+qChcnGtcfdHHzoJ9PBKZyedYyru9GCW52eoOI3JaGp/Cqs2vYbjXmvnc8hs9Dnrg+0YzuSAxvCwHWcX0Ww4c52xhgBiRF4npCWgVdxMx6ZmNG4/ztcLgIBvqHxhDMO2my30dhwYrsiPm0uZgFDcAvUK3K25GViesrrEJOhdlUwm2hYlU+jiNg787kwcgkWuug7Qu5zQ7rBOgepNVJCzwfWNvKHdcPppjE84srBjLtLa+RzwaG1jqZXM7jozXw8nPGhCYJ5jbyoAl67duAhx4tYeQJ2DoHbO4Uqk6LEc1Bou3i+qU2oJMXNJO7hyG+emsfvQIX7gxFwOXNNs6tT47rNTP2Z8TwtgQepXH95CrcvBjelllxPTPjdhrD21QOp+ER4fxaE+tT4vpYa9yZEcPbst0K8OiMuD7RGv1Yl2rXBFNR3mj6E7dlXgxvi6eAjdb0gYLWpqJbdg54nrjeeQxvi06MedD52gtHfeDwwfSK1DzNKEdcPx7D20KUxvUWJiSvAT2mNaI5972qXMXWhmkxvC3KrsrHrM10jGwuaF42d0AbZ0FzDJwZ9HSMCS1Co23Mr41OEgFhH4X2HSm7ARCzOeeK6gz05rc3fnAH/NQfAJ39/Mvf2gG94Z2grZ18n2ttAGculaqqihHNCbOJ6qd5sqWK4e0XOJFuGsPftYjhbWn6Cle317DeNBeMLIa/fxhWeoPYWsM7UoXLE8PbQgRsjcX1B/0YX7tnF8Pb0vIVLqy1BnE9M+NBGsNXtcsIwENbbTw0EtfnieFt8RTh7Fhcn90NX+W5Mx7X543hrXUChWBKXK8ICAr6KmcMLr6duZ0VJwnQ2U2j/RJ6wPy4fl4Mb4vnmZunJpmQsgZ0nJlx/bLE8LbQMHY+JsNA79BUQcvOOVYe6MyFqdEtR6Gpupee20xAewNotCbr6ATod/NVkKcxK67PE8PbMml7el3w018Abr8E0zCLGOs0vn/4MdATbwE1mrPf7zeMAS059QIQI1qY8bj+xFVBJy8cgIlHr9/v4Pl7HWdqZ9oBLqw3cdCLc8fwthABWy1z1/thv1qjM0rgEdaaCq/s93DroDrTPs6ZZoBW4OH2YR+hdrPPGp7Co2fWsBb4Th8t1QoUtloB+rHOHcPnYa3hoeETwtidxnhcv9AY3hZmc4GMjseexngcGENQpR5gzOiRymrOGN6W0bjedh5oUY4Y0hoMKJA/hreFVHpDUzrojUJg77Z9PG5LowU6cxEUGLNj5h7vm4i8SpRn4vq0WsesTWUyqWAO8xHIPNEhM/LMZipMFXOlp0qS2W/XnwE/9+X0UT9VDUo80GveAlx9/HjUTgRsXaj0ZjQxoiVJNBAl7vq4Uep6LugfvPgA9zsOTyCYi/d2I3D+CAmPqNLHL02CmfHiftfqxqqyOu6s4ZCrW21sNiZH6FVBANoVPn5rGr6i0k9VsKXd8NAKaDlieFt0Yiqe6YWZw56J4V09iimLkaN0wOZyRxGl1dEK766fqoW0KlZHDO++F2CQMYadXbdCa9ugZtt+vmlRgqZ55Z2fmRsyF7cohGtXwHdvgr/6OaDncN+tb4He8C7Q2Qvm+7UtYPti5Y/NKuPXlnm8XxueAho19HN1cth3/DxAAIrK3X1sSx2GgAHnJjTTqYOmV+2jiiZBhFqOvyLU9mB6jxj+skXx81CemePV2jDPgty/6/Z5oKMRfB0377g2hhnKRy1Pha3BhAIA9u66N6EAEPXAvUP3OklcfbV1EpykOo5N6N598Od/160JBYDDffDv/yY4ioALj4J2rjh7dmtRxIimnKgLjyAIbjjJ/YAXAP6cOWGVUWOQVmfnvEoXAtd/nCCjrn1Wl05dIXFYg6kGMDhXN3ZM5XoJESMqCIKwKqySkRJOENLulp1l/itMYkQFQRAEQRCEhSBGVBAEQRAEQVgIYkQFQRAEQRCEhSBGVBAEQRAEQVgIYkQFQRAEQRCEhSBGVBAEQRAEQVgIYkQFQRAEQRCEhSBGVBAEQRAEQVgIYkQFQRAEQRCEhSBGVBAEQRAEQVgIYkQFQRAEQRCEhSBGNEXzotdAmI0cIME9DzrRoldBEAThVHHqjSgzECVAmCx6TapDM+PCRiP9zp2BSzRDs3uDaAYJ5FSDALR996cDAWBmsOP9tts3hsqlTqIZiXa7LcyMOB0lutYJY43fu34fn3zmDg76sTMtZzADiRhpYRHUUyioqxyximUPPri/6FWYyqk1osxAooF+AiQMkFufM4AcGqrMFF6/38FTd/ax2w8ROzIKioDzG03srAdoN7zKl5/he4TtNR/rLQ+ew9baDBQe21nH1e02PAeNgdmYtr1+jAe9CP1EOzOkmhk3D3p45t4++nH1OtnyepHGrb0e9nuxEw0AiBPGrb0+rt/topOOFl1sy/XdDn7n+TvoRglu7PXxb790E194ZW9ggpcenQC9A9OxKd+plBkX0uBi7XwPJTUNCljXoMFIh6OOZRhotkc03elwHAGOB9esNTiJgSQGa3fHSScJQAphpwvtUIeZge0doLXmTOMIzTb4hSeRfPl3wf1OPZo5IHZdminB3t4etre3sbu7i62trcqWq9Mq6LQNr2uPcEWdUXYI93oxPvPSfdw5DI/8vuV7WPeNWaQKTNZW08e59SY8NVxWohmdfowoqWabiICNpo9moAbrzMyIE0Yv1JV1454CWoEHNbYttw56uNMJZ3zSjuzYdKIEnfho2d0jwnrDg6/KO+xMZ1KF+ly7gUsbbSgqd/yZGUSEMNboR8mRY6AI2GoHaDf8wfvK6DAD+70Y3bGoot3wcH6zAV9RJdvyoBviqdt7OJwSiawFHt5xbRtXtlqVnDuVwwxEXSDqj/yIgd4h0NlD1YaHmY1mvwNEoTG9gUlfnOwfvwF4fo2VAgKUN/x3lTAD4DHDW61G1q65sw/s3gG0BvwA8KotFgx0DveBu68AzKDLj4LOXix9/k/UuXcb/LnfBboHoDe+C3jiTQADVEHfmekAwI1nnsf/9t/9Azz32S/iA9/7F/En//r/BaQUPL+6/cfMxlA/uAV09oHd+8C9226Mh/KAC5eAzTNpeyaACPTIG0APvxakqtuuMn7tVBlRZiDWpgJq+37XlDWjOq20feHGLp69czh1aQRgPfDR8j0wuFBltukpXNhoohVMb7xhrNHpx6Xm3LYbHtaaHtSUzoyZ0Y80wri4CAFoNtRMQ9OLEry010UnKj5vox8nOIhm74+Gp7AWeCAUuZgb08Y8uyV5RLi82cJOu1n4QpFoRi9KkMzYmIavsN0O4BUwigPTHiY46MVTzz8CsL0W4Ox6YL4voBMlGl+5s49bB/35HwBwebOJd1w7g82m22qjNcxAEgL9LqaZTdaJMaMVVEAGl4mwP1kzM4yoyJAqzxhcqim0G19noqF2FdvDDPC8fqT8wIqjPvDgNhD2jr5BKcAL0u0qtz3MDMQRcOcVY6RGWdsEXXkM1F6vZECKsA9+8veAF589+suts6C3/xHQhYdK6yRxgqjXwy995CfxyX/2C6YqmrLz8GV8x9/5AbztA38EOtFQJWI5TgcivHcP2L931GDEsTGj+7uFl3+MM+eAnQvTByHNNajH3wbauVKJnBjROTCnVdAClfZlrY5qZigiPHfvEJ9/ZRf92G7jfEXYCHx4ZG8UFAHn15vYbPpWn8li2/Fq1tx18wibLR++5cmuNaMbJkhyHteGT2j4ynpbdnsRXt7vzTRg45/RzNgPY0SWnyEA7cBDM91222Ojc0Zi7cDDw5traAeeVQeeLbsXaUQ5dvR608dGy7cy16OV1r1uhNhypOgrwrnNBtabdlXYbFteeNDBc/cOkeTYb9mS33BpE2+4vFFJFbswSQyEHRPHW8BxCBw8KDR/dGBw4gjozdEkAvwmyPOQBdC5IWUMaIWVmtl6c9aSVHHzlrUv1rCvTOfXMVVqDezdBQ73Zr/Z8wcDhrzbNKiG378FPLiLmdt09hLooUcB5eUfKGaR+LNfBD/1B7OnZjz8GOht3wC01nLrJEkCRQr/4WP/Gr/0D34SB/ceTH3v6//wu/AX/vu/hQuPPlxo4JtVqfnBrdnb0+sCt28eH0jkob0GXHgIaLbs3n/mkjGk7c3imhAjOpN5Mbwty2JIs0a92w3x6Rcf4G7B+LjleVgP5sf1k2J4W2zjeiJgo+WjaWkORxnE9ZGee4wmxfC2JJpx67B3bNrD+LoAk2N4WzwirAfeTDM+K4a3ZafdwOUZcX2mESV8LIa3xSauz2L4vW6EXpGRIubH9Zn2/U4fT93eL1XhBoB2oPCOq2fw8HbNcT1rIOwCcf5znrM4vbNr3ZkNjEfv0FTAbMmqmchZFV9EDG+L8vK9f2IMb4udzuDSfbgH7N81MbwtfjA0pBY6RATefwDcvWE/Z1d5oEuPAOcuA7AfkPKtl8Gf/4/zTXWG54Ne/zbgdW8DQHPjetYapBSe/9yX8LP/7T/AC5//spWM8j1883f95/jW//J74Dcac+P6wfGJI/D9m/bJBLOpjN69le+Yer4xoBubOc8hMv9/+LWga28AWbaLcZbeiP74j/84PvKRj+DGjRt461vfih/7sR/De97znrmfK7NheWP4PMt1zTQzmsXwn39lF8/ePSytMyuub/oKFzeaaFYwNyaKNQ6nxPXzYnhbzF3PJrIfxyaGt6UXJ3h5rztxTqFNDG/L5LjeLoa3xSPC5Y0WzraPz/FLtEY31JU8FaHhKWytBfDTAQARWcfweTizFuDMenBknzEzwkTjK7f3cfvQLoa35dJmE++8uo3NVlDpco/BbMxnWEHErjXQ3TPmcqpcFsP30hi+IF5gDA/mmBDPNyZ0GQ3o+Ods4nrWFd74NH1gxf0usHvbzNUttGhljs8U4zZoB1EfuP2yqYgXobVm4vr1rZkDUnQ74C/8R+DG9WI665ugt34j6MqjYNagCdM6dJKgs3eAf/n/+p/xH//lrxa6wWrr/A6+7f/5vXjvf/5BJEkCb0L0nQ3iePcOUPRu9SQB7t8xc0jnsXMBOHt+6rG0JmiCHnsr6Py13NfKpTaiH/vYx/Cd3/md+Mmf/El8/dd/PX70R38UP//zP4+nnnoKFy9enPnZMhvWj93dl1h3dTQ7eb9218TwYd4seg5ZXO8rlTuGt2U8rg88wkaOGN4WrRm9MEE2UyFPDG8Ls7n7/aXdLhJmJFrniuFtGY3riSh3DG9L2/fw8FYb7cBPj1NS2U1no6w1PGy2A6gshu9Eld+V7inCuY0GNlo+NDNeeNDB8zljeFuM4QW+9U2XZ86bLkUSA/3Dyu/o5jgCDh8cqa4O5xmGxnRUoklA0AB5/vG4nhQQNMtfPK1XpaI+YFJcXyiGtxYckWEzPWL3DtA9qGbxyhsMGDAygANr4O5NYO9eNTrb50APvRrwg+FAUWtj2L76OeDpJ62nm8zk0jXQ2/+wMaapThInIAJ+85/+c/ybH/0n6O2XL+S8+u1vwl/4H/4Wrr3xNcNzJ/t6sAvevV3N9oR9E9dPGgisb5gqaNA4/rsybJ6DevztoI0z1h9ZaiP69V//9Xj3u9+Nf/gP/yEAQGuNa9eu4Qd+4Afwgz/4gzM/W2bDejU88aMuQ/qZl+7j1kEPew43yiPCmy5uoel7hWJ4Wzh99mhQsTkcJ04YBBSK4W252+nji7f2Kjeg46z5CoHLZ1elPHZmA1pX9SyHySgCfKWcGN1RdsM+erFGt+AUiTx84HUXcHat4gsBYExob3/++wpibgbpGUPKGpwkplLq4nFJSpn5o0ohM6e54+4yuNBRypjSzLQ5PXPSFOHgwfEbXarCD8DZ3Nz9+8aEVmGkRlEKdOEqcP4KSCnwy8+Bn/x9oFveGB6BFPCarwO/4R3wggae+p1P4ef+zo/gxlefq1hG4Ru+40/h2/+770NrYx0c9kwMX2aO5ySYgcN94E46xzRoGAO6vlGtzgACwFDv/BPWc0fL+DWnt4CGYYhPfepT+NCHPjT4mVIK73//+/E7v/M7x97f7/fR7w/js709yzkiK043Spya0Iy1hvs7gpWiXDdKFcWlmc5QRM5NKOD28jaK7c1YZTBztjVc/4GCAwcV6tpx/FxLIjLPF9QJ+PZ1t8/r1BqI+8D62dTAnWADmqE1AO26KQMA+O4rJiJ3eYziCHhww0zHiKqdxjJAa/DNF8yNSP0Q2L3rRoc18JU/wCd/9l/jU1+5g2c+9XlHMhr/4WO/Au7u4y/9t3+13FSWWRABG1vA2oapkLbXHD9RIu07+12g5E1MNjgts9y5cwdJkuDSpUtHfn7p0iXcuHHj2Ps//OEPY3t7e/C6du2ay9UTBEEQiOp7aLxXUxW0gscULRVxVM8xiiN3JnSUXgfYrSjyn0G4t4evfeYL7nU6XXcmdBSljBmt67FmNbFUW/OhD30Iu7u7g9f16wUnLQuCIAiCIAhLj9Ms9vz58/A8Dzdv3jzy85s3b+Ly5cvH3t9sNtFsNl2ukiAIgiAIgrAkOK2INhoNvPOd78Rv/MZvDH6mtcZv/MZv4L3vfa9LaUEQBEEQBGHJcX53yt/6W38L3/Vd34V3vetdeM973oMf/dEfxeHhIf7KX/krrqUFQRAEQRCEJca5Ef1zf+7P4fbt2/ihH/oh3LhxA29729vwa7/2a8duYBIEQRAEQRBOF+6f1wPg+7//+/H93//9dUgJgiAIgiAIJ4SlumteEARBEARBOD2IERUEQRAEQRAWghhRQRAEQRAEYSGIERUEQRAEQRAWghhRQRAEQRAEYSGIET0BXN1u442XtuArd387ebPpY6vto+m7bRJNX2Gt4Tn/M9C+IniuWzcD1zbbaPueUxnNjCjRYGZnGsyMO90+DqLYmQ4z4/efv49/+ZmXcPfQ3d+z3t3v4GP/4hP4d7/+e4jjxJmOIAiCUJ5aHt+0CDwCEnfXbQAAEeDQGwx45OwaAOCJ8xv49Ev38eKDbmXL9hXh9Rc38cT5DQDAetNHL0qw142R6Oo2zlOEjaaPwFNgZjR9D90oQT/WlWkAgCKMGHZjRqOEKz1OWjM6/RjQwLlWA+daDdzthXj5oIekQiEC4CtAM8BgxAkjUASPCFSRk2dmMAAGsBdG2AsjtDyF8+0WGhU6+ZcedPHzn3oRX7vbAQH498/cxQfecAnvf/1FBBXpJInGv/3N38dP/rNfQ7cbQjPjN37zU/iu7/yTeOMbXlWJxjg7awG2WoGTZddGHAGeDyQJTEtwhPLq6zTrgBnQMUAKUArORtfMQLMNeB7Qr67vn8iZ80C0Bdy9Aadt4aFXAZcBPPMkkMTOZM6/+hq+5c9fwP/+y59EZ7/jTOfy654Azl4C9u463R5EERAeAO01wD/h/c4IxC7LLCXZ29vD9vY2dnd3sbW1lfvzmoEocXo6DXCxF8f7NWYGEeHWfg+ffvE+9vrlGvy1M2183UPbaHjqiLHJmsRBP8FBr5wGAVhr+milldZxHc1AJ4wRlzS9BMD3CDRBg4iQaEZUcmTCzOhHGt3weJUt25aXDrq42wtL6QDGgKopFzYC0PDU1N/bkB3jWcOA7WaAs81GKZ1OmOBXn7yB//2rd0BkzskMAnBmLcB3vOMq3nxlu7AGAHzpq9fxP/6jX8LTX3vlyM+VImjNePe7Xo+/8Of/OHZ28vcj42Rt7a1XtvHYubXKBgXH0AnQ3YerHox1AuzeBTq7wyq4ThxcSAlorwOt9ey7dAUc9cyU/ofgZtcxp/spGtFUxhioCmMYZoA1EEeDfoyjEDh4YAYPVRI0gI0zZkACAP0u+MWngf0H1eqsbYIefQNoY9u0uV4H/Jl/D7z4TLU6zRbw8KPA1hkwM7qHXfziP/oF/B+/+h/AFRZYzjx0Ef/nv/M38O4/8wGzPczgezeAB7dRaePTGjjYA3ojA5H1TfOqss2N0mhBvf1bQEHT6u1l/NpKG1HAnMsJAxUX3uZqVsG065tOBb56ex9P3tjLbeK2Wj7eduUMzq03Bx3cJDJztduJClUum77CetM/Zg7HNYgIYazRieJC+87E8DR3WwAg1oykQFuIYo1OP8asXZ3pd6IY1/e76BSIhT0yVV0bc+MRIVD5q6PMPNOAjmucazWwHvi5dHQaw//CZ19GN0ymdslZgeyNlzfx7e+4ivMbdp1exoO9Q/zj//Xj+De/8Sl4SiHRk7dMKYLnefi2P/OH8Sc+8B74BaZTZL7m8XNr+Lor286nsQAwRiTsAXF1UxmYGejsAbt3zPLHfwcYkzVlX+ai0QLWNgE6OtgdnOhVXn4GQcj4CL46CWgNJOH09fZ88yo7OEkN6LjOwJB2D4HDvWPHLzfKAza2Qc32kf5zoPPgDvilZ4CwZPvzA9DDTwAXHgaA4zq3XgJ/+pPA3v1yOkoBlx4GLj6EVOiIzotPv4if+59+Fl/74tdKyfiNAH/8//6X8Kf+y++B5wfwRvoTZgaiEHznRaCzX0oHqVnHwf7kNqcUsHkGaLUrqsibARxdfT3o6utAnn1oLkbUAmYg0phpJCqDy/V9tu2JmdGPNT7z0gNcfzA/dvAV4Q2XtvD4uXUwplfcxjWIKFdc76cxvJ/G8DYGJmuGvShBz9L0emQif8DOuGU6DPu4Povh81RTs22+0+3jlYMeYguhLIYH7LclwzauH43h85Inrn/xfhf//FMv4vl7HeuilCKAQPiWN1zE+19/CY05Ji9JNH7l//d7+Kn/78fR64fQOU7sixfO4Du/80/izW96tfVnAODsWoB3XTuDnbVGrs9Vgk6AfsdEwSXgfhd4cAuIp1ftGanp1toY0iKXCM8H1rZAQWN+H5BWkgpjRrqz31O232dOjaHl4NIPhlMR8uoksTneM9+W7rPOHtA9zKeRsbZpXphdKAAz+OYLwM0XCxhfAi5eBV19AlDedB2tzXH86ufBT/4eEBVIlc6eA648CvjTBwI60VCewn/8d7+LX/xHv4C9+3u5Zd78x78Rf+7v/Tc49/Bl0JRq5MBgH+yC77w083ybShgC+7t2CUXQALbOmK+FSHvqnYegHnsrqLWRewliRHOwrHF90cFM1uBvH/TxqRfvY683ObJ55Mwavu6hLQRjMXweHQA4TOP6SZtGMHNMmxNi+Dw68+L6aTF8Ho15cT0zoxdp9CbE8Hl0NAMvH3Zxpzu9I5oVw9uiAART4voyBnSc7UaAs63JcX0njPFvv3AD//7pu8dieFsIwHY7wLe/4yq+7srWxOP75FMv4P/9j34Jzzx/o8AWDOP6d77jtfiLf+H9OHdu+rQAAhB4hLc+vI1X7ziM4W1gNsYw7OQ2bpzEpgLata/QcKaZJ64nAtobQHMt/TbH/sprSKdVQOfq5HnvhBjeFiLAb9hFp8xptdVeZ3B8ktjE9bbmrdECNrZnGsPjq5dW+V582kznsGHjDOhVbxhOybAqSGggDMGf+z+Ar33ZTqe9Blx9lYmpma3aQ5IkiKMY/+ajv4zf+le/BW0Rk1141VX82f/hv8Kb/9g3DgztPMx1k4H7t8D3b9q17yQxMXy/N/+946ytp8c2Z1rTWod6/O2gs5fza6aIEc3JMsb1Za9vmtkMKG8f4Mkbu4hSF7DdCvC2h00Vx7Y6OYvMXO11I/Si4Q5s+Qprc2L4PBpZXN+NjsbhgxgeDEJ5HeB4XG8Tw+fRICJ0owQv7HeOxPV5YnhbxuP6PDG8LYoI50fies2M//S1e/jFP3gFvTgpnbZmVdTXX9rEd7zjKi5smrj+/u4BfuqffRy/9olPD8xkqe1QCp5H+NPf+ofxJ//EexAEwxgqW4cnzq/j6x7amluhrRVmIOqZ19y3sjEp+3cLVx2Hcf2cSl2zDbQ3gTI309ma0aImdKBj8R6dpHMxSzZo5ZkK6dS5ViUqzxipvvU6Jq6fdow838TwjVaha8FAZ+++MaTTbpwKmqBrrwWdu1xO595t8Kd/G7h3a/r2PHQVOHfRfF+wKHH75dv42P/0v+HLn5psfBvtFj74N/6v+Ja/9pcBAjw//z3enA4Y+PaLwOHutDcBnUPgsGScTwRsbpt52TP3CQFKgR55I+jKa6ZWd20RI1qQZYjrqy6wZI/6+dzLu9hs+ngsRwxvS9ZR9KMEB/0Ea4GXK4bPowMA3ShBnOjcMXweHQbQjzQOe/li+DwaRIQ7nR5eOeyDyGi4qrAVmTual5an0Otp/KvPvIzr96u/mzd7+MEfe+0F9K8/j//Pz/06+mFU2oCOQwScP7eNv/yX/wTe8nWPAwDOrQV457UzOLuIGN4WnZjq6JRqJfcOzU0TRap548vCjLjeC4D1LZAfVNMHzJo/ahPDW+tM+3k2P7PiIdx4XD+I+6vRGVzKO/tH5yYSmQi+vZF+W80AHrdeBN94YWh8iYDLj4KuPHZ8TnARHa1BSoGf/RL487971PieuwhcuVZs+sMYWmsopfAH//6z+Bf/y8/j3s17g9+9609/C77jh/82Ns6dtaqAzmI4v/fAGNJwZCDZ75sYfs6UjFz4gYnrG+Pz7tNh9oVHoF79daBGuxI5MaIl0QyUSGBzYZkclNRgxJorN4bj6LSS6FonjJPSd9XPQ2uNW3uh8yfL7PZDvHjg+BEsMJVjBThtbHvdCB/95AuFY3hbbj75JG4++UV3AjADNc2MD/03fxF/+QNvw6t22ouN4fMQZ3G9MTQcR8DubaBXcO7gDAaGNEnMRXNtA9Rcc9cHZBXSshXQuTqplo7dPn6HaHhnuiMdzqYTHOwavY3tSozhRJ0kNjczJRr06OuBRqt6Ha2Nzhf+E/Dyc8DVR00cX/HFNEkSsGZ8/Gd/DU9+9hl8+w//bTzxnrcNDHFVDCzX7h3wrRfNDVplbwabRattbmjy0huq1ragnngHaOt8pTJl/NrKPkc0D4qAhgLCGqL6Oq5tpiNwaw6P67mjlpESkXMTCsC5oc4gwHljO+wng+u3S8JOx1QSHAplT6J4uMl49bk1ZzpO8APA2wKiPri7C9x83pnUoEUpD9g6O/iJsz6ARlRdNmcCEPXdN+asCurw3CQisPJA2+dSSTfXAiICez7Uq94EeL47HaXAFACPvxFYbw+PUcVanucBHvDB7/2z+D89+obBvNEqTSgwPFd0ow3ctZw3WoZe18w3vXQV9PjbQZdfvXSDbDGiKUt2XARBWAC+q2fyuYbI3ITSd/fQ7iNynjLPzqxFrB6ZWkaiNTFqNFyaDiIaPIPNtQ6H3ewbZzoAoNKbqzzHfzGPeh2ng+sjMINe+/VQF6/Wo5eTE9rrCoIgCMeoyxwKJVjBqkdtlZwV3Hc1QUv8l5ik1xIEQRAEQRAWghhRQRAEQRAEYSGIERUEQRAEQRAWghhRQRAEQRAEYSGIERUEQRAEQRAWghhRQRAEQRAEYSGIERUEQRAEQRAWghhRQRAEQRAEYSGIERUEQRAEQRAWghhRQRAEQRAEYSGIERUEQRAEQRAWghjRFM2LXgNBqI5Va87M9WzRQS+uTUsQBEEQIwpmIEyASC96TapFETnXqEECAOCrGrYFQLvh/nTYaPgIatieOriw2cCVMy0AZv+54swjj0D5vtMGRwAevryDx594FZ565RCdfuJMyym8Yh3ZSiIDneLIvisKJ/GiV2Eqp9aIMgOxBvrJalZDPUXODZynFJo+IfAcGgQC2g0P2+3AqU7DV7h8poXLZ1rwHel4inB+o4l3PXwO17bXQKjWwGXLurrdxnsfOY93XDmL7WZQocIQjwgPb6zhv37/a/GX3vMI2g3PiU9MEo3GmXN41R//ALauPQIAoAqFPKXQaPj4a3/5T+B//Z//Ji6e30Yn1PjyK4d44U4XcXJCOgdmIOwCOqllhMiJBmu9OtVj5vpG1qtGTYMfaq3XooNepx6d9gagPLgdxqf4AbB3E7x7G7yEg1XiJe5J9vb2sL29jd3dXWxtbVW2XM1AlJyOsRUzgxlIKjzMBFNxHTUEzIwo0UgqbOOBR1BjZjpONA77cWWDB0XGhI5vy24nwv2DqLI2stb0jun0ogTP3D/A/W5YicZW08frLmxhc8R8MjPudkI8c28fUUWm6kyzgbPNxpGqeyeM8atP3sAnv3oHROUGd1mXFEUaemxB3fv3cOtzn0V/d7e4AAClCFozvvkb3oz/x1/5z3Dx/PbE93kKePhsC+c2gkoNcGUwA0lkTGi63ziJgd3bQHffgVx6PKIQiPrAxjawZvpmp/uHMNg+J2gNJLHRqONC7bwtEUCe2W/acSXMb8CpmcqOexyCe4fgezeAfteNFinQ+SvA2YsgUu42K90kDvvg578M3HkZaSOvUCRd3sWroIcfA/npdcFvADtXQO3NCrXK+bVTZUSZTQS/ihXQeTAzNHPpbffGDOg4WjPCRJe6ZniK4KnpFzZmRj/W6IbF41MCEPgK3oyqcZxo3N0PcVgipm34Cu2mN3OqxL1OH8/cO0C/oIsPFOGJ85u4vNGaus8Szbi+e4gXd4t34C3Pw4V2Cw1vepDy0oMuPvap63jubqdQt8rMiGONZIZpZmbsPv8c7nzxC9BJUsigXHvoHP6rv/Zn8K63PGH1/nZD4ZFzbaw3vdxaztAJ0O+YrxPgfhfYvWUMY0kY6WUtiVPNkbbqB8DmDqjZBjNXZ0iJjhq2qk1i1m70WBtiTrfP0YXCtQlVPkBqqMMMcDK1nRTG81OtEZ3Rr2XJlpPEZrA1+DEDnT3wvZvVbtPWOdCFq0PDNk5Vh23C7uH9++BnnwQ6FQ4eN7ZBj74etLYx+fftTeDsFVDQqEROjOgcTEXQRPGnHWZGXMCNKiLreafMjERz7gqcIsD3ZhvdUTQzuv0YYU6dwCN4yl6n209we7+fK6b1FGGt6cGfYdpG0cx4cbeD67sdq8tfZvKuba/h1WfXrXU6UYxn7h5gtxfNf3OKR4Tz7SbWfd9qnzEzfv+F+/hXn3kJnTCxvpwniUYc2w9ikrCP21/6Ivaefw5ENDcm9pSC73v4v/2F9+M7/rP3Igh8yzUbcm4jwMNnm9b72wmsgbAHxPMr6eaivQvs3ils4ph5GP3HM9pNcw3Y2gGUV86MZp+dtoyyhnRgQPXs5TBXa3RcG1BSR43hOMymOlrWzJMygw+acg5k7aUsOjFtfMqyWGvw7h1g7245nWYbdOlRUHuKYRul6CG02B3MDNx60VRIy8znDBqga68Fdi7anYfbF4CtiyBVrk8TIzqD0xTD25InrldEZi5jgU7UxPXGlM5jUgxvi21cPymGt8XE9THuH4Qz2xIBaE+I4W3pxQmevXeAe3Pi+u1WgNed38JGM7+ZyuL6Z+8dIJxThZ0Uw9vSjRL86pM38NtfuT01rp8Vw9vSe3AfN//gs+jvPpj4+yyGf/8ffgu+/6/8KVzYKZeuKAIe3mnhfN1xPbO5MIc95O3RWCfmgn34IIdcFsP3U00byMT162aqQ+79M14Fnb5yAAoaHq3tDWZmqsqYtzpieM+fbgzH0TqN6/PuOzIGVFmmAkUMaXZc48j6GHEUmri+d5hPS3mgC1eB7fP52mnew5l3F8QR+PpXgRvPwz6uJ/PWy4+CHnoVyMuZ3Hg+cPYKsLZVuE8TIzqB0xzD2zIvrp8Xw9syK66fF8PbwswIY43OhLjeJoa3ZVZcbxPD23K/G+Lpu/vH4vpAEV5zfhOXZsTwtiTaVGFfnFCFbXsezs+J4W15ebeLf/77L+LZu0cvFDYxvC3MjL0XnsftL34BOo6PXAAfefg8/uu/9m14x5sfK60zSjtQeOR8C+sFBgO5SWIgHIvEC8BRH3hwc6axHMTwcWTm4hUxYZ5v4vrWml1cb2tAj62spUkcxLwJCpUlMp28l8u6Y3hb8sb1XmpAi+iMfp33vrEYPpdUZ9/E9TafP3MRdP4KyCtx7trsijJz5Q/3wF97Eth/MP/N2+dAj7wW1ForLggAzXUzf7TRyv1RMaIT6MdSBbVlPK7PE8Pn0RiN6/PG8LaMx/V5Y3hbumGC23smrs8bw9uimfHSXgcvPOgMY/iddfglI5Rxumlc/6AXwSPChXYTa5YxvC3MjE9ff4CP/f519GKNJNGIHDwzLQlD3PnyF7H3/NfQbAT4q3/xW/Dtf+q98H13czvffHUDDd9RVM/amMGCF+eJi2Q2NzLt3j5mRDgzXP1uuXgwo9E2cb03pT3Ni+FtmWZIbWP4PDo25s15DO8VM4bjzIvryUtj+CqOz4wrchKn0z7KXbWZNbB3D/zgzuRltTdAlx4BNUsatlEm7ZrKpskycPcV8HNfMjcIjtNogR59HejM+WoEMzbPAWcugWyr3xAjOpHe8j4yaykZjUVdxo1aa2i4f85pJ4wLTymwJYwT7HZiJ0Z3lERrkAJavrvKm9Ya1+914Svl9Nj8uydv4F99+kXnScXf+CNX8eiFTZzdtpj3VZLXP7SONRc3MenEyZ3vGaw1sH8POLhnvmc2ldIKbm46xtoWsHnG3ImcUbQKOo3xuD4zP1XfpJPpTKpOL1sMbwunTw3IHBQR4DWAige9xwyp1uk80GoHpRxH4Ps3hzf/eD7o4iPA5ll3fXXVN72PwEkMfukZ4OWvmf1HCvTwq4FLj5Se2zkV5QFXXgPy7B4BWMav1ZApCSeBuua6EVEtD6+t54H+VMtNKw3fg2sZIkIj77yiAgSecvoUnoyL58/g7HbbvZBLqjZQY5BSwPZ5sPLAt1+YeWNIaTp7QNQDzj+cijs4Pyl9Mm9mqjLD6EpH0fAY1VEBJSoWw1stX5n4PdtfVVRbJ+qky8zmgDpq4+QHoAtXwWHfpAnb53NV9wrhsF8jzwc98jrw+SvA3RvAuUuF4vNc6AQI+0DbzbOoRxEjKgiCcJrxfDdV0HG0rueh8USVV9im6tR1s5pS1VdBx3FpdMd1XFSqJ0m1N6qZWrAkUHsdeOjRRa9G5Zzav6wkCIIgCIIgLBYxooIgCIIgCMJCECMqCIIgCIIgLAQxooIgCIIgCMJCECMqCIIgCIIgLAQxooIgCIIgCMJCECMqCIIgCIIgLAQxooIgCIIgCMJCECMqCIIgCIIgLAQxooIgCIIgCMJCECMqCIIgCIIgLAQxokLt1PFnfwOP4HtuhRQRNpo+Aoc6BGC94WEt8JzuN08Rru60cHY9cCcC4C3XtvF3/8yb8JpLG840Lm41ce3cGjZaPlbjL0wLgiCsLv6iV8AVvgJivei1ODkQAczDry51Bnpwp+UpI+QrQhhraAc6vlJgYjT8AGGs0QnjSnVagcJm0x/ss4av0I00+hU2bALQbnho+grMjK12gLPrAV550EM3rE5nreHh0nYTr3toA5qB973+An7p0y/hH3/yazjox5VoBB7h2991FX/+6x+BRwQioNXwcNCN0IvcdAZbbQ/txskez3MSg+MI8HyQ01FiTcMC5lTLYUc2oAYdZoDT9kuO2xprgAlQNbRpUsPtckl2kXFdAXF98QTAOgF6h0CzDXLdFmqEmB3vuRLs7e1he3sbu7u72Nrayv15zUCU1NMdrRRc/T6b1AdkTY8r1hvVYmYQERLNiGJdmQ6N/DfTAYBulJQ2Pb4ibLV8BKk5HDUHzAzNQCdMEJd0vU1foR2Yzmxcg4jw4DDCzb0+khI6viJc3G5iqx0c25ZEMzr9GP/Lbz2Df/u5V0odm3e/+iz+iz/2BC5sNqEmbEsYJdjrxqW2ZZTAI1w718J226F5S2Kgd+Bm2TD7hu++DH7pK0aLCGi03RjS1jpw5iLI89OLdfaqGGZA6+G/WTs2OzTcHhc645dnUoAXVG+qmAGdYHBMSAGe70aH9bDqoRMgjtwYOM8HlDdS/VBuzCgpY9wzI6qTyreHmYHDPeDBbbP/lAds7QCtNYeDRwKuvBYUNKzeXcavrbQRBdJ2wYCjgshKU2XLmHqupB1SZrAqX/5Axiw81ow4KbdhNKOyMzSKMaKcOgRgo+VPNIfjGkSm0tuJktzHyVOE9YYHNahOT9fRDNza6+P+YZRPBMDORgPnNxugORpEhC+/socf+bWn8JWb+YzX5e0W/tr7HsN7HjsHrRlKTdcBgE4/wWEvLmyBCMCl7QYubzenalVKkgBhJzUJ1cGHu9AvfAno7h//pfJMxUV55YX8wBjQ5tqxgYhpuBV1zKMGdPznwFGTVRnj24LUjFagM++kVmMmq4zOLLOuvOp0wMe3K/s+ic2rClRq1oHJ612VISUy+2aSjtaVnbPc7wL3bwFR//gvG01g65y1WbSmtQHsXAEFTeuPiBG1gNlE9SU9yKmlaCuxPd8H1dECWjT4j71OlHCu6hgNIrj5QkeMomVc3w7UYE6j7Qh3WIW1i+vHY3gbnUyjH2u88qCPbji/c11reLh8poXAI+ttSTRDEfCvP/sy/vFvP4u93uyLUsNT+I53X8Wffc81KAI8yyiRmcEM7BeI67faPq7ttNAMao7EmIEkAvpdlDU5HPWhX/oqcO+V+W/2G0CjVaziQgrY3AE2zphvZy2jjHljHr7mvrcqczB31AtwQZ1cnR8Zw1U0Rs+zPzy/uIEbnVow6z2AqY4WPUZEwyqozXtBxQ2p8mbv98EAqHhFnpMYeHAH6OzNf/PaJrB5pvzg0QuMAV3L77fEiOZA4vqC5IjPyww288b1xfrFfHH9eAyfRwcAepFGN5rcufqKsNX2EXj25nCSzry4floMn0eDiPCgE+Hm7uS4flYMb0uiGd0wwU/81tP4N597ZaKJ//rHdvBf/LHHcW7jaAyfd1vCWGO/E82d4tDIYvg1tzdyzYUZiHqTKyNzP6rBt6+DX34m54WegEYL8AP747m2CWxdAJSy/Ex2sueI60cv9LaMVi0Lx+jWI17kjusLj/ZzxvXjMby1Dg0Nqa1Okf1cJK4fNaB5+oS85lqp4fbbfG60Im+5PcwMHDwAdu/k2wekgK2zQHsjf99LBGxfBLbOF557KkY0JxLXF8emtZROPebE9VVNibGJ62fF8Hl0xuN6ImCjOT+Gz6MxKa73FWHNIobPo8NpXH8vjesJwFmLGD6PBhHhKzf28T9+/Cl86RUTHz+03cJf/2OP412v2pkZw+fRAYBumOCgFx+fjgfg8pkmLm016onhbdGJqY5quyiT9++ZGL7fKa6pFNBomzme0wiaJoZvtIoNRAYHwKJ6lseATtNhW3NQ8NjbxvVVXYLnxfVVzZmdF9dPi+FtGTVv8ZwpQcozJhQod2GYZ0hnxfC2WMT13OsA92/O3+5Z+A1g+xyoYRmrr20DZx8C+eUG2mJECyJxfTmOXbgrn9d+PK7PE8Pn1QljhmauxHxO0siMomaN9Wa+GD6PDmCqsEpRrhg+r0YYa9w/jHBmvZErhrcli+v/7edewd3DEH/6bVdARIMnIlTFpLh+u+3j6rkWmv4S35kaR2b+6JQunMMu9ItfAR7cqk7TC4Bm62jVRHnA1jkgjfMqaQeT5o/mieGtdeaZg8pGvcfjeieX3gnx9GC/VTvPeGJcX7QKOolZcT2VnJYwiWlx/bwY3pbRgcnYQIrjyNyI1K3w5sT2OrC5A/KmxPVBE9h5GNRar0ROjGhJJK4viN2UydLoGpqo1hphDLjeKALDLxHD25Kd1i41zHEh59vSixJEiXa+v4gIB90ID51pYqt9Qp5sx2yi+qg3/JFOwDefB994diTyrphGC/AboI0zwNZ5gKofiByJt6s2oOM6EyuFDtpbpuO6T8vuegdZV84LCgF+quPq6QTZsY8jo+H5wyqoC7JBlufli+FtGan4sk6AvfvA3j04OU+JgM2zwNrm8PwkBZy9DGzsVHrOlvFrJ6S3dYsioOEB/YoHjCvPEqWVZTEnpHtnTeTeuGU6riGQ2WN1aNW0vx7eaWGjWcHd4nVBNDCFCLvg3iH0l//jEWPqhKgPeuhxow1Hx4fIVAl0jrmjRXWg3JvDTKuOKWGsjXFz/jxQBuJ4+PgiF2SVyqBRzzFiNloD7YpJl8kA8Mpz1T0tYBLMxuR29sHnHgJtnQPOXJ49xWYBLNfaCIIgLJATO7ZSyjyrc/++exMKAEEL1Gy71xkMEOvQqYOatgeob5uoxN3n1hpI6wQ1bJNyUAWdRL/r1oSOEkfGgJ69VI9eTpZ4ApQgCIKQi2nzwQRBONXkeSZo3YgRFQRBEARBEBaCGFFBEARBEARhIYgRFQRBEARBEBaCMyP69/7e38M3fMM3YG1tDWfOnHElIwiCIAiCIJxQnBnRMAzxHd/xHfjrf/2vu5IQBEEQBEEQTjDOHt/0wz/8wwCAj370o64kBEEQBEEQhBPMUj1HtN/vo9/vD77f29tb4NoIgiAIgiAILlmqm5U+/OEPY3t7e/C6du3aoldJEARBEARBcEQuI/qDP/iDoPRvCk97ffnLXy68Mh/60Iewu7s7eF2/fr3wsgRBEARBEITlJlc0/7f/9t/Gd3/3d898z2OPPVZ4ZZrNJprN5X36vyAIgiAIglAduYzohQsXcOHCBVfrIgiCIAiCIJwinN2s9MILL+DevXt44YUXkCQJPvvZzwIAnnjiCWxsbLiSLUyiF70GgiAsmigBmBlEtOhVEQRBOBU4M6I/9EM/hJ/5mZ8ZfP/2t78dAPBbv/VbeN/73udKNjeagTgBxIcuLwSAXQqkxsNT7HxAohlQ4nFyEXgKiU7ctgEMj8t+n9EOgMA7gQeKXe8lQRBOJEvcNzi7a/6jH/0omPnYa1lMKLOpfoRiQpceIoIrS8DMYABaM5Qi+J4jIRhD7XtwXm0jApQyL5d4HqHhK/iOnbWnCOtNDw2HxrDpK7QDD0QEZqATMg77Glovb+d9BGYgjgDOejPHJjqJwazBS3xxW17qGuBwfeZjldoBs+lEXaNqfnpm2AGi/vz3LYClenxTHTCbGL6fAMkKnTurDhFBVWhIB4MjmCpl1hSIjBn1Kj4zPAV4mQklOLsWGQM6fIqF51HlhlQRwVPmeBhNQuCZn1UNUfYiNAMP6w2v0mMTeIT1hofAU8cGCLE21dFexMttuHQC9A+BsANa24R63buB1rpbzSQGv/Q00O8AgLv9QwT4DYBquFT5QT06XgAohyPeDObhy6mOTl81Gl/XaIfbky6TfA/YvgB4jg1pawP0qjeBPB84fAAcPACSxK1mTpbqgfaukRj+5ENEgxO5UBcxMtqdVuwyJg4gYmg9/X02qLQ6ObEKmv2ogr5uqgZSE6+4dL9KGJrcSRoeme2NE64kRp+0OUoR2oGHWDP6kS6sowho+p6Vee7HjDDB8sX1zEDUA+LwyI9p4yzUG98LvvMi+MWvAjquVtczho2iEHjla+D1bWDnMtjzq632UzpiIzLGTSem6lv1JA1SwxGP8owJSaLqTQjRUAujOo6uSDTSwTAmn1BV6rA2/3allQ0SmOFmshYZUzg+cq+yQsps9lO3AyQxKAjAZy4AvQ7Q2au2zXk+6OIjwNa5o+dl3Af2+2aw2lyvp/o7h1NhRJlNdUMqoKvB4KTifIYnq9qwtvucqSgCihlxzgEkYaQCavPmgm1ztGI4+33GXDMbc50Xb4oBnaQT+AStGXFBBz9PhshUYH1FCGONMOeJ3UynE+QxTVlc7ytGOyCoRU70ZTYGJuxhWsMhItCFa+Czl6Bfehq48yJKz7ZWHqAmmM3DXaCzD5y5AN4+P9AvxcCwjekHyhjrpCJzrbwJOgqghjG+deiwPjaYKMXEfZ+NQmnGeyrQGZjECcevnNiYLlVrSJWfjeYn/76sGc0MZtgFwqPxOBEB7XVwswUc7g9ShlLsPAQ6dwXkzai89w6BfhdobwJBc6GGlHiJM6e9vT1sb29jd3cXW1tbuT/PbKpZkZRAVxqeY0h5pIJatLWbKN/u6QpeGo8XE7J/66wq6FwZS0OqBtXh/DrMDM1AYmlIi/aDWjN6cTL32AQeoTEhgi9C0yc0fffzfY+RxMaAcr6REXf2oF/4kjGNeSECvABkE1v7DeDcQ6C1zWJPH5hkQCfBbMxb0WqiUnYxPLPZ57pglKkUBlVdK52Sxtd6f1usU2mdEY3CWhb7zfyj4OKVqYLmbqeW788MbBQag2lxAeI4BA520+p/Tta2QJceBTXb+T7nB0B7q9Q0gTJ+bWWNqE5vRlrajRMqZdRsjvwQIBoYoqp0psX1SpnItxJzMmN9yxjQIxI8Pa6fFcMX0Yk1z+yDq9hlcaLRmxDX54nh80AA2g2qJ65nbQxoUuDilC2CGXzvFfCLT9lf5LIYPu8Bam8C5x4C/MAyFRiJ4fOQN64fjeFz6eSM64/E8DlgPXbTmSWFTqAC+6GITqFjm3e/5TWkBPh+uTnBNoMLrY0BzVlZZ2ZTrTzcs2sLfgN06VFg40y5Pru5ZiL7AvuljF9b2WheTOjpYjyuz4xp1Xc9T4rrc8Xw1kI41oBtY3hriSlxvW0Mn0cn8CbH9VXuMt9TWFeEMGGEsQYBg7v6XVQuGSau32yWqIDPFUkrf1Gv9KKICHTuCvjMRfArz4JvPp+JHH+z8gHlFd9v3X3gpQNg67yZA0fTjgEVM4aD9czi+mSOSafZ0etcnSyu1/MHA5NieFtImZjU1mCXatcjcf38+TAlZPLE9UX3W9b/D/4zHc8vNkgYJzO/48vJft7vFr5LnYiA1hq40TLnUvdw2htB566YKL6Ku1L7HTN9oL0JBK3a4vqVNaJiQk8n2aOeIseP3TF31/Pg325Ejv7TldnJzDV4+L0LlCKotDrt7r4JQtMnBOm+qiM6d9bSWJt5XBXfzEKeD7r6WvD5h01cv39v5JcqjeGrqOozsHvb3KW7cwnYOHM0rq/CDADp1AFjnJFEx2P0MsbwmI5nTOmkuN427rfBZj5sZW171JACx8xgZTfq6PRGJjVluVXNW50yf1R51bWFUbL4PTOgUWjMXAVhMykFrG+Dm2tmWk00Mpd48yzo4iOgoOI/i85sbpzyOsDGTi1mdGWNqCC4pq75gUSVdNEWOu5VzEDB/TBxJf4yUhK7u6MaALXWoV7zTvDN58AvP2MqoC4eK5REwO0XwZ09cxfvVCNSEiIzRzWrJg4jBAc6AcAeEDnW8QJTnR6tiDtr22nV0rUO6zHD7kCHaOTufR5WQV2RTacI+8XnE8+A/AC8dc48dimJQWcugtbz3zeTiyQ22xU03OpAjKggCMKphYiAzR3Av+5erN+t5/mZlD60d2V00vmmdeV8tQ3iHOtk+63MlAxbsrmgDsniejpz0anOIjh1D7QXBEEQBEEQlgMxooIgCIIgCMJCECMqCIIgCIIgLAQxooIgCIIgCMJCECMqCIIgCIIgLAQxooIgCIIgCMJCECMqCIIgCIIgLAQxooIgCIIgCMJCECMqCIIgCIIgLAQxooIgCIIgCMJCECMqCIIgCIIgLAT5W/PCysEMqPRvC2t28/eZJy3W1Z8zZjZ/ZVqBzd8bdqShmUFI/0SzAx1Od5oiQDv8s9maGXHMAAG+Imf7TBAEQSjPylZEg5XdMmEazEODSOnLI0LVNmSat3XkeQdoBrTmgaGrAmZA6+G6c6rDXJ1OtizG0Kx7iqAqPjDMjCjRiGKjxQxECSOpeJ+NEniofDvqhpnBSexsHwnCRFatvdU04GWdrNy5urIVUU+ZC0Sk3VZfhMUzuTqZdQoMjxSYGUnJk9fm4wMj7Ko6mmoQsuplMaFR0z6J7JwpW4XNDOgoo8tTNKz4ltHQDMTJ5KUkmpEA8L1hpbwsioB2QPA9hxefGi5svHcP/OX/BBw8AIIGeH0b5AfVCwVN0MVrIGXORacmhAjkN4yOjt1pkQKCpvl3HAGsHekQ0GynOiGQxG50PB/w0mOvE/NyhenE0mNDbto6kTlRCRj2MI7OKT8AggYQhUDYddPmiAClgM4u4Png5jpIedXrjFLTKHtljShgjlvDMxfVKCl3sROWk/nn+/BE8pWCZs4d1xfpU5wb0oJx/aDyablNmgFizh3XTzKg44wOFgjFBoxZDG/z0ThhEHHpuL4VEBqem+kLR1A+0GgDYQ9V914c9qGf+QPglWcxOEeiEHhwG9xeB9qbIFVBrEQKtHMZOHtx5Gdm/zszpNlxIQJ5AVhrY0irXD6po1pBwxi3pELjS3RkW4xO0xjGKKzO+JIC/MZRPeUZ05MkFRvsSaZzZCRa1TmllHkdw5EhzdbbD8wr7AFRv7rl+w3AGzGdSQx0dsFBC2i0q++LSAFrm8OBiWNW2ohmqNSQJgzEjgatQr3k7euzEzWL67WFUSqiM+nzLv1KHqNY9LqfVWFVusdm6WSRUR4ZIlMW9RQNqptz14kZcWL33qOfM3F9lpjk6cADz5jQqqqqcyFKL0ABEPVMNawkrDX45afBz3zOmAzz06Nv6h4CvS54fQtolrjIbZ4FnX8Y8PwjyziytPTYV8VEHSKzD1mXr/Ipb/oJnRm6zJCW0lGzdZptIImAKELxQQoZ0+RNsAGUTm7yVTXbM7fqOTI3qMz5Ndhv85bBFu8pQLbujZYZnPS75fad55tjNLrsUSJjeLm5BviNagxpax1ortc21QA4JUYUSPt0AjyJ6080Za9Z5kRlqLQTmhbXV1moWXRcX1XhaV5cb1MFnYplXD8vhrdlENcrQM2JnxQB7QbBX9RkUCJTGfUbJvYraKb4/i3op34f6OxZvFmbuL53CN7YBvkNe6FGG3TxKqi9AebpFXsiOnqMCzbSbDnTjk6mz1BmzlaRuJ6mVdiOCJmvyjOvJM5/rLKq5KzOYqDjA02/WFzvTTGgE/VGDHahtpcnes86q5xxfRZbZ/+21crWr2qIACigvWGmbfS7+SrLpIyRndcWAAAM9A+BqGfietvjOk7QBNqbpu3WzKkxohkS159cqjOHlBZi+Fhc73LqWt1xfd4Y3pbxKmwpAzrGrLhea1MFrXJzYs0gnh7XtwNCUEcMb4PyTKUiiYHIfh4a9zrQT38GuHUduS+6cQQ8uANutoH1rdlz0pQHOvcQsH1+8KN5+43Mm9JCWIG4fiTpmP/WVCdPXD8aw+dcJ/gBoD1TuZy3TZNieGudtGoeh/ONovLSClsOozfJYFuZqpzbc4Qccb03o0ptq2WESixjAoM7M30Tc0f9dJrNzA8BQTpIyFu01QnQ3QP7DaC5BrJtt8oD2lvG+C6IU2dEMySuPzk4u9dgLK5PaiqT1xXXG9wIjVZhXTAa12utEcb5Y3hbJsX1tcfwttBInBr3Z85DY52AX3gK/NyT5tEI5qfFdPtdoN8zcX1r7bjB3D4HOvcwoFQh034kUCdYnfSldObG9UUqbJMWQ6bSlMTTq5azYnhbDcDEwUlsDOn4/sumeZSpdh0x2DrdnknHKWc1cypz4vpsv1V2jjqO64PmMNWIo+PvG43hUWJV4hCIQ3BjzdwkOGv/tDdN2rLgfu7UGlHgaFwfSnX01GIqMXqljr+jLrVe0s4xKjAXtAiJZngeYb25wBjeFiIgaAFeFtcfNTl852Xor3wK6B1WKMrA4e4wrg+aQGvd3A3fbM+M4W0xHx8Z3owZqnkxvL3OeFw/clOOUvmroNOF0mVOiOtH4+QqdRrp/NHM7OSJ4fPo+cGEuL5KY5gxFtcXiuFzaJkFV7xcDOeuttJUo59Os1ETbhargrADxFlcP3bTUdBKY/jleM7lqTaiGVlc33f4tAph2TFzR1eLJTdT1tR3bBo+lt+EjqLU8MIWdsFxCP2F/wDcfcWdZhIDu3eB17wd6vyVwQ1qVU5fGBjO0bg+RwyfW8fzwaxdxi/mq+ebf7t81BMwNJ9V340+rqM8Y9p14j7qAQ8NtfMKnqvqaPpVeel5GzmOxzTQ3Qd7DTNo9AJgbeto5XUJWA47LAiCsAwsWxRvi+cDrQ1g/4FbE5qxtgl1/goAd/NnCQB4eAOeqyNzZLlVV6WOiaWDqlp0qB6dzFS7PneyaQUn9RwdJe984LIkoamCbu4snQkFxIgKgiCsBkTVR7CCIKwGjebSmngxooIgCIIgCMJCECMqCIIgCIIgLAQxooIgCIIgCMJCECMqCIIgCIIgLAQxooIgCIIgCMJCECMqCIIgCIIgLAQxooIgCIIgCMJCECMqCIIgCIIgLAQxooIgCIIgCMJCECMqCIIgCIIgLAQxooIgCIIgCMJCECMKgBmI9aLXQhCqhhe9AhVR33Yk2vQHgiAIQj2ceiOqGQgTIJGLzymGQURQtOj1qA7m7OWmYTMzmBmJ5sG/Xen4Xj0HxlOAIkIvNgPTE2lIT+I6C4JwqvEXvQKLghmItDGiwnJD5M4UDA0UQxGBwM4HJeTIV43vIwZASLeRAEJ5YWZj2hlAnGijQUCgVHqczO+r0AHM+akZ8L303w6SCwLQDBR8bzgujxIgBtDwcXIGKDoBdFSPVhIDqO54CycZQj0joDov1jW06bpPm6gP+E1ALV/9cfnWyDFZDN9PxISeJIiqNXDTqnhEBF+5qY5WvQ2jTDPqnL6GfXjxRp/tryjRiFITmmmHiUaUzm8pUx3NPssAYs3Q6fdEBE8RfK/afdjwFdaa3hETOlgXAP3YJCZLXR1lBvodoLMLbJ4FPfE2wPPh9EoX9aFffhbQibNqOAB3J8xksXpkvKAeLVLm5RpVk47W5pXFPScZ5rQrrqMdELB+xgwYe/tA1Fu6/XeqKqKaTaVjuQ6BkIfsulT8PMrqhLPJqqOMagYsLq+nNvuCkVav0u/yVLEyo5GkUfw0EmYkMcNXhMzXFdGJR0zuOESUVkcZSWK96GN4CmgGHpTF+iXavAIP8BwOJnLDDMQhEHYGjYCIQFdfA774CPSznwdufA2VV6w2zwDb5wBOwDefB23ugDfODPQrx2UkMhQBKZW2QQbY0U0DyjeJgvJNBTsJHYgQ4AWgtPLFOgHiCE6ufKSMEfWQbk/k9ljpxJhRr+IR6YB0ma7aXLZMrd21sVFa60Brc9AWAJjKaBwCQdsMWJegQzsVRlRi+NWjSD8xGsPbaZgwu0xcX3cFdO7nYB/XD2J4BmI93RyOE2tjWAPPLq4/GsPbqSgikMe543oioOmriRXQeSxVXJ/EQP/QXJgnQI0mvNe/C3zlMeivfBo4uF9es9kGdi6CgubwZ6zBe3eAzi5o+yLQWnMT15cfgU5b8JGT1Kw3gUGpUahIj4xxyvYLEQGeD1aeMW86rkZH+YDyjux/Uh44UEYjqUiHFMb3HZRnfp4ZUmew2Q5NaeUfFXW0Y9vjos0xTzhnM80KdfwGsL4N8oLp6xF2THtptMyxWyArbUSZzU1Ickf8amLbT5SNDokIPhmTZDuYWXQFdObn0680KA4frxKPxvC25nBcI0w0PE3wPZpoTkbnm86qtE6DiOARoIit7nZv+AqBR6VMUhbXewoI1AKKCaxNDB/bVdJoawfqnX8cfON58DN/YP25I3gecPYi0N6Yvu/iCHz3JXBrHbR9Aez57qqjQAXmYKTyNVGGAPLMecAlSu9pPD5tXxAR4DfA7JtjU7RKRspUQWfpeIGpxJbRAaXbNOXYpgYbA4NdYt/Ng9lUepU3nPdYqM3NiTnKVkcHVdB5c3wqSC5IAevbQNCyO/90DPQOjHENWgurjq6sEZUY/vQw+dqUzsGp8MSyjeuX2YQeWRaOx/W2Mbwt0+J6mxjelnlxfZ4Y3pbRuN6vY6Y9MxD3gX4XeXs1IgI99CrwhYfBzz0JfvGr9hfXrR1ga+dotDeL3iG41wE2zwKbOwP9yillDuznV5iBkof8cT0dq0zO1lFA0Epj9BD2x5gAPzCft9IhIGgWi+spRxyeGmxobaYfOI/rkwIx8+zByNG3FhgAFYrhS1RHWxvpYLFAhxSHpj00WmYOc82GdGWNaOhwICYsJ6PXpmEKX20HOCuuX7YY3nr5I0J5Y3hbRuN6gHPF8LaMx/VlYnhbosTE9E6j+iQyVdCS1SXyA9ATbwM/9Bj0Vz8NPLg9/c3tdeDsRZA/JdqbCQP798CdPdD2eaC9uSRxfbEJvrnjeuUVMwPIYvRWGqPPibe9YGa1db6OZYw+KYa3RSmAmjXE9cgZ1xfcnjxtbmIMby2ULWT+W4MmsLYN8sraOQbCLqBCoNGuNa5fWSMqnE6cTSU7pkPwUjO6BHO9S8PMiBxPomaYqN88PcDNTsvi+qZPxpie5IPDDPQOK7+hhda3oN76TcCdl6C/+hkg7A1/6QfGgLbXywslMfjeDXDTzB/lzNRSFQ8SG2HuSZ+j8jVTZk5cPyeGz6XjBWb+aBwd11Le4Kan8jqj81QnzF2cFcPbC43E9XF182EnMYjr1dBIHVn/ggZ0nFkVeU7jkkqG8zPieuWZeaBBqwKdEXRi4novMIa0hj5UjKgglOAk+5xVhk66CQWMOXByV3VqQi5chdq5nN5d/zywuW0e/1T1fut3wbeeBzZ2oLbPVbvsUSaag4qMxxGZ8bg+Xwxvr6NGYvRwYOiKVlun66TzVLUeTgvIE8PbC5mBDnvmzm2XZI96GsT11QxGjjA6ALKeB1pIKP3Kw4FBcx1orbvt45II0I1hhdkhYkQFQRCWkRqe9UeeD3X1NWCH0xcGdPfMY59cMrgwux2EZHF9JRXDeVrKM/GrY0gpsOfXECel1UqXNzJlcHojpstjROmUjTLPk7MTMjekbTk+hxbAqXugvSAIgiAIgrAciBEVBEEQBEEQFoIYUUEQBEEQBGEhiBEVBEEQBEEQFoIYUUEQBEEQBGEhiBEVBEEQBEEQFoIYUUEQBEEQBGEhiBEVBEEQBEEQFoIYUUEQBEEQBGEhiBEVBEEQBEEQFoIYUUEQBEEQBGEhODOizz33HL7ne74Hr371q9Fut/H444/j7/7dv4swDF1JCsIAcvznhY0IoMj1X7U2Gp5jESKg4Sv4yq2Q7xECT8GlTHbcmRkM93+vXRAEQSiO72rBX/7yl6G1xk/91E/hiSeewBe+8AX81b/6V3F4eIgf+ZEfcSU7IFBApJ3LCEsKAWCMmhJHOmSUCICuWINw1OT6iqCZK9dRBBApMDM8RfAUIU4YSYU7zVOEYMR9+kpBMyPR1VrFbP2ZeXDwMwVyMGTwlfuBiCAIwipDzK4u0cf5yEc+gp/4iZ/As88+a/X+vb09bG9vY3d3F1tbW7n1mIFYA4kURU41WROvrKVPcB7MDCJjgMoaxVEDSmNl3WxbNKO0gSOarJNti9aMSOtS+00REHhqqg5gtqWs6VVkTOi4xiSqMKRmu+C0sos4BHoHDgUAjiPwy88Ae3cBPwCChpsogQi0eQ60ccYMENOfuaOG4QERQGmoyI6rHqQAMKA1yp/50zGnIQM6cTd6z4QIQBwZLdd4PqA8d20uq3oksdvt8TwABDTbQHMNRI5nVzbXzb6zoIxfc1YRncTu7i52dnam/r7f76Pf7w++39vbK6VH6cXCYyBKXJ6+wjJDRAAzKK2UuehfR82PMnKF2psaLGtwuZ6gw4M5NUUGWYRhfzzJtGU/IwIankLCjLiAUOARfKUGxnaajgJDESEpYOKJMJhOMM+AZjC4lBlteFkVufAi7PACIGgCUX/+e3PCzMD9G+Abzw8vnHEExDHQaJiLT1Ub2NoAbZ83RuDoSpivle7IQcM+qlE1o6aGeWgUq9YjNaIDc1y0BtiF2clGpgTyFFhrQMcOdACotAcLmqb9xaFb45vEQJKYwZaq2rzRsFP1fGMW47jawUk21ywz8P0OEHbBrU0gaFr3fbnwm8fPWUfUdrPS008/jR/7sR/D937v9059z4c//GFsb28PXteuXatEW5G5eARya9bpZeRELTx/dDwrnyhD6StftYwwfjLO+jANOh5fUS4dRYBSlO6DOZXDdFs8IjR9Nag4zsNThJav4A0M7XwdwMT1vrK3iL4y801tNMZh5J8/6iug5QOeqsGEAkakuQ60twBVXc2AD/fAT38W/PKzE6o3DIR9oN8tX9nxG6BzD0PtXAaUNxzgHFuhKgwIDU3b6MGp+kCROm7SB5pZhbQCTRrZntGfZV+VP6zGVsLw2AwUicxgqEozMqnzJQUELaPlFDaGN6rK9GbHnI4eG1ImWfADVNIWlDKv8X3HDHT3gMP74CQqrzPQ84HWJtBo1dTRFYjmf/AHfxB//+///Znv+dKXvoTXv/71g+9feuklfNM3fRPe97734ad/+qenfm5SRfTatWuFo/lJSFwvADni+jLnYTpPcVZcPyuGt5eZH9cbY0xTq5M2GvPi+lkxfB4dYHZcnyeGt2WW/a0lhp8HM5BEQP+w8EWUoxB84zlg97b9hzwfaDTzXZBIgTZ3gPVt822uz+bdyWMV0HkUNSCjMbyNFnPBitiYqZmnAaQDhjIXtNk6A4ug43IGznZ74nDJ43rLSsbo8UkKVJaJ8lVvg5ZJH4pWfEkZ81lwQFAmms9tRG/fvo27d+/OfM9jjz2GRqMBAHj55Zfxvve9D3/oD/0hfPSjH4XKsZPKzhGdhZa4XhgxilPPggrMx6jpHZWZF8PnVBn2eyM682L43CqpIY21PhLXz4vhi+gAOBLXF4nh8zDJjNYWw9vCDIRdIOrZf0Rr4O7L4FvXi8eFQRPwLeL6tS3Q1jljRsvsNKvP5jShGbkueSNmoJBOjrh+vAKaS0vnNG95EwTzidxxfdHt0YmZKuJ67i3ItGurqm/J9pZE6RzfeTI5BiPHPwy0NoBGK9/5F7QAv9z88FrniF64cAEXLlyweu9LL72Eb/7mb8Y73/lO/NN/+k9zmVDXZHG9Zrm7/tQyFtdn8/TND6qUyRZm7q7PpvmMZGBVqKRTiMyd7zrt/KozuhhZHuARwfONjndkP1anw8yDu+sBM6WgKqM7idG7632V3hG/LAY0gwhorhlj2O+Yi9sMeP8++JVngdDeuE4k6htj0GimN0yMETRB2xdBjWY1x2jkqQfHKTkyyObazUOpcvF31qkM9KbFIiMRb3ExE6mytjBv+XWOxfU2xrfUMUqrc0lsKqTOYNOuKUkHWtOOd1FjOPIZvzGsjk5rf0UHPQMY6O0DYQfc3gL5c6qbXpBG8Iv1Zs5uVnrppZfwvve9D48++ih+5Ed+BLdvD+Ogy5cvu5LNBZF5PqMiUx0VP3o6yUyP+catTuZCXTxKaKCB8c1wUD0cMYquGL1pavxnzjQBNP0Fx/A2KA9ob5qLaP/wmPngsGcM6P796jRZm7mjnpfG9crM/dw6B1rbGpxDlR2jYzczlTAD44zPtRv/XVUX5iPrSmPHqUzla5pOap6nxvXldLJjy1BmsrROJhvfqrZHeUCjbQZcReJtW1ibuaPKG5sDXHEcQuqoIc1QFY96dWLmjgbNNK4fGzySMvvV8o541zhbi1//9V/H008/jaeffhpXr1498rsanxhlBaVzwPo1TEsRTjuuLOi4jHsV16ZwoDO4m9c9C58Lmhc/ALxtE9WHXTPN5NZ14PaLcDbxKEmAbgfYuQw6c3HQ1py1h9EHArvQGFQsS8TwNhoAQF5q3BxtT7Y8zx8xiY4GogDI88E6MZGzi8M/2J7A7Lu4+idIHEEn5hU0y02VmMaowSY1Ms3B0bkT9YGoD25tgJpr5meNdro/l6ejc1bO+O7v/u507t3xlyAIglARRObisnYG6HWA29fhfPZ70ITauQxSJeeC2pDNmXOpk90Y4lrHiNWjw9VNyZnEcMnsUiYVI0ePrJqA8tw+cxRIjz9G2rY7KQBA78BMDGtvlp4L6oLlmbQpCIIgFEelsV8d1HkhW7KLZmlWbXtWDss5xCcNv7HwuaDTWM61EgRBEARBEFYeMaKCIAiCIAjCQhAjKgiCIAiCICwEMaKCIAiCIAjCQhAjKgiCIAiCICwEMaKCIAiCIAjCQhAjKgiCIAiCICwEMaKCIAiCIAjCQhAjKgiCIAiCICwEMaKCIAiCIAjCQhAjKgiCIAiCICwEMaIwf1Y21oteC0EQplLTn36O9Wr+mWlBEIRl5dQb0UQDYQIkcvE51RARaNErIUynpoPDDPQTMaSCIAh14S96BRYFMxAlgBRChQwiApjdFt8IIBDYscsZ9W2ulBSZfcbMzkwbjRlQV9tCSI9/SqyBBICvAO+kDNeZgThc9FoIwgmHj3c8q0ASAdxcym07KV1sZWQxfF9MqDABIoJyVB2l9H+ZjiuI6Oir4uUrAjxFg20wOtX3b0Tut4Vw3IRmMIAoTUyWujrKDER94PA+0GgB2xfca4Y98MGDdBDieOfomsrTzEt+oHOivHp0qAYdZkD57k0UM5DExrRl37vSYZi27VIno9EGdAL09ofbtkScqopootPIbdErIiw9WXUUqKa9TLJQmfmp6kI+zdxmBo5LVnuJppu24c/SfVZCKDOgk39XzbYA07dlHJ3G9b4CPAeGuxRJDPQPzVcApBTo6mvAO5fBrzwD9DrVawZN4MwFQCmgd2jMr+eDmasfYJGqZ4fXpVMnRMaMMgPsqOySDhBZNYyp0nH1GllnQgD8VMeVmWIGOAH6sTG+jRaACtsGp9XWJALCnjkupICg4cbQewHQ3gR5/lC/3xluW12DlTmcCiOqGYilAirkZHBRLWF6bGp4ZQ2p7cW/jLlWM8zh5HXJH9dnH7XWKbgttgZ0nKWK61kD/S4Q9Sb+mtY2gcfeCjy4Bb7xnKmGlEV5wPY5oLU+cm5ooN8Bez4QtMCoqNpPaa3atTmsS2egN/a966pIFlUwpdW3CgVHYhACAM8DK2UGRVUZX2YcWWciwPPMICiJq2nXgFnf8f2jY6B3YMxv0BrqF9bg4XmbjBh21saUer7RKqsDGHPb2gCC5uTzcbBtTTOwXPAgbKWNKLO5CUnuiBfKUKQKVyREzuZb5v1MofdbboutAZ2kY7yinSGdVQWdpQHAeluypZcxSllcn2gg8BbQf2cxfL+DeaaCiICzl4Ctc+BbLwD3bhTX3TgDbJwBqSkOPImB5AAImuD0Ylp4P69iFXSaDKGeiC4zcAPDVXJZMxIL+AGYNRDHKLRxgw5jxmdTHbBndIoY30yH58y9iUNTwQxaxihmVc28OmEPiPvT35fE5uU3jCkFirXP5hrQXLc7/+K+2b5Gy1RPF2RIV9aIJtpcMAShKmyrcGVmMtpWR8tWneaZ61kxfF6dWXF9EQM6SWPeQKGKbRlFYxjX+3VVR5PIROE5q0Dk+aCHHgOfvQR++Vmgu2//4WYb2D4P8gO790fphS1opYYkR1y/igYUmG5Cx39fiyFVZnRZJK4fRhYWb1VgPzAaSY643saEHhFKY22d5DO+2fbb7gNmIOympq1tF6NnhjWOgKhrP19pYHyb+eJ6vwG0NoYxvDXptql02xYQ16+sERUTKrhgVhWuyltpphnSqufgTTLXRaugMzVShcF0rxwxfC6dsW2p2oCOE2uzv5RLX6O1mQda8o54aq0Dr34zsHcXfONr5gI5Dc83BrS1ll8ovWhzWmlhqNnH4LTE8LbvX8a4vsDdiEQEkAcmZYzivAHUeAyfB+UBQaozz/iyLh7p68Q+rtcaCDvFtJhNBVV5xmjParekzDzQoJlfZ5TxbatxsLayRlQQXGJMT006NWk4NVMYxvWuNYD8HmApYTZzQPvV3XBERMD2eWDzLPj2i8Cdl3G0IROweRbY2C7f9nRiKrh+A5xeJI8ukwoZnEIsQwyf9/N1GFIvvZlpmlmq4PgQkbmZbTB/dGTD8lZAZwuZAZTyzCBrtNppG8PbEodGI2gendeZmemwV82j1HRi5pT6gYnOM52M1jrQWKv2OhGHw8pvtm2OESMqCIKwjCRRpSZ0FFIe6NKj4DMXwa88Cxzumova9rkC0d4csot2I43rYaJbMaAWy6tr/uj43fU5Ynh7GQX2RuL6MhXQ2UJpXK9N28sbw1uTDhTjkUg7Do0JrXq74sjss6xS6TeB9gbIZYweds021RDVixEVBEFYRmp4piU128DDrwHv3Zl+I1IlpDdZBU3j15yXxtNtOakmdHy5dcX1emzuTOUyaVyfFLyRKQ9Ze3bxSKlRWJtI2zXZc263zpuBXB3U9FxdMaKCIAinHLcmdFSoLmO4RDcjnSTqPD51VXtXjNpMaI2s3hYJgiAIgiAIJwIxooIgCIIgCMJCECMqCIIgCIIgLAQxooIgCIIgCMJCECMqCIIgCIIgLAQxooIgCIIgCMJCECMqCIIgCIIgLAQxooIgCIIgCMJCECMqCIIgCIIgLAQxooIgCIIgCMJCECMqCAKA2v6ssCAIgiAMWFkj2vBW608AC8uJ6z9lnC2fatQS7PEVoGS/CYIgFMZf9Aq4QpExowkDsV702giryMAkjhgRF1VFlwZRzGcxFAGBOvn7j5nBu7eAezeB9S2gvQFyuFHc7wCeD3iBMx3WGkhiQClA+Y51IqPjOdRhDcSJ+caljtZA/9B802iDlJs6FScx+PZLQBwCZy+BGk13Oi89Axzsgi4/ClrfdKOjE+C5p8B3b4Be9QbQ+cuOdDTw5c9Cv/AvQW/7RtDr3ub0XK2TlTWigLlI+AR4BEQa0BI9Co4hAFU0s2n9S/ZzidEXAwEIvJqqoH4AKB/QsZPFc2cf/PLTQC81H2EXONwFn7kACio2B0qZFyfGVCUROGiCVHWXIGY2BjQ7AxMNJAnYD0DKq1Ynjsy2DHRisB8AyqvMHJjtSQCdDH8Yh2DlA0pVqxP1zPHP6EbgoAUEzWp1HtwG33lpuE2dffDWOeDshcqOETMDd18BP/dFIArNz/bvg89eBF15NShoVKIDAHz7ZfAXfx/omnOI794EX3wY9Pq3g9obFeq8Av6d3wTu3zbfv/BV8NXHob7l20EXrlSmcwTlAxWeN7Mg5uW9pO3t7WF7exu7u7vY2toqvbxEm+ro0m6wsDIUOasoc7E5+/3CWkIufGUGtbXuO2ZTOeofVjb64DgE33gOeHBr+pvWt4GtnfLmQGVlY5rcrpWfmp3i1TdmBlgfNWzjkAL8oLyONiZ6ug4BfqNUNdHopFXd6UKmOlqyaslxCPQ7Zv9NlCGgsVa6EsudffDN54GwN/kNygN2LgMb2+V0DvfAX3sS2L8/RUeBLr8KuPBQubbQOQB/6VPA7ZdxrPyQtffH3gB69RtAXvHBFncPwZ/698AzXzLLHe0DSAFg0Dv+COgbPwhqrRXWOQIR0GgDXpDrY2X82qkyooA5jhLXC3Vie4YV7X9dL/+0sxQxPLOpWI1WrXIvQptK0c3npxuPUUgB2+eAta385oDImNDs3/Pwm7njemNAOV/FWPmFTBXrxFRBbcsYykuNb16d1IBan9TFpgWwTszgZqbZHUH5QLOde2DCcQi+9SKwf8/uA802cO4hULOdUycCX/8KcON5WOVSzTbo6hOgzTP5dJIY/OwXgWe/mP7AQucN7wAuXs3XtnUCfOkPwJ/9nfntgcjovO9Pg77u60sZbARNcy4W6OzEiBaAWeJ6oSZ4drdYlcGZdyaLEc1HrTG8LToxUfqsqtwE+OAB+OVnihnZoAGcuQhqtOze73nFGhsR4LesKkjHYvi8eHYxOmcVaRvjPgnLuH6wPbqgjvLsdcKuieKLEDSBoGWho4F7N8F3Xy5Wyd84A+xcmtsWmBm4dR38/JftTfUo2+dADz82t20zM3DzuqmC9gvsu52LoDe8E7SxPfet/PIL4N/9TWD/QX6dS1ehPvBnQQ89mu9zng8E7eHgsQBiREsgcb1QF0dSlYIxfGEtIRcLieHzEIfGkM4xSBz2wDeeBfYsK1KzaG+aC/c0c5DF8GV3mvKMIZ1wURzE40WN4SikTBV2qk5czNwc0yFTHZ1QTbSL4XPg+dN14hAIOxVM8TAVuGkVbD7cNVX3dH5mcRkF7FwENncm6+zfBz/7BaCzX0bE/P/SI6ZqOakt7O+aeaD3Z0xlmStDpr9/9LWgJ94M8o/H3nywB/693wZeeOZ4DG+to8y58eb3QH3Tt4LW5/gmUmkMX36uthjRknAa1SdLuyeElcKhAa1VYwUhpI9+Own7jtnMuQs7x3+lE+DOS+Db16u9s40I2DoHrI/M5csbw9viNcx8SyK7eaBFUd4RU2Vi+JImaqKOGmyP0dFAXKKqOw2io9uTxGYeaNU3vSnP3F2fmhgO++BbLwCHu9XqBA3g3BVQe32o8/yXgTsvobrbQ2HmKl993MyNJgJHIfjpzwPPf6W4MZyo0wC97u3AlVcZnTgGvvD74M///9u799ioqn0P4N+159mh7dhCgRZogSJUjxe4BygPMVKpojEi5or/GC1IiJBiIKg8TEhjogGMiUZCPCQmxRgIGLVUjR7hcngcL5Z3j4iAUpFCKxQofTClM+3sdf/YM9XS1+zp7O499PtJJtphpr/frJnOfGettWeOaDViUUcogN0O8dCTEP/9EIStky0VDjdgd8bsb5ZBNAakBPwGPMcRUfywK9oprqhBLWiEwpNsuKEtwxsRpsLsDiBlKERC6AAJw5K7dvBPTANHVxS7FnZjMdvabZ1QKDD6pVco2mOg1W9oGanYgVt12keAGXgfSU+SNstaVRHawmBQrQFe7fH9289Ai459wXolpwL3DAZ+OgY03TKmBgCkDoby6HyIrLHazzYH4HSHDnaKnd7ktXh7yiUior9SbNqyeUIyZLMPsvKMsSEU0EJUgkd7iTZ0+jg8Q9QH8yVqq/EhFNBCVF/M/wSaDA+hAIDaK9rJ6PvoWhVw6ZfQrLiBtW5cAc6Vh7YWGFnnKnBkP9DkM64GANy8BnXnZsiGm4A7EXB5Yh5Ce+uu/hxRIqJ+w+7QlrP7Qgw/L7NHcbFPwoL6arHTiO0S/aFOMFzH4Psp/DgIqn32uaB6WSsWExFR9JjZiKhT1n1yYBAlIiIiIlMwiBIRERGRKRhEiYiIiMgUDKJEREREZAoGUSIiIiIyBYMoEREREZmCQZSIiIiITMEgSkRERESmYBAlIiIiIlMwiBIRhfXRtyISEZGGQRTaV7G29NHXyxKRdbVKQGUYJSLqM3azGzCTDL3otKhmd0JEVhEIAjYB2BVAWPfrmYmI7gr9NoiqoVlQTn4Q0Z2CEggGAYcCKCJOAqkMNU1EdCe11ewOutTvlubDy/ABhlAi6kGLqj1XWH65Xg0Cfh/gcgHuAcbXa/FDBvzG1wEAySWrqNgcfVPHkwSIPogSbo/xt0kIwOkGnK4+qOMEEjzG1gkbNhrwpgLNPkC13t9Tv5kRlVKb5Wi13n1ARBYmYeHleimBlmagNQAAEDYHMHYycKMa8o/ftIAaazYHREY24E3T6jY3GhQWBeBOBJwJQLAVCNw2LpQ63IDDpY1XoMm4F2u7Sws6UgUCzcbcPwBgswMJidrtuN0AtBj0psHhgkhOA9JGQF75Hbh51Zg6nmQow7IBuxPyt1OQlWe182WM3yEOSIYybgqQlAJ55hjkqUPafRXrOp5kKFNmA+kjIX8sg/z3N9p9FMs6QgAJAyAeeQbivkkQQmizos2N2uPQ4bLMk5mQMtYjHDsNDQ3wer2or69HcnJy1L+Hy/BEFCuWWK6XEgi2aGGmi2c22doCeeUCcKMagOjycpEJ3di04RCDMyFsf85hSCm12Vi/rxe//w4ON+BOglD+nGmTUmov1i3NsatjcwDOhI51WgPdjq1uih1wJUAotvZ1gq2xrSMUwOlud/8AgGzxA031sQu+ig3weCEc7WcOZVMjZPV54Pat2NSxOyDSRwPeQVqQCtfxNUA9exSovRKDIgKw2yGyJ0IMGw3xl9ld6WuAemI/UHlO+4PvTVwSAlBsEP81HSJnUvu/ods+qP/3T+A/ZaE6vXgjFOpf5OZBTJ8D0eXsrtDe5NnsMXky601eu6uDqAwdiGT5ZTUiiisCgMOmBdI+Fw4vMrJQIW83Ql7+FWhqiL5mYgpExhgId9dLiTIYmm0Jzc5GxWYHEpK1md2u6qiqNjsabIm+jlC0YNhdnfCsZW9ujwi/2DvaBan2dUIBuzd1AG2mtac6fl8oJEb7oii0mVbXgO7r1NVoM/LBaPclitCbnuHtwnuHOtcuQz17DPA3RVcDEhg2Bkr2+A6hul2tq5VQj+wBGmqjKBMKsFk5UP7+MIQnqZs6VVD3fg78UQndbx7DdUbmQMn/H4jUwZFdT7Fpj9EuxjlSDKKdCKo8Gp6IjNWny/XhYBRFAGsLB1Xn9V3f4YLIGAMkD+wyeHSo1eLXloP1zOoIAbiTAIc78jrBVi2A6J09ciYAdmfkddSgVkfvbKLDpe/2qOHlep3hze7U7ic9t+d2oxbm9XC4AU9yl8GwQ51gK+TVSuBGFXSFqqQUiPTREK6EyOtcPAP5209ajUgjjXcQlHGTIZJSIqujqpC/lkOW/1v7G4q4zkAouY9CDB4eWR0pIc+ehNxXCjQ3RV4nOQVK/rNA9t8ifiy0Y3dq93GUT2aWDaJz585FeXk5ampqkJKSgvz8fGzcuBEZGRkRXb83N6zZugeIEdFdxGn0zGh4qTgGS9JaOLgIXLscPqfzCwoBMTgLSBvRbtk64jpSauHNH8ESrdMDuAe0WxLVVac1EFmosjm0WdBo6wRbQvtUe3jJtNlDy/3RzTDJtv2wPdRRbNoyfLR1WgPacn1Ps5aKHRjghbA7o6vT7IOsrgB89d1f0OGCGJYNkZQaXZ3bt6D+cgKouYRug6/DBTH27xBDsqIKbLK5CWr5QaDiVNfL9UJo2womPgQxZkJ0f0OBZsiy/4U8djB0RidvuIQCKArEjDkQU/Ig7L09mEu0zazrDaSWDaLvvfcepk+fjvT0dFRVVeG1114DABw6dCii6zOIEpHVGRpEDTpIRzY3QVb9Cty62fEfvWnajJTT3fs64dm31k4OlrE5QsvwvT9mtttldEUBnJ4Y1QkdHNbZwT8RLPfrqtMa6OIgo3BYsEc383VnncDt0Az2HVFACCAhWQvVsajTcEMLpHfeR0KBGJIJDMyIKrB1qHXjCtSzR4Cmxr/U0PoXmTkQI/8Wg8AWqnNkN1D7lwO0wsF0zHgoE2Z2u5Ul4jq1NVD/tQu4+Mufvz/833EToeTNg0iObFY3YsLW9hiLlGWD6J2+/PJLzJs3D36/Hw5Hzw8EBlEisjrDgmiwNbYHAN2hLRxU/aoFHlcCxLB7IRJj/KKG0Ozb7QZteVsoQEISYI98OTniOuHgrgbRFth0LMNHXEcNAv7bfy6jO93G3J627RihOjqX4SOuo6ra/t7wXkuXp8PBYrGpE4S8djk0aym1g5DSR3W7PzO6OirkpV8gK/6jjV3qUCjjJkF4oj/oudM6UkL+dhryxD7tfhqYDiU3HyJ1SMzroOJnqP8qARrrgNTBUB59DiLr3pjW6cCdGPHe0bgIorW1tVi6dCmqqqrw/fffd3oZv98Pv//Pd4D19fXIzMzEpUuXGESJyJIMC6KRLjn3kgwGtRCSkBzzgNOuTvgo8RjM5PVYR1UBRUS1DK+rVjDYN3VCHycV62DYoU7oCxGErXcHrvRYJ+AHZCuEy9jP0ZT+Zm2fZeI9xj7mWpqB+lpg4FBj67S2Atf/ANIzo96SoYtrQMSzog0NDRgxYgTq6urg9Xr11ZEGW7VqlfR4PBKAnDZtmrx+/XqXly0qKpLQNnbwxBNPPPHEE0888RRHp4qKCt05UfeM6Jo1a7Bx48ZuL3PmzBnk5OQAAK5fv47a2lpcvHgRb775JrxeL77++utO3zXcOSNaV1eHrKwsVFZW6k/Y/Vj4nUk0M8n9FccsOhw3/Thm0eG46ccxiw7HTb/wCvbNmzdxzz336Lqu7t3br776KhYsWNDtZUaPHt32/4MGDcKgQYMwduxY3HfffRgxYgTKysowffr0DtdzuVxwuTruFfF6vXwwRCE5OZnjphPHLDocN/04ZtHhuOnHMYsOx00/JYrtI7qDaFpaGtLS0nQXAgA1tM/lr7OeRERERNQ/GfZd84cPH8bRo0cxc+ZMpKSkoKKiAuvWrUN2dnans6FERERE1L8Ydgiex+PBF198gdmzZ2PcuHFYtGgRxo8fjwMHDnS6/N4Zl8uFoqKiiC9PGo6bfhyz6HDc9OOYRYfjph/HLDocN/16M2aW/opPIiIiIrp7GfuhZEREREREXWAQJSIiIiJTMIgSERERkSkYRImIiIjIFHEZRP1+PyZOnAghBMrLy81ux9Lmzp2LzMxMuN1upKen44UXXkB1dbXZbVna77//jkWLFmHUqFFISEhAdnY2ioqKEAgEzG7N0t5++23MmDEDHo9H9zdr9CebN2/GyJEj4Xa7MXXqVBw5csTslizt4MGDeOqpp5CRkQEhBHbt2mV2S5a3fv16TJkyBUlJSRg8eDDmzZuHc+fOmd2WpX344YcYP35824fYT58+Hd9++63ZbcWdDRs2QAiBFStWRHyduAyiq1atQkZGhtltxIW8vDx8+umnOHfuHD7//HNUVFTg2WefNbstSzt79ixUVcWWLVtw+vRpvPfee/jHP/6BN954w+zWLC0QCGD+/PlYunSp2a1Y1s6dO7Fy5UoUFRXhxIkTmDBhAubMmYOamhqzW7Msn8+HCRMmYPPmzWa3EjcOHDiAwsJClJWVYc+ePWhpacFjjz0Gn89ndmuWNXz4cGzYsAHHjx/HsWPH8Mgjj+Dpp5/G6dOnzW4tbhw9ehRbtmzB+PHj9V1R97fTm+ybb76ROTk58vTp0xKAPHnypNktxZXS0lIphJCBQMDsVuLKO++8I0eNGmV2G3GhuLhYer1es9uwpNzcXFlYWNj2czAYlBkZGXL9+vUmdhU/AMiSkhKz24g7NTU1EoA8cOCA2a3ElZSUFPnRRx+Z3UZcaGxslPfee6/cs2ePfPjhh+Xy5csjvm5czYhevXoVixcvxieffAKPx2N2O3GntrYW27Ztw4wZM+BwOMxuJ67U19cjNTXV7DYojgUCARw/fhz5+flt5ymKgvz8fPzwww8mdkZ3u/r6egDgc1iEgsEgduzYAZ/Px2+CjFBhYSGefPLJds9vkYqbICqlxIIFC7BkyRJMnjzZ7HbiyurVqzFgwAAMHDgQlZWVKC0tNbuluHL+/Hls2rQJL7/8stmtUBy7fv06gsEghgwZ0u78IUOG4MqVKyZ1RXc7VVWxYsUKPPjgg3jggQfMbsfSTp06hcTERLhcLixZsgQlJSW4//77zW7L8nbs2IETJ05g/fr1UV3f9CC6Zs0aCCG6PZ09exabNm1CY2Mj1q5da3bLpot0zMJef/11nDx5Ert374bNZsOLL74I2Q+/UEvvuAFAVVUVHn/8ccyfPx+LFy82qXPzRDNmRGQdhYWF+Omnn7Bjxw6zW7G8cePGoby8HIcPH8bSpUtRUFCAn3/+2ey2LO3SpUtYvnw5tm3bBrfbHdXvMP0rPq9du4YbN250e5nRo0fjueeew1dffQUhRNv5wWAQNpsNzz//PD7++GOjW7WMSMfM6XR2OP/y5csYMWIEDh061O+WHPSOW3V1NWbNmoVp06Zh69atUBTT37f1uWgea1u3bsWKFStQV1dncHfxJRAIwOPx4LPPPsO8efPazi8oKEBdXR1XKiIghEBJSUm78aOuLVu2DKWlpTh48CBGjRpldjtxJz8/H9nZ2diyZYvZrVjWrl278Mwzz8Bms7WdFwwGIYSAoijw+/3t/q0zdqOb7ElaWhrS0tJ6vNwHH3yAt956q+3n6upqzJkzBzt37sTUqVONbNFyIh2zzqiqCkD7CKz+Rs+4VVVVIS8vD5MmTUJxcXG/DKFA7x5r1J7T6cSkSZOwd+/etiClqir27t2LZcuWmdsc3VWklHjllVdQUlKC/fv3M4RGSVXVfvlaqcfs2bNx6tSpductXLgQOTk5WL16dY8hFLBAEI1UZmZmu58TExMBANnZ2Rg+fLgZLVne4cOHcfToUcycORMpKSmoqKjAunXrkJ2d3e9mQ/WoqqrCrFmzkJWVhXfffRfXrl1r+7ehQ4ea2Jm1VVZWora2FpWVlQgGg22f8TtmzJi2v9f+buXKlSgoKMDkyZORm5uL999/Hz6fDwsXLjS7Ncu6desWzp8/3/bzhQsXUF5ejtTU1A6vC6QpLCzE9u3bUVpaiqSkpLY9yF6vFwkJCSZ3Z01r167FE088gczMTDQ2NmL79u3Yv38/vvvuO7Nbs7SkpKQOe4/Dx6REvCfZkOP4+8CFCxf48U09+PHHH2VeXp5MTU2VLpdLjhw5Ui5ZskRevnzZ7NYsrbi4WALo9ERdKygo6HTM9u3bZ3ZrlrJp0yaZmZkpnU6nzM3NlWVlZWa3ZGn79u3r9HFVUFBgdmuW1dXzV3FxsdmtWdZLL70ks7KypNPplGlpaXL27Nly9+7dZrcVl/R+fJPpe0SJiIiIqH/qnxvfiIiIiMh0DKJEREREZAoGUSIiIiIyBYMoEREREZmCQZSIiIiITMEgSkRERESmYBAlIiIiIlMwiBIRERGRKRhEiYiIiMgUDKJEREREZAoGUSIiIiIyBYMoEREREZni/wHLtDftdlpWngAAAABJRU5ErkJggg==",
      "text/plain": [
       "<Figure size 800x600 with 1 Axes>"
      ]
     },
     "metadata": {},
     "output_type": "display_data"
    }
   ],
   "source": [
    "model1 = \"PPO_R0_NO_SELFPLAY\"\n",
    "model2 = \"GSDE_PPO_R2_ONLYSELFPLAY\"\n",
    "\n",
    "tmp = df[df[\"model\"] == model1]\n",
    "obs = tmp[\"observation_space\"].values[0]\n",
    "obs = np.array(obs)\n",
    "\n",
    "tmp = df[df[\"model\"] == model2]\n",
    "obs2 = tmp[\"observation_space\"].values[0]\n",
    "obs2 = np.array(obs2)\n",
    "\n",
    "pos = obs[:, :2]\n",
    "pos2 = obs2[:, :2]\n",
    "\n",
    "pos2[:,0] = pos2[:,0]*-1\n",
    "\n",
    "\n",
    "\n",
    "# make hexbin heatmap\n",
    "model1n = model1.replace(\"_\", \" \")\n",
    "model2n = model2.replace(\"_\", \" \")\n",
    "#plt.title(f\"Location of {model1n} (left) and {model2n} (right)\", fontsize=14)\n",
    "plt.hexbin(pos[:, 0], pos[:, 1], gridsize=(10,10), cmap=\"Blues\", label=model1)\n",
    "plt.hexbin(pos2[:, 0], pos2[:, 1], gridsize=(10,10), cmap=\"Reds\", label=model2)\n",
    "# set legend color to blue and red respectively\n",
    "#ax = plt.gca()\n",
    "#plt.legend()\n",
    "# legend handles to change color of legend picture\n",
    "#legend = ax.get_legend()\n",
    "#legend.legendHandles[0].set_color(\"blue\")\n",
    "\n",
    "\n",
    "# set x and y limit\n",
    "plt.xlim(-4, 4)\n",
    "plt.ylim(-3, 3)\n",
    "# set figsize\n",
    "plt.gcf().set_size_inches(8, 6)\n",
    "plt.savefig(\"location_ppo.png\", dpi=300)\n",
    "plt.show()\n",
    "#plt.savefig(\"location_ppo.png\", dpi=300)\n",
    "#fig.write_image(f\"location_ppo.png\", format=\"png\")"
   ]
  },
  {
   "cell_type": "code",
   "execution_count": 90,
   "metadata": {},
   "outputs": [
    {
     "data": {
      "text/html": [
       "<div>\n",
       "<style scoped>\n",
       "    .dataframe tbody tr th:only-of-type {\n",
       "        vertical-align: middle;\n",
       "    }\n",
       "\n",
       "    .dataframe tbody tr th {\n",
       "        vertical-align: top;\n",
       "    }\n",
       "\n",
       "    .dataframe thead th {\n",
       "        text-align: right;\n",
       "    }\n",
       "</style>\n",
       "<table border=\"1\" class=\"dataframe\">\n",
       "  <thead>\n",
       "    <tr style=\"text-align: right;\">\n",
       "      <th></th>\n",
       "      <th>action_space</th>\n",
       "      <th>observation_space</th>\n",
       "      <th>reward_space</th>\n",
       "      <th>model</th>\n",
       "      <th>opponent</th>\n",
       "    </tr>\n",
       "  </thead>\n",
       "  <tbody>\n",
       "    <tr>\n",
       "      <th>0</th>\n",
       "      <td>[[0.7741513252258301, -0.18507781624794006, 0....</td>\n",
       "      <td>[[-2.971194267272949, -0.0044403076171875, 0.0...</td>\n",
       "      <td>[[0.0], [0.0], [0.0], [0.0], [0.0], [0.0], [0....</td>\n",
       "      <td>GSDE_PPO_R2_ONLYSELFPLAY</td>\n",
       "      <td>strong</td>\n",
       "    </tr>\n",
       "    <tr>\n",
       "      <th>1</th>\n",
       "      <td>[[0.427992582321167, 0.5357388257980347, -0.82...</td>\n",
       "      <td>[[-2.984132766723633, 0.0157623291015625, -0.0...</td>\n",
       "      <td>[[0.0], [0.0], [0.0], [0.0], [0.0], [0.0], [0....</td>\n",
       "      <td>PPO_R1_NO_SELFPLAY</td>\n",
       "      <td>strong</td>\n",
       "    </tr>\n",
       "    <tr>\n",
       "      <th>2</th>\n",
       "      <td>[[0.9988815784454346, 0.520369291305542, -0.86...</td>\n",
       "      <td>[[-2.962878465652466, 0.015004158020019531, -0...</td>\n",
       "      <td>[[0.0], [0.0], [0.0], [0.0], [0.0], [0.0], [0....</td>\n",
       "      <td>TD3_R2_NO_SELFPLAY</td>\n",
       "      <td>strong</td>\n",
       "    </tr>\n",
       "    <tr>\n",
       "      <th>3</th>\n",
       "      <td>[[-0.9999098777770996, -0.9999991059303284, 0....</td>\n",
       "      <td>[[-3.0373430252075195, -0.03217577934265137, 0...</td>\n",
       "      <td>[[0.0], [0.0], [0.0], [0.0], [0.0], [0.0], [0....</td>\n",
       "      <td>TD3_R1_NO_SELFPLAY</td>\n",
       "      <td>strong</td>\n",
       "    </tr>\n",
       "    <tr>\n",
       "      <th>4</th>\n",
       "      <td>[[-0.08885730057954788, 0.0619046688079834, -0...</td>\n",
       "      <td>[[-3.003309726715088, 0.00189971923828125, -0....</td>\n",
       "      <td>[[0.0], [0.0], [0.0], [0.0], [0.0], [0.0], [0....</td>\n",
       "      <td>PPO_R2_NO_SELFPLAY</td>\n",
       "      <td>strong</td>\n",
       "    </tr>\n",
       "    <tr>\n",
       "      <th>5</th>\n",
       "      <td>[[-0.061942048370838165, 0.017010178416967392,...</td>\n",
       "      <td>[[-3.002321243286133, -0.0012392997741699219, ...</td>\n",
       "      <td>[[0.0], [0.0], [0.0], [0.0], [0.0], [0.0], [0....</td>\n",
       "      <td>PPO_R2_SELFPLAY</td>\n",
       "      <td>strong</td>\n",
       "    </tr>\n",
       "    <tr>\n",
       "      <th>6</th>\n",
       "      <td>[[-1.0, -0.7984675168991089, -0.41318309307098...</td>\n",
       "      <td>[[-3.037259101867676, -0.0318295955657959, -0....</td>\n",
       "      <td>[[0.0], [0.0], [0.0], [0.0], [0.0], [0.0], [0....</td>\n",
       "      <td>PPO_R2_ONLYSELFPLAY</td>\n",
       "      <td>strong</td>\n",
       "    </tr>\n",
       "    <tr>\n",
       "      <th>7</th>\n",
       "      <td>[[-0.1334519386291504, -0.291684091091156, 0.4...</td>\n",
       "      <td>[[-3.0049943923950195, -0.008409738540649414, ...</td>\n",
       "      <td>[[0.0], [0.0], [0.0], [0.0], [0.0], [0.0], [0....</td>\n",
       "      <td>GSDE_PPO_R1</td>\n",
       "      <td>strong</td>\n",
       "    </tr>\n",
       "    <tr>\n",
       "      <th>8</th>\n",
       "      <td>[[0.46195265650749207, -0.14779751002788544, 0...</td>\n",
       "      <td>[[-2.9828364849090576, -0.0023648738861083984,...</td>\n",
       "      <td>[[0.0], [0.0], [0.0], [0.0], [0.0], [0.0], [0....</td>\n",
       "      <td>GSDE_PPO_R0</td>\n",
       "      <td>strong</td>\n",
       "    </tr>\n",
       "    <tr>\n",
       "      <th>9</th>\n",
       "      <td>[[-0.013781607151031494, -0.7659105062484741, ...</td>\n",
       "      <td>[[-3.000610828399658, -0.03340864181518555, -0...</td>\n",
       "      <td>[[0.0], [0.0], [0.0], [0.0], [0.0], [0.0], [0....</td>\n",
       "      <td>TD3_R0_WITH_SELFPLAY</td>\n",
       "      <td>strong</td>\n",
       "    </tr>\n",
       "    <tr>\n",
       "      <th>10</th>\n",
       "      <td>[[1.0, 1.0, 1.0, 0.14031901955604553], [1.0, 0...</td>\n",
       "      <td>[[-2.9628634452819824, 0.042307376861572266, 0...</td>\n",
       "      <td>[[0.0], [0.0], [0.0], [0.0], [0.0], [0.0], [0....</td>\n",
       "      <td>PPO_R0_NO_SELFPLAY</td>\n",
       "      <td>strong</td>\n",
       "    </tr>\n",
       "    <tr>\n",
       "      <th>11</th>\n",
       "      <td>[[-0.9985194802284241, 0.9988772869110107, -0....</td>\n",
       "      <td>[[-3.0372414588928223, 0.0335230827331543, -0....</td>\n",
       "      <td>[[0.0], [0.0], [0.0], [0.0], [0.0], [0.0], [0....</td>\n",
       "      <td>TD3_R1_WITH_SELFPLAY</td>\n",
       "      <td>strong</td>\n",
       "    </tr>\n",
       "    <tr>\n",
       "      <th>12</th>\n",
       "      <td>[[0.9999814033508301, 0.3348405361175537, 0.99...</td>\n",
       "      <td>[[-2.9628639221191406, 0.017524242401123047, 0...</td>\n",
       "      <td>[[0.0], [0.0], [0.0], [0.0], [0.0], [0.0], [0....</td>\n",
       "      <td>TD3_R2_WITH_SELFPLAY</td>\n",
       "      <td>strong</td>\n",
       "    </tr>\n",
       "    <tr>\n",
       "      <th>13</th>\n",
       "      <td>[[-0.3890078067779541, -0.09619807451963425, -...</td>\n",
       "      <td>[[-3.0144872665405273, -0.003616809844970703, ...</td>\n",
       "      <td>[[0.0], [0.0], [0.0], [0.0], [0.0], [0.0], [0....</td>\n",
       "      <td>GSDE_PPO_R2</td>\n",
       "      <td>strong</td>\n",
       "    </tr>\n",
       "    <tr>\n",
       "      <th>14</th>\n",
       "      <td>[[-0.5246134400367737, 0.9997713565826416, -0....</td>\n",
       "      <td>[[-3.019641637802124, 0.032181739807128906, -0...</td>\n",
       "      <td>[[0.0], [0.0], [0.0], [0.0], [0.0], [0.0], [0....</td>\n",
       "      <td>TD3_R0_NO_SELFPLAY</td>\n",
       "      <td>strong</td>\n",
       "    </tr>\n",
       "    <tr>\n",
       "      <th>15</th>\n",
       "      <td>[[1.0, 1.0, 0.9367190599441528, 0.124916285276...</td>\n",
       "      <td>[[-2.96285080909729, 0.041986942291259766, 0.0...</td>\n",
       "      <td>[[0.0], [0.0], [0.0], [0.0], [0.0], [0.0], [0....</td>\n",
       "      <td>PPO_R0_SELFPLAY</td>\n",
       "      <td>strong</td>\n",
       "    </tr>\n",
       "    <tr>\n",
       "      <th>16</th>\n",
       "      <td>[[0.14670948684215546, 0.007959616370499134, -...</td>\n",
       "      <td>[[-2.9945380687713623, -0.0003733634948730469,...</td>\n",
       "      <td>[[0.0], [0.0], [0.0], [0.0], [0.0], [0.0], [0....</td>\n",
       "      <td>PPO_R1_SELFPLAY</td>\n",
       "      <td>strong</td>\n",
       "    </tr>\n",
       "  </tbody>\n",
       "</table>\n",
       "</div>"
      ],
      "text/plain": [
       "                                         action_space  \\\n",
       "0   [[0.7741513252258301, -0.18507781624794006, 0....   \n",
       "1   [[0.427992582321167, 0.5357388257980347, -0.82...   \n",
       "2   [[0.9988815784454346, 0.520369291305542, -0.86...   \n",
       "3   [[-0.9999098777770996, -0.9999991059303284, 0....   \n",
       "4   [[-0.08885730057954788, 0.0619046688079834, -0...   \n",
       "5   [[-0.061942048370838165, 0.017010178416967392,...   \n",
       "6   [[-1.0, -0.7984675168991089, -0.41318309307098...   \n",
       "7   [[-0.1334519386291504, -0.291684091091156, 0.4...   \n",
       "8   [[0.46195265650749207, -0.14779751002788544, 0...   \n",
       "9   [[-0.013781607151031494, -0.7659105062484741, ...   \n",
       "10  [[1.0, 1.0, 1.0, 0.14031901955604553], [1.0, 0...   \n",
       "11  [[-0.9985194802284241, 0.9988772869110107, -0....   \n",
       "12  [[0.9999814033508301, 0.3348405361175537, 0.99...   \n",
       "13  [[-0.3890078067779541, -0.09619807451963425, -...   \n",
       "14  [[-0.5246134400367737, 0.9997713565826416, -0....   \n",
       "15  [[1.0, 1.0, 0.9367190599441528, 0.124916285276...   \n",
       "16  [[0.14670948684215546, 0.007959616370499134, -...   \n",
       "\n",
       "                                    observation_space  \\\n",
       "0   [[-2.971194267272949, -0.0044403076171875, 0.0...   \n",
       "1   [[-2.984132766723633, 0.0157623291015625, -0.0...   \n",
       "2   [[-2.962878465652466, 0.015004158020019531, -0...   \n",
       "3   [[-3.0373430252075195, -0.03217577934265137, 0...   \n",
       "4   [[-3.003309726715088, 0.00189971923828125, -0....   \n",
       "5   [[-3.002321243286133, -0.0012392997741699219, ...   \n",
       "6   [[-3.037259101867676, -0.0318295955657959, -0....   \n",
       "7   [[-3.0049943923950195, -0.008409738540649414, ...   \n",
       "8   [[-2.9828364849090576, -0.0023648738861083984,...   \n",
       "9   [[-3.000610828399658, -0.03340864181518555, -0...   \n",
       "10  [[-2.9628634452819824, 0.042307376861572266, 0...   \n",
       "11  [[-3.0372414588928223, 0.0335230827331543, -0....   \n",
       "12  [[-2.9628639221191406, 0.017524242401123047, 0...   \n",
       "13  [[-3.0144872665405273, -0.003616809844970703, ...   \n",
       "14  [[-3.019641637802124, 0.032181739807128906, -0...   \n",
       "15  [[-2.96285080909729, 0.041986942291259766, 0.0...   \n",
       "16  [[-2.9945380687713623, -0.0003733634948730469,...   \n",
       "\n",
       "                                         reward_space  \\\n",
       "0   [[0.0], [0.0], [0.0], [0.0], [0.0], [0.0], [0....   \n",
       "1   [[0.0], [0.0], [0.0], [0.0], [0.0], [0.0], [0....   \n",
       "2   [[0.0], [0.0], [0.0], [0.0], [0.0], [0.0], [0....   \n",
       "3   [[0.0], [0.0], [0.0], [0.0], [0.0], [0.0], [0....   \n",
       "4   [[0.0], [0.0], [0.0], [0.0], [0.0], [0.0], [0....   \n",
       "5   [[0.0], [0.0], [0.0], [0.0], [0.0], [0.0], [0....   \n",
       "6   [[0.0], [0.0], [0.0], [0.0], [0.0], [0.0], [0....   \n",
       "7   [[0.0], [0.0], [0.0], [0.0], [0.0], [0.0], [0....   \n",
       "8   [[0.0], [0.0], [0.0], [0.0], [0.0], [0.0], [0....   \n",
       "9   [[0.0], [0.0], [0.0], [0.0], [0.0], [0.0], [0....   \n",
       "10  [[0.0], [0.0], [0.0], [0.0], [0.0], [0.0], [0....   \n",
       "11  [[0.0], [0.0], [0.0], [0.0], [0.0], [0.0], [0....   \n",
       "12  [[0.0], [0.0], [0.0], [0.0], [0.0], [0.0], [0....   \n",
       "13  [[0.0], [0.0], [0.0], [0.0], [0.0], [0.0], [0....   \n",
       "14  [[0.0], [0.0], [0.0], [0.0], [0.0], [0.0], [0....   \n",
       "15  [[0.0], [0.0], [0.0], [0.0], [0.0], [0.0], [0....   \n",
       "16  [[0.0], [0.0], [0.0], [0.0], [0.0], [0.0], [0....   \n",
       "\n",
       "                       model opponent  \n",
       "0   GSDE_PPO_R2_ONLYSELFPLAY   strong  \n",
       "1         PPO_R1_NO_SELFPLAY   strong  \n",
       "2         TD3_R2_NO_SELFPLAY   strong  \n",
       "3         TD3_R1_NO_SELFPLAY   strong  \n",
       "4         PPO_R2_NO_SELFPLAY   strong  \n",
       "5            PPO_R2_SELFPLAY   strong  \n",
       "6        PPO_R2_ONLYSELFPLAY   strong  \n",
       "7                GSDE_PPO_R1   strong  \n",
       "8                GSDE_PPO_R0   strong  \n",
       "9       TD3_R0_WITH_SELFPLAY   strong  \n",
       "10        PPO_R0_NO_SELFPLAY   strong  \n",
       "11      TD3_R1_WITH_SELFPLAY   strong  \n",
       "12      TD3_R2_WITH_SELFPLAY   strong  \n",
       "13               GSDE_PPO_R2   strong  \n",
       "14        TD3_R0_NO_SELFPLAY   strong  \n",
       "15           PPO_R0_SELFPLAY   strong  \n",
       "16           PPO_R1_SELFPLAY   strong  "
      ]
     },
     "execution_count": 90,
     "metadata": {},
     "output_type": "execute_result"
    }
   ],
   "source": [
    "df"
   ]
  },
  {
   "cell_type": "code",
   "execution_count": null,
   "metadata": {},
   "outputs": [],
   "source": []
  }
 ],
 "metadata": {
  "kernelspec": {
   "display_name": "rfproject2",
   "language": "python",
   "name": "python3"
  },
  "language_info": {
   "codemirror_mode": {
    "name": "ipython",
    "version": 3
   },
   "file_extension": ".py",
   "mimetype": "text/x-python",
   "name": "python",
   "nbconvert_exporter": "python",
   "pygments_lexer": "ipython3",
   "version": "3.10.12"
  },
  "orig_nbformat": 4
 },
 "nbformat": 4,
 "nbformat_minor": 2
}
